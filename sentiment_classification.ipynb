{
 "cells": [
  {
   "cell_type": "code",
   "execution_count": 7,
   "id": "657be510",
   "metadata": {},
   "outputs": [],
   "source": [
    "# импорт необходимых библеотек\n",
    "from matplotlib import pyplot as plt\n",
    "from sklearn.feature_extraction.text import CountVectorizer\n",
    "import numpy as np\n",
    "import pandas as pd\n",
    "import seaborn as sns\n",
    "from sklearn.model_selection import cross_val_score, train_test_split\n",
    "from sklearn.metrics import classification_report, confusion_matrix\n",
    "import math\n",
    "import re\n",
    "import warnings\n",
    "warnings.filterwarnings('ignore')\n",
    "\n",
    "%matplotlib inline"
   ]
  },
  {
   "cell_type": "code",
   "execution_count": 19,
   "id": "618fda88",
   "metadata": {},
   "outputs": [
    {
     "data": {
      "image/png": "[encoded data removed]",
      "text/plain": [
       "<Figure size 288x72 with 1 Axes>"
      ]
     },
     "metadata": {
      "needs_background": "light"
     },
     "output_type": "display_data"
    }
   ],
   "source": [
    "# задание палитры цветов\n",
    "colors = ['#567189', '#7B8FA1', '#CFB997', '#FAD6A5']\n",
    "sns.palplot(sns.color_palette(colors))"
   ]
  },
  {
   "cell_type": "code",
   "execution_count": 20,
   "id": "c451d990",
   "metadata": {},
   "outputs": [],
   "source": [
    "import matplotlib.colors as mcolors\n",
    "\n",
    "\n",
    "def make_colormap(seq):\n",
    "    \n",
    "    \"\"\" функция создания пользовательского\n",
    "            масштабируемого цвета \"\"\"\n",
    "    \n",
    "    seq = [(None,) * 3, 0.0] + list(seq) + [1.0, (None,) * 3]\n",
    "    cdict = {'red': [], 'green': [], 'blue': []}\n",
    "    for i, item in enumerate(seq):\n",
    "        if isinstance(item, float):\n",
    "            r1, g1, b1 = seq[i - 1]\n",
    "            r2, g2, b2 = seq[i + 1]\n",
    "            cdict['red'].append([item, r1, r2])\n",
    "            cdict['green'].append([item, g1, g2])\n",
    "            cdict['blue'].append([item, b1, b2])\n",
    "    return mcolors.LinearSegmentedColormap('CustomMap', cdict)"
   ]
  },
  {
   "cell_type": "code",
   "execution_count": 21,
   "id": "a826926a",
   "metadata": {},
   "outputs": [],
   "source": [
    "# задание палитры цветов\n",
    "c = mcolors.ColorConverter().to_rgb\n",
    "rvb = make_colormap(\n",
    "    [c('slategray') , 0.25, c('slategray'), c('darkgray'), 0.50, \\\n",
    "     c('darkgray'), c('tan'), 0.75, c('tan'), c('wheat')])"
   ]
  },
  {
   "cell_type": "code",
   "execution_count": 22,
   "id": "d4bc82c8",
   "metadata": {},
   "outputs": [
    {
     "data": {
      "image/png": "[encoded data removed]",
      "text/html": [
       "<div style=\"vertical-align: middle;\"><strong>CustomMap</strong> </div><div class=\"cmap\"><img alt=\"CustomMap colormap\" title=\"CustomMap\" style=\"border: 1px solid #555;\" src=\"data:image/png;base64,iVBORw0KGgoAAAANSUhEUgAAAgAAAABACAYAAABsv8+/AAAAGHRFWHRUaXRsZQBDdXN0b21NYXAgY29sb3JtYXA7Eq9pAAAAHnRFWHREZXNjcmlwdGlvbgBDdXN0b21NYXAgY29sb3JtYXB5iUniAAAAMHRFWHRBdXRob3IATWF0cGxvdGxpYiB2My41LjEsIGh0dHBzOi8vbWF0cGxvdGxpYi5vcmf3t87PAAAAMnRFWHRTb2Z0d2FyZQBNYXRwbG90bGliIHYzLjUuMSwgaHR0cHM6Ly9tYXRwbG90bGliLm9yZ9kRUegAAAG1SURBVHic7dZBTsMwAABBhxfzBJ7Aj+GURnEwjVA57cyF2rUcp7LQbu8fn1+DvG3/O304htvp+8v8Yt1YzK/3ncbT/Li57pifz+f9fly/j8fX6fsxjY/10/w4/xt57LNY/1/7XtfvH27ue3v9NL+t1r1239XvN6bf5em++/jJfZnv47jc/2n82Of3+WO78wXcpgt/PGZ1vsW6y/nuvc/6fKv3mZ/72vPMz/3reY7p8/zbAAByBAAABAkAAAgSAAAQJAAAIEgAAECQAACAIAEAAEECAACCBAAABAkAAAgSAAAQJAAAIEgAAECQAACAIAEAAEECAACCBAAABAkAAAgSAAAQJAAAIEgAAECQAACAIAEAAEECAACCBAAABAkAAAgSAAAQJAAAIEgAAECQAACAIAEAAEECAACCBAAABAkAAAgSAAAQJAAAIEgAAECQAACAIAEAAEECAACCBAAABAkAAAgSAAAQJAAAIEgAAECQAACAIAEAAEECAACCBAAABAkAAAgSAAAQJAAAIEgAAECQAACAIAEAAEECAACCBAAABAkAAAgSAAAQJAAAIEgAAECQAACAoG9GNCAFzN6kWgAAAABJRU5ErkJggg==\"></div><div style=\"vertical-align: middle; max-width: 514px; display: flex; justify-content: space-between;\"><div style=\"float: left;\"><div title=\"#708090ff\" style=\"display: inline-block; width: 1em; height: 1em; margin: 0; vertical-align: middle; border: 1px solid #555; background-color: #708090ff;\"></div> under</div><div style=\"margin: 0 auto; display: inline-block;\">bad <div title=\"#00000000\" style=\"display: inline-block; width: 1em; height: 1em; margin: 0; vertical-align: middle; border: 1px solid #555; background-color: #00000000;\"></div></div><div style=\"float: right;\">over <div title=\"#f5deb3ff\" style=\"display: inline-block; width: 1em; height: 1em; margin: 0; vertical-align: middle; border: 1px solid #555; background-color: #f5deb3ff;\"></div></div>"
      ],
      "text/plain": [
       "<matplotlib.colors.LinearSegmentedColormap at 0x1be844c0f70>"
      ]
     },
     "execution_count": 22,
     "metadata": {},
     "output_type": "execute_result"
    }
   ],
   "source": [
    "rvb"
   ]
  },
  {
   "cell_type": "markdown",
   "id": "2b71dcb5",
   "metadata": {},
   "source": [
    " ## Загрузка данных"
   ]
  },
  {
   "cell_type": "code",
   "execution_count": 2,
   "id": "6db55fe0",
   "metadata": {},
   "outputs": [
    {
     "data": {
      "text/html": [
       "<div>\n",
       "<style scoped>\n",
       "    .dataframe tbody tr th:only-of-type {\n",
       "        vertical-align: middle;\n",
       "    }\n",
       "\n",
       "    .dataframe tbody tr th {\n",
       "        vertical-align: top;\n",
       "    }\n",
       "\n",
       "    .dataframe thead th {\n",
       "        text-align: right;\n",
       "    }\n",
       "</style>\n",
       "<table border=\"1\" class=\"dataframe\">\n",
       "  <thead>\n",
       "    <tr style=\"text-align: right;\">\n",
       "      <th></th>\n",
       "      <th>data_name</th>\n",
       "      <th>label_name</th>\n",
       "      <th>rating</th>\n",
       "      <th>review</th>\n",
       "    </tr>\n",
       "  </thead>\n",
       "  <tbody>\n",
       "    <tr>\n",
       "      <th>0</th>\n",
       "      <td>train</td>\n",
       "      <td>pos</td>\n",
       "      <td>8</td>\n",
       "      <td>I do try not to take IMDb ratings to heart, bu...</td>\n",
       "    </tr>\n",
       "    <tr>\n",
       "      <th>1</th>\n",
       "      <td>train</td>\n",
       "      <td>pos</td>\n",
       "      <td>8</td>\n",
       "      <td>I saw this when it first came to video, my lit...</td>\n",
       "    </tr>\n",
       "    <tr>\n",
       "      <th>2</th>\n",
       "      <td>train</td>\n",
       "      <td>pos</td>\n",
       "      <td>10</td>\n",
       "      <td>its great i loved it ha cause i love dinosaurs...</td>\n",
       "    </tr>\n",
       "    <tr>\n",
       "      <th>3</th>\n",
       "      <td>train</td>\n",
       "      <td>pos</td>\n",
       "      <td>7</td>\n",
       "      <td>I wouldn't call \"We're Back! A Dinosaur's Stor...</td>\n",
       "    </tr>\n",
       "    <tr>\n",
       "      <th>4</th>\n",
       "      <td>train</td>\n",
       "      <td>pos</td>\n",
       "      <td>10</td>\n",
       "      <td>this was a personal favorite of mine when i wa...</td>\n",
       "    </tr>\n",
       "  </tbody>\n",
       "</table>\n",
       "</div>"
      ],
      "text/plain": [
       "  data_name label_name  rating  \\\n",
       "0     train        pos       8   \n",
       "1     train        pos       8   \n",
       "2     train        pos      10   \n",
       "3     train        pos       7   \n",
       "4     train        pos      10   \n",
       "\n",
       "                                              review  \n",
       "0  I do try not to take IMDb ratings to heart, bu...  \n",
       "1  I saw this when it first came to video, my lit...  \n",
       "2  its great i loved it ha cause i love dinosaurs...  \n",
       "3  I wouldn't call \"We're Back! A Dinosaur's Stor...  \n",
       "4  this was a personal favorite of mine when i wa...  "
      ]
     },
     "execution_count": 2,
     "metadata": {},
     "output_type": "execute_result"
    }
   ],
   "source": [
    "# загрузка данных\n",
    "df_sentiments = pd.read_csv('data/sentiments.csv')\n",
    "df_sentiments.head()"
   ]
  },
  {
   "cell_type": "code",
   "execution_count": 3,
   "id": "a93bfd7a",
   "metadata": {},
   "outputs": [],
   "source": [
    "# кодирование меток данных\n",
    "label = {'pos' : 1, 'neg' : 0, 'unsup': -1}"
   ]
  },
  {
   "cell_type": "code",
   "execution_count": 4,
   "id": "2e47228e",
   "metadata": {},
   "outputs": [],
   "source": [
    "# преобразование \n",
    "df_sentiments['label_name'] = df_sentiments['label_name'].map(label)"
   ]
  },
  {
   "cell_type": "markdown",
   "id": "aeadfd91",
   "metadata": {},
   "source": [
    "## Очистка текстовых данных"
   ]
  },
  {
   "cell_type": "code",
   "execution_count": 8,
   "id": "5fe9b8e9",
   "metadata": {},
   "outputs": [],
   "source": [
    "# функция очистки текстовых данных \n",
    "def preprocessor(text):\n",
    "    # очистка текста от html разметки\n",
    "    text = re.sub('<[^>]+>', '', text)\n",
    "    # сохранение символов эмоций (или эмограммы)\n",
    "    emoticons = re.findall('(?::|;|=)(?:-)?(?:\\)|\\(|D|P)', text)\n",
    "    # очистка текста от всех не словарных символов, преобразование текста в строчные буквы\n",
    "    text = re.sub('[\\W]+', ' ', text.lower()) +\\\n",
    "        ' '.join(emoticons).replace('-', '')\n",
    "    return text"
   ]
  },
  {
   "cell_type": "code",
   "execution_count": 9,
   "id": "033e3eb0",
   "metadata": {},
   "outputs": [
    {
     "name": "stdout",
     "output_type": "stream",
     "text": [
      "CPU times: total: 3.92 s\n",
      "Wall time: 3.92 s\n"
     ]
    }
   ],
   "source": [
    "%%time\n",
    "# применение функции к комментариям (отзывам)\n",
    "df_sentiments['review_clean'] = df_sentiments['review'].apply(preprocessor)"
   ]
  },
  {
   "cell_type": "code",
   "execution_count": 10,
   "id": "982160da",
   "metadata": {},
   "outputs": [
    {
     "data": {
      "text/html": [
       "<div>\n",
       "<style scoped>\n",
       "    .dataframe tbody tr th:only-of-type {\n",
       "        vertical-align: middle;\n",
       "    }\n",
       "\n",
       "    .dataframe tbody tr th {\n",
       "        vertical-align: top;\n",
       "    }\n",
       "\n",
       "    .dataframe thead th {\n",
       "        text-align: right;\n",
       "    }\n",
       "</style>\n",
       "<table border=\"1\" class=\"dataframe\">\n",
       "  <thead>\n",
       "    <tr style=\"text-align: right;\">\n",
       "      <th></th>\n",
       "      <th>data_name</th>\n",
       "      <th>label_name</th>\n",
       "      <th>rating</th>\n",
       "      <th>review</th>\n",
       "      <th>review_clean</th>\n",
       "    </tr>\n",
       "  </thead>\n",
       "  <tbody>\n",
       "    <tr>\n",
       "      <th>0</th>\n",
       "      <td>train</td>\n",
       "      <td>1</td>\n",
       "      <td>8</td>\n",
       "      <td>I do try not to take IMDb ratings to heart, bu...</td>\n",
       "      <td>i do try not to take imdb ratings to heart but...</td>\n",
       "    </tr>\n",
       "    <tr>\n",
       "      <th>1</th>\n",
       "      <td>train</td>\n",
       "      <td>1</td>\n",
       "      <td>8</td>\n",
       "      <td>I saw this when it first came to video, my lit...</td>\n",
       "      <td>i saw this when it first came to video my litt...</td>\n",
       "    </tr>\n",
       "    <tr>\n",
       "      <th>2</th>\n",
       "      <td>train</td>\n",
       "      <td>1</td>\n",
       "      <td>10</td>\n",
       "      <td>its great i loved it ha cause i love dinosaurs...</td>\n",
       "      <td>its great i loved it ha cause i love dinosaurs...</td>\n",
       "    </tr>\n",
       "    <tr>\n",
       "      <th>3</th>\n",
       "      <td>train</td>\n",
       "      <td>1</td>\n",
       "      <td>7</td>\n",
       "      <td>I wouldn't call \"We're Back! A Dinosaur's Stor...</td>\n",
       "      <td>i wouldn t call we re back a dinosaur s story ...</td>\n",
       "    </tr>\n",
       "    <tr>\n",
       "      <th>4</th>\n",
       "      <td>train</td>\n",
       "      <td>1</td>\n",
       "      <td>10</td>\n",
       "      <td>this was a personal favorite of mine when i wa...</td>\n",
       "      <td>this was a personal favorite of mine when i wa...</td>\n",
       "    </tr>\n",
       "  </tbody>\n",
       "</table>\n",
       "</div>"
      ],
      "text/plain": [
       "  data_name  label_name  rating  \\\n",
       "0     train           1       8   \n",
       "1     train           1       8   \n",
       "2     train           1      10   \n",
       "3     train           1       7   \n",
       "4     train           1      10   \n",
       "\n",
       "                                              review  \\\n",
       "0  I do try not to take IMDb ratings to heart, bu...   \n",
       "1  I saw this when it first came to video, my lit...   \n",
       "2  its great i loved it ha cause i love dinosaurs...   \n",
       "3  I wouldn't call \"We're Back! A Dinosaur's Stor...   \n",
       "4  this was a personal favorite of mine when i wa...   \n",
       "\n",
       "                                        review_clean  \n",
       "0  i do try not to take imdb ratings to heart but...  \n",
       "1  i saw this when it first came to video my litt...  \n",
       "2  its great i loved it ha cause i love dinosaurs...  \n",
       "3  i wouldn t call we re back a dinosaur s story ...  \n",
       "4  this was a personal favorite of mine when i wa...  "
      ]
     },
     "execution_count": 10,
     "metadata": {},
     "output_type": "execute_result"
    }
   ],
   "source": [
    "# вывод данных\n",
    "df_sentiments.head()"
   ]
  },
  {
   "cell_type": "markdown",
   "id": "b73e94bf",
   "metadata": {},
   "source": [
    "## Создание признаков"
   ]
  },
  {
   "cell_type": "code",
   "execution_count": 11,
   "id": "ca63ca7c",
   "metadata": {},
   "outputs": [],
   "source": [
    "from textblob import TextBlob"
   ]
  },
  {
   "cell_type": "code",
   "execution_count": 12,
   "id": "fa7838e2",
   "metadata": {},
   "outputs": [],
   "source": [
    "# функция подсчета количества предложений в комментарии (отзыве)\n",
    "def review_sentences(review):\n",
    "    \n",
    "    blob = TextBlob(review)\n",
    "    \n",
    "    return len(blob.sentences)"
   ]
  },
  {
   "cell_type": "code",
   "execution_count": 14,
   "id": "51d64c09",
   "metadata": {},
   "outputs": [],
   "source": [
    "# подсчет количества предложений в комментарии (отзыве)\n",
    "df_sentiments['review_sentences'] = df_sentiments['review'].map(review_sentences)"
   ]
  },
  {
   "cell_type": "code",
   "execution_count": 15,
   "id": "d539c045",
   "metadata": {},
   "outputs": [],
   "source": [
    "# функция анализа комментария (отзыва)\n",
    "def review_sentiment(review):\n",
    "    \n",
    "    blob = TextBlob(review)\n",
    "    \n",
    "    return blob.sentiment"
   ]
  },
  {
   "cell_type": "code",
   "execution_count": 16,
   "id": "f738083e",
   "metadata": {},
   "outputs": [],
   "source": [
    "# анализ комментария (отзыва)\n",
    "df_sentiments['review_sentiment'] = df_sentiments['review_clean'].map(review_sentiment)"
   ]
  },
  {
   "cell_type": "code",
   "execution_count": 17,
   "id": "299fd0d5",
   "metadata": {},
   "outputs": [],
   "source": [
    "df_sentiments['review_polarity'] = df_sentiments['review_sentiment'].apply(lambda x: x.polarity)"
   ]
  },
  {
   "cell_type": "code",
   "execution_count": 18,
   "id": "1baeab47",
   "metadata": {},
   "outputs": [],
   "source": [
    "df_sentiments['review_subjectivity'] = df_sentiments['review_sentiment'].apply(lambda x: x.subjectivity)"
   ]
  },
  {
   "cell_type": "code",
   "execution_count": 23,
   "id": "2197551e",
   "metadata": {},
   "outputs": [
    {
     "data": {
      "text/html": [
       "<div>\n",
       "<style scoped>\n",
       "    .dataframe tbody tr th:only-of-type {\n",
       "        vertical-align: middle;\n",
       "    }\n",
       "\n",
       "    .dataframe tbody tr th {\n",
       "        vertical-align: top;\n",
       "    }\n",
       "\n",
       "    .dataframe thead th {\n",
       "        text-align: right;\n",
       "    }\n",
       "</style>\n",
       "<table border=\"1\" class=\"dataframe\">\n",
       "  <thead>\n",
       "    <tr style=\"text-align: right;\">\n",
       "      <th></th>\n",
       "      <th>label_name</th>\n",
       "      <th>rating</th>\n",
       "      <th>review_sentences</th>\n",
       "      <th>review_polarity</th>\n",
       "      <th>review_subjectivity</th>\n",
       "    </tr>\n",
       "  </thead>\n",
       "  <tbody>\n",
       "    <tr>\n",
       "      <th>label_name</th>\n",
       "      <td>1.000000</td>\n",
       "      <td>0.875670</td>\n",
       "      <td>-0.045426</td>\n",
       "      <td>0.602219</td>\n",
       "      <td>0.008748</td>\n",
       "    </tr>\n",
       "    <tr>\n",
       "      <th>rating</th>\n",
       "      <td>0.875670</td>\n",
       "      <td>1.000000</td>\n",
       "      <td>-0.050198</td>\n",
       "      <td>0.616402</td>\n",
       "      <td>0.002613</td>\n",
       "    </tr>\n",
       "    <tr>\n",
       "      <th>review_sentences</th>\n",
       "      <td>-0.045426</td>\n",
       "      <td>-0.050198</td>\n",
       "      <td>1.000000</td>\n",
       "      <td>-0.076633</td>\n",
       "      <td>-0.051992</td>\n",
       "    </tr>\n",
       "    <tr>\n",
       "      <th>review_polarity</th>\n",
       "      <td>0.602219</td>\n",
       "      <td>0.616402</td>\n",
       "      <td>-0.076633</td>\n",
       "      <td>1.000000</td>\n",
       "      <td>0.036309</td>\n",
       "    </tr>\n",
       "    <tr>\n",
       "      <th>review_subjectivity</th>\n",
       "      <td>0.008748</td>\n",
       "      <td>0.002613</td>\n",
       "      <td>-0.051992</td>\n",
       "      <td>0.036309</td>\n",
       "      <td>1.000000</td>\n",
       "    </tr>\n",
       "  </tbody>\n",
       "</table>\n",
       "</div>"
      ],
      "text/plain": [
       "                     label_name    rating  review_sentences  review_polarity  \\\n",
       "label_name             1.000000  0.875670         -0.045426         0.602219   \n",
       "rating                 0.875670  1.000000         -0.050198         0.616402   \n",
       "review_sentences      -0.045426 -0.050198          1.000000        -0.076633   \n",
       "review_polarity        0.602219  0.616402         -0.076633         1.000000   \n",
       "review_subjectivity    0.008748  0.002613         -0.051992         0.036309   \n",
       "\n",
       "                     review_subjectivity  \n",
       "label_name                      0.008748  \n",
       "rating                          0.002613  \n",
       "review_sentences               -0.051992  \n",
       "review_polarity                 0.036309  \n",
       "review_subjectivity             1.000000  "
      ]
     },
     "execution_count": 23,
     "metadata": {},
     "output_type": "execute_result"
    }
   ],
   "source": [
    "# рассчет корреляции в данных\n",
    "sentiments_corr = df_sentiments.corr(method='spearman')\n",
    "sentiments_corr"
   ]
  },
  {
   "cell_type": "code",
   "execution_count": 29,
   "id": "d25c07b7",
   "metadata": {},
   "outputs": [
    {
     "data": {
      "image/png": "[encoded data removed]",
      "text/plain": [
       "<Figure size 720x576 with 2 Axes>"
      ]
     },
     "metadata": {
      "needs_background": "light"
     },
     "output_type": "display_data"
    }
   ],
   "source": [
    "# визуализация корреляции признаков\n",
    "plt.figure(figsize=(10, 8))\n",
    "mask = np.triu(np.ones_like(sentiments_corr, dtype=bool))\n",
    "df_train_corr_heatmap = sns.heatmap(sentiments_corr, mask=mask, vmin=-1, vmax=1, annot=True, cmap=rvb)\n",
    "df_train_corr_heatmap.set_title('Корреляция признаков', fontweight='bold', \\\n",
    "                                fontdict={'fontsize':16}, pad=16)\n",
    "plt.yticks(rotation=0)\n",
    "plt.show()"
   ]
  },
  {
   "cell_type": "markdown",
   "id": "cdf70ee4",
   "metadata": {},
   "source": [
    "## Формирование данных для обучения и теста модели"
   ]
  },
  {
   "cell_type": "code",
   "execution_count": 30,
   "id": "0168f3f7",
   "metadata": {},
   "outputs": [
    {
     "data": {
      "text/html": [
       "<div>\n",
       "<style scoped>\n",
       "    .dataframe tbody tr th:only-of-type {\n",
       "        vertical-align: middle;\n",
       "    }\n",
       "\n",
       "    .dataframe tbody tr th {\n",
       "        vertical-align: top;\n",
       "    }\n",
       "\n",
       "    .dataframe thead th {\n",
       "        text-align: right;\n",
       "    }\n",
       "</style>\n",
       "<table border=\"1\" class=\"dataframe\">\n",
       "  <thead>\n",
       "    <tr style=\"text-align: right;\">\n",
       "      <th></th>\n",
       "      <th>data_name</th>\n",
       "      <th>label_name</th>\n",
       "      <th>rating</th>\n",
       "      <th>review</th>\n",
       "      <th>review_clean</th>\n",
       "      <th>review_sentences</th>\n",
       "      <th>review_sentiment</th>\n",
       "      <th>review_polarity</th>\n",
       "      <th>review_subjectivity</th>\n",
       "    </tr>\n",
       "  </thead>\n",
       "  <tbody>\n",
       "    <tr>\n",
       "      <th>0</th>\n",
       "      <td>train</td>\n",
       "      <td>1</td>\n",
       "      <td>8</td>\n",
       "      <td>I do try not to take IMDb ratings to heart, bu...</td>\n",
       "      <td>i do try not to take imdb ratings to heart but...</td>\n",
       "      <td>19</td>\n",
       "      <td>(0.3390589569160997, 0.6550075585789873)</td>\n",
       "      <td>0.339059</td>\n",
       "      <td>0.655008</td>\n",
       "    </tr>\n",
       "    <tr>\n",
       "      <th>1</th>\n",
       "      <td>train</td>\n",
       "      <td>1</td>\n",
       "      <td>8</td>\n",
       "      <td>I saw this when it first came to video, my lit...</td>\n",
       "      <td>i saw this when it first came to video my litt...</td>\n",
       "      <td>9</td>\n",
       "      <td>(0.09246031746031746, 0.4793320105820105)</td>\n",
       "      <td>0.092460</td>\n",
       "      <td>0.479332</td>\n",
       "    </tr>\n",
       "    <tr>\n",
       "      <th>2</th>\n",
       "      <td>train</td>\n",
       "      <td>1</td>\n",
       "      <td>10</td>\n",
       "      <td>its great i loved it ha cause i love dinosaurs...</td>\n",
       "      <td>its great i loved it ha cause i love dinosaurs...</td>\n",
       "      <td>1</td>\n",
       "      <td>(0.31616071428571424, 0.6617857142857144)</td>\n",
       "      <td>0.316161</td>\n",
       "      <td>0.661786</td>\n",
       "    </tr>\n",
       "    <tr>\n",
       "      <th>3</th>\n",
       "      <td>train</td>\n",
       "      <td>1</td>\n",
       "      <td>7</td>\n",
       "      <td>I wouldn't call \"We're Back! A Dinosaur's Stor...</td>\n",
       "      <td>i wouldn t call we re back a dinosaur s story ...</td>\n",
       "      <td>10</td>\n",
       "      <td>(0.2323529411764706, 0.4180672268907563)</td>\n",
       "      <td>0.232353</td>\n",
       "      <td>0.418067</td>\n",
       "    </tr>\n",
       "    <tr>\n",
       "      <th>4</th>\n",
       "      <td>train</td>\n",
       "      <td>1</td>\n",
       "      <td>10</td>\n",
       "      <td>this was a personal favorite of mine when i wa...</td>\n",
       "      <td>this was a personal favorite of mine when i wa...</td>\n",
       "      <td>5</td>\n",
       "      <td>(0.1922916666666667, 0.5108333333333333)</td>\n",
       "      <td>0.192292</td>\n",
       "      <td>0.510833</td>\n",
       "    </tr>\n",
       "  </tbody>\n",
       "</table>\n",
       "</div>"
      ],
      "text/plain": [
       "  data_name  label_name  rating  \\\n",
       "0     train           1       8   \n",
       "1     train           1       8   \n",
       "2     train           1      10   \n",
       "3     train           1       7   \n",
       "4     train           1      10   \n",
       "\n",
       "                                              review  \\\n",
       "0  I do try not to take IMDb ratings to heart, bu...   \n",
       "1  I saw this when it first came to video, my lit...   \n",
       "2  its great i loved it ha cause i love dinosaurs...   \n",
       "3  I wouldn't call \"We're Back! A Dinosaur's Stor...   \n",
       "4  this was a personal favorite of mine when i wa...   \n",
       "\n",
       "                                        review_clean  review_sentences  \\\n",
       "0  i do try not to take imdb ratings to heart but...                19   \n",
       "1  i saw this when it first came to video my litt...                 9   \n",
       "2  its great i loved it ha cause i love dinosaurs...                 1   \n",
       "3  i wouldn t call we re back a dinosaur s story ...                10   \n",
       "4  this was a personal favorite of mine when i wa...                 5   \n",
       "\n",
       "                            review_sentiment  review_polarity  \\\n",
       "0   (0.3390589569160997, 0.6550075585789873)         0.339059   \n",
       "1  (0.09246031746031746, 0.4793320105820105)         0.092460   \n",
       "2  (0.31616071428571424, 0.6617857142857144)         0.316161   \n",
       "3   (0.2323529411764706, 0.4180672268907563)         0.232353   \n",
       "4   (0.1922916666666667, 0.5108333333333333)         0.192292   \n",
       "\n",
       "   review_subjectivity  \n",
       "0             0.655008  \n",
       "1             0.479332  \n",
       "2             0.661786  \n",
       "3             0.418067  \n",
       "4             0.510833  "
      ]
     },
     "execution_count": 30,
     "metadata": {},
     "output_type": "execute_result"
    }
   ],
   "source": [
    "# данные для обучения\n",
    "df_train = df_sentiments.query(\"data_name == 'train'\")\n",
    "df_train.head()"
   ]
  },
  {
   "cell_type": "code",
   "execution_count": 31,
   "id": "ee111534",
   "metadata": {},
   "outputs": [
    {
     "data": {
      "text/html": [
       "<div>\n",
       "<style scoped>\n",
       "    .dataframe tbody tr th:only-of-type {\n",
       "        vertical-align: middle;\n",
       "    }\n",
       "\n",
       "    .dataframe tbody tr th {\n",
       "        vertical-align: top;\n",
       "    }\n",
       "\n",
       "    .dataframe thead th {\n",
       "        text-align: right;\n",
       "    }\n",
       "</style>\n",
       "<table border=\"1\" class=\"dataframe\">\n",
       "  <thead>\n",
       "    <tr style=\"text-align: right;\">\n",
       "      <th></th>\n",
       "      <th>data_name</th>\n",
       "      <th>label_name</th>\n",
       "      <th>rating</th>\n",
       "      <th>review</th>\n",
       "      <th>review_clean</th>\n",
       "      <th>review_sentences</th>\n",
       "      <th>review_sentiment</th>\n",
       "      <th>review_polarity</th>\n",
       "      <th>review_subjectivity</th>\n",
       "    </tr>\n",
       "  </thead>\n",
       "  <tbody>\n",
       "    <tr>\n",
       "      <th>24708</th>\n",
       "      <td>test</td>\n",
       "      <td>1</td>\n",
       "      <td>8</td>\n",
       "      <td>In this peculiar movie, the themes of the end ...</td>\n",
       "      <td>in this peculiar movie the themes of the end o...</td>\n",
       "      <td>4</td>\n",
       "      <td>(0.1415633608815427, 0.6011707988980716)</td>\n",
       "      <td>0.141563</td>\n",
       "      <td>0.601171</td>\n",
       "    </tr>\n",
       "    <tr>\n",
       "      <th>24709</th>\n",
       "      <td>test</td>\n",
       "      <td>1</td>\n",
       "      <td>10</td>\n",
       "      <td>In The Book of Life, Martin Donovan plays Jesu...</td>\n",
       "      <td>in the book of life martin donovan plays jesus...</td>\n",
       "      <td>17</td>\n",
       "      <td>(0.12454771596562637, 0.5137316663436066)</td>\n",
       "      <td>0.124548</td>\n",
       "      <td>0.513732</td>\n",
       "    </tr>\n",
       "    <tr>\n",
       "      <th>24710</th>\n",
       "      <td>test</td>\n",
       "      <td>1</td>\n",
       "      <td>10</td>\n",
       "      <td>I saw this movie last night on HBO &amp; didn't ex...</td>\n",
       "      <td>i saw this movie last night on hbo didn t expe...</td>\n",
       "      <td>4</td>\n",
       "      <td>(0.01499999999999999, 0.2783333333333333)</td>\n",
       "      <td>0.015000</td>\n",
       "      <td>0.278333</td>\n",
       "    </tr>\n",
       "    <tr>\n",
       "      <th>24711</th>\n",
       "      <td>test</td>\n",
       "      <td>1</td>\n",
       "      <td>10</td>\n",
       "      <td>No blood, no sex (though it oozes passion), no...</td>\n",
       "      <td>no blood no sex though it oozes passion no spe...</td>\n",
       "      <td>6</td>\n",
       "      <td>(0.3456349206349207, 0.5206349206349207)</td>\n",
       "      <td>0.345635</td>\n",
       "      <td>0.520635</td>\n",
       "    </tr>\n",
       "    <tr>\n",
       "      <th>24712</th>\n",
       "      <td>test</td>\n",
       "      <td>1</td>\n",
       "      <td>10</td>\n",
       "      <td>In The Book of Life, Martin Donovan plays Jesu...</td>\n",
       "      <td>in the book of life martin donovan plays jesus...</td>\n",
       "      <td>15</td>\n",
       "      <td>(0.1328671328671328, 0.514154179154179)</td>\n",
       "      <td>0.132867</td>\n",
       "      <td>0.514154</td>\n",
       "    </tr>\n",
       "  </tbody>\n",
       "</table>\n",
       "</div>"
      ],
      "text/plain": [
       "      data_name  label_name  rating  \\\n",
       "24708      test           1       8   \n",
       "24709      test           1      10   \n",
       "24710      test           1      10   \n",
       "24711      test           1      10   \n",
       "24712      test           1      10   \n",
       "\n",
       "                                                  review  \\\n",
       "24708  In this peculiar movie, the themes of the end ...   \n",
       "24709  In The Book of Life, Martin Donovan plays Jesu...   \n",
       "24710  I saw this movie last night on HBO & didn't ex...   \n",
       "24711  No blood, no sex (though it oozes passion), no...   \n",
       "24712  In The Book of Life, Martin Donovan plays Jesu...   \n",
       "\n",
       "                                            review_clean  review_sentences  \\\n",
       "24708  in this peculiar movie the themes of the end o...                 4   \n",
       "24709  in the book of life martin donovan plays jesus...                17   \n",
       "24710  i saw this movie last night on hbo didn t expe...                 4   \n",
       "24711  no blood no sex though it oozes passion no spe...                 6   \n",
       "24712  in the book of life martin donovan plays jesus...                15   \n",
       "\n",
       "                                review_sentiment  review_polarity  \\\n",
       "24708   (0.1415633608815427, 0.6011707988980716)         0.141563   \n",
       "24709  (0.12454771596562637, 0.5137316663436066)         0.124548   \n",
       "24710  (0.01499999999999999, 0.2783333333333333)         0.015000   \n",
       "24711   (0.3456349206349207, 0.5206349206349207)         0.345635   \n",
       "24712    (0.1328671328671328, 0.514154179154179)         0.132867   \n",
       "\n",
       "       review_subjectivity  \n",
       "24708             0.601171  \n",
       "24709             0.513732  \n",
       "24710             0.278333  \n",
       "24711             0.520635  \n",
       "24712             0.514154  "
      ]
     },
     "execution_count": 31,
     "metadata": {},
     "output_type": "execute_result"
    }
   ],
   "source": [
    "# данные для теста\n",
    "df_test = df_sentiments.query(\"data_name == 'test'\")\n",
    "df_test.head()"
   ]
  },
  {
   "cell_type": "code",
   "execution_count": 32,
   "id": "eebe5563",
   "metadata": {},
   "outputs": [
    {
     "data": {
      "text/plain": [
       "Index(['data_name', 'label_name', 'rating', 'review', 'review_clean',\n",
       "       'review_sentences', 'review_sentiment', 'review_polarity',\n",
       "       'review_subjectivity'],\n",
       "      dtype='object')"
      ]
     },
     "execution_count": 32,
     "metadata": {},
     "output_type": "execute_result"
    }
   ],
   "source": [
    "df_train.columns"
   ]
  },
  {
   "cell_type": "code",
   "execution_count": 51,
   "id": "e74b3d67",
   "metadata": {},
   "outputs": [],
   "source": [
    "column_num = ['review_sentences', 'review_polarity', 'review_subjectivity']\n",
    "column_object = 'review_clean'"
   ]
  },
  {
   "cell_type": "code",
   "execution_count": 52,
   "id": "e80e9dda",
   "metadata": {},
   "outputs": [
    {
     "data": {
      "text/html": [
       "<div>\n",
       "<style scoped>\n",
       "    .dataframe tbody tr th:only-of-type {\n",
       "        vertical-align: middle;\n",
       "    }\n",
       "\n",
       "    .dataframe tbody tr th {\n",
       "        vertical-align: top;\n",
       "    }\n",
       "\n",
       "    .dataframe thead th {\n",
       "        text-align: right;\n",
       "    }\n",
       "</style>\n",
       "<table border=\"1\" class=\"dataframe\">\n",
       "  <thead>\n",
       "    <tr style=\"text-align: right;\">\n",
       "      <th></th>\n",
       "      <th>review_sentences</th>\n",
       "      <th>review_polarity</th>\n",
       "      <th>review_subjectivity</th>\n",
       "      <th>review_clean</th>\n",
       "    </tr>\n",
       "  </thead>\n",
       "  <tbody>\n",
       "    <tr>\n",
       "      <th>0</th>\n",
       "      <td>19</td>\n",
       "      <td>0.339059</td>\n",
       "      <td>0.655008</td>\n",
       "      <td>i do try not to take imdb ratings to heart but...</td>\n",
       "    </tr>\n",
       "    <tr>\n",
       "      <th>1</th>\n",
       "      <td>9</td>\n",
       "      <td>0.092460</td>\n",
       "      <td>0.479332</td>\n",
       "      <td>i saw this when it first came to video my litt...</td>\n",
       "    </tr>\n",
       "  </tbody>\n",
       "</table>\n",
       "</div>"
      ],
      "text/plain": [
       "   review_sentences  review_polarity  review_subjectivity  \\\n",
       "0                19         0.339059             0.655008   \n",
       "1                 9         0.092460             0.479332   \n",
       "\n",
       "                                        review_clean  \n",
       "0  i do try not to take imdb ratings to heart but...  \n",
       "1  i saw this when it first came to video my litt...  "
      ]
     },
     "execution_count": 52,
     "metadata": {},
     "output_type": "execute_result"
    }
   ],
   "source": [
    "X_train = df_train[column_num + [column_object]]\n",
    "X_train[:2]"
   ]
  },
  {
   "cell_type": "code",
   "execution_count": 88,
   "id": "612e33d7",
   "metadata": {},
   "outputs": [
    {
     "data": {
      "text/plain": [
       "0    8\n",
       "1    8\n",
       "Name: rating, dtype: int64"
      ]
     },
     "execution_count": 88,
     "metadata": {},
     "output_type": "execute_result"
    }
   ],
   "source": [
    "y_train = df_train['rating']\n",
    "y_train[:2]"
   ]
  },
  {
   "cell_type": "code",
   "execution_count": 53,
   "id": "57050f0e",
   "metadata": {},
   "outputs": [
    {
     "data": {
      "text/html": [
       "<div>\n",
       "<style scoped>\n",
       "    .dataframe tbody tr th:only-of-type {\n",
       "        vertical-align: middle;\n",
       "    }\n",
       "\n",
       "    .dataframe tbody tr th {\n",
       "        vertical-align: top;\n",
       "    }\n",
       "\n",
       "    .dataframe thead th {\n",
       "        text-align: right;\n",
       "    }\n",
       "</style>\n",
       "<table border=\"1\" class=\"dataframe\">\n",
       "  <thead>\n",
       "    <tr style=\"text-align: right;\">\n",
       "      <th></th>\n",
       "      <th>review_sentences</th>\n",
       "      <th>review_polarity</th>\n",
       "      <th>review_subjectivity</th>\n",
       "      <th>review_clean</th>\n",
       "    </tr>\n",
       "  </thead>\n",
       "  <tbody>\n",
       "    <tr>\n",
       "      <th>24708</th>\n",
       "      <td>4</td>\n",
       "      <td>0.141563</td>\n",
       "      <td>0.601171</td>\n",
       "      <td>in this peculiar movie the themes of the end o...</td>\n",
       "    </tr>\n",
       "    <tr>\n",
       "      <th>24709</th>\n",
       "      <td>17</td>\n",
       "      <td>0.124548</td>\n",
       "      <td>0.513732</td>\n",
       "      <td>in the book of life martin donovan plays jesus...</td>\n",
       "    </tr>\n",
       "  </tbody>\n",
       "</table>\n",
       "</div>"
      ],
      "text/plain": [
       "       review_sentences  review_polarity  review_subjectivity  \\\n",
       "24708                 4         0.141563             0.601171   \n",
       "24709                17         0.124548             0.513732   \n",
       "\n",
       "                                            review_clean  \n",
       "24708  in this peculiar movie the themes of the end o...  \n",
       "24709  in the book of life martin donovan plays jesus...  "
      ]
     },
     "execution_count": 53,
     "metadata": {},
     "output_type": "execute_result"
    }
   ],
   "source": [
    "X_test = df_test[column_num + [column_object]]\n",
    "X_test[:2]"
   ]
  },
  {
   "cell_type": "code",
   "execution_count": 89,
   "id": "13e23732",
   "metadata": {},
   "outputs": [
    {
     "data": {
      "text/plain": [
       "24708     8\n",
       "24709    10\n",
       "Name: rating, dtype: int64"
      ]
     },
     "execution_count": 89,
     "metadata": {},
     "output_type": "execute_result"
    }
   ],
   "source": [
    "y_test = df_test['rating']\n",
    "y_test[:2]"
   ]
  },
  {
   "cell_type": "markdown",
   "id": "c2bfab57",
   "metadata": {},
   "source": [
    "# Мешок слов"
   ]
  },
  {
   "cell_type": "markdown",
   "id": "5deee26e",
   "metadata": {},
   "source": [
    "Извлечение признаков из текстов: обычный подсчет количества употреблений слов в тексте. \\\n",
    "Для этого используем sklearn.feature_extraction.text.CountVectorizer. \\\n",
    "С использованием англиских стоп слов в его настройках."
   ]
  },
  {
   "cell_type": "code",
   "execution_count": 37,
   "id": "4570a4ab",
   "metadata": {},
   "outputs": [],
   "source": [
    "from sklearn.feature_extraction.text import CountVectorizer"
   ]
  },
  {
   "cell_type": "code",
   "execution_count": 63,
   "id": "799406b2",
   "metadata": {},
   "outputs": [],
   "source": [
    "vectorizer = CountVectorizer(stop_words='english')"
   ]
  },
  {
   "cell_type": "code",
   "execution_count": 64,
   "id": "a39d4af7",
   "metadata": {},
   "outputs": [],
   "source": [
    "train_object_vector = vectorizer.fit_transform(X_train[column_object])"
   ]
  },
  {
   "cell_type": "code",
   "execution_count": 65,
   "id": "2d07a350",
   "metadata": {},
   "outputs": [],
   "source": [
    "test_object_vector = vectorizer.transform(X_test[column_object])"
   ]
  },
  {
   "cell_type": "code",
   "execution_count": 66,
   "id": "34799b99",
   "metadata": {},
   "outputs": [
    {
     "data": {
      "text/plain": [
       "((25000, 75596), (25000, 75596))"
      ]
     },
     "execution_count": 66,
     "metadata": {},
     "output_type": "execute_result"
    }
   ],
   "source": [
    "train_object_vector.shape, test_object_vector.shape"
   ]
  },
  {
   "cell_type": "code",
   "execution_count": 67,
   "id": "dd6102f5",
   "metadata": {},
   "outputs": [],
   "source": [
    "import scipy.sparse as sparse"
   ]
  },
  {
   "cell_type": "code",
   "execution_count": 68,
   "id": "cd90234f",
   "metadata": {},
   "outputs": [],
   "source": [
    "train_num = X_train[column_num]\n",
    "test_num = X_test[column_num]"
   ]
  },
  {
   "cell_type": "code",
   "execution_count": 103,
   "id": "05d0655b",
   "metadata": {},
   "outputs": [],
   "source": [
    "from sklearn.preprocessing import MinMaxScaler\n",
    "\n",
    "scaler = MinMaxScaler()\n",
    "train_num_ss = scaler.fit_transform(train_num)\n",
    "test_num_ss = scaler.transform(test_num)"
   ]
  },
  {
   "cell_type": "code",
   "execution_count": 104,
   "id": "5ebc8854",
   "metadata": {},
   "outputs": [],
   "source": [
    "train_num_vector_ss = sparse.coo_matrix(train_num_ss)\n",
    "test_num_vector_ss = sparse.coo_matrix(test_num_ss)"
   ]
  },
  {
   "cell_type": "code",
   "execution_count": 70,
   "id": "7be7a823",
   "metadata": {},
   "outputs": [],
   "source": [
    "from scipy.sparse import hstack"
   ]
  },
  {
   "cell_type": "code",
   "execution_count": 105,
   "id": "98fead72",
   "metadata": {},
   "outputs": [],
   "source": [
    "X_train_vector_ss = hstack((train_object_vector, train_num_vector_ss))"
   ]
  },
  {
   "cell_type": "code",
   "execution_count": 106,
   "id": "8dc0402d",
   "metadata": {},
   "outputs": [],
   "source": [
    "X_test_vector_ss = hstack((test_object_vector, test_num_vector_ss))"
   ]
  },
  {
   "cell_type": "code",
   "execution_count": 107,
   "id": "3409a974",
   "metadata": {},
   "outputs": [
    {
     "data": {
      "text/plain": [
       "((25000, 75599), (25000, 75599))"
      ]
     },
     "execution_count": 107,
     "metadata": {},
     "output_type": "execute_result"
    }
   ],
   "source": [
    "X_train_vector_ss.shape, X_test_vector_ss.shape"
   ]
  },
  {
   "cell_type": "code",
   "execution_count": null,
   "id": "74a7a762",
   "metadata": {},
   "outputs": [],
   "source": [
    "Будем использовать классифиактор для мультиклассифкации [sklearn.naive_bayes.MultinomialNB]().\n",
    "\n",
    "- Проведите кроссвалидацию на 5 фолдах для метрики `accuracy`.\n",
    "- обучите на тренировочных данных, \n",
    "- нарисуйте красивую confusion матрицу, (с именами классов, а не индексами по осям)\n",
    "- выведите отчет классификации для тестовой выборки (с именами классов, а не индексами)"
   ]
  },
  {
   "cell_type": "code",
   "execution_count": 221,
   "id": "8d69d6c8",
   "metadata": {},
   "outputs": [],
   "source": [
    "from sklearn.naive_bayes import MultinomialNB\n",
    "clf = MultinomialNB()"
   ]
  },
  {
   "cell_type": "code",
   "execution_count": 222,
   "id": "fd4a9b64",
   "metadata": {},
   "outputs": [],
   "source": [
    "from sklearn.model_selection import cross_val_score"
   ]
  },
  {
   "cell_type": "code",
   "execution_count": 223,
   "id": "69673d14",
   "metadata": {
    "scrolled": true
   },
   "outputs": [],
   "source": [
    "cv = cross_val_score(clf, train_object_vector, y_train, cv=5, scoring='accuracy')"
   ]
  },
  {
   "cell_type": "code",
   "execution_count": 224,
   "id": "3c01eb29",
   "metadata": {},
   "outputs": [
    {
     "data": {
      "text/plain": [
       "array([0.3706, 0.3524, 0.3542, 0.3574, 0.3616])"
      ]
     },
     "execution_count": 224,
     "metadata": {},
     "output_type": "execute_result"
    }
   ],
   "source": [
    "cv"
   ]
  },
  {
   "cell_type": "code",
   "execution_count": 225,
   "id": "cc074f63",
   "metadata": {},
   "outputs": [
    {
     "data": {
      "text/html": [
       "<style>#sk-container-id-11 {color: black;background-color: white;}#sk-container-id-11 pre{padding: 0;}#sk-container-id-11 div.sk-toggleable {background-color: white;}#sk-container-id-11 label.sk-toggleable__label {cursor: pointer;display: block;width: 100%;margin-bottom: 0;padding: 0.3em;box-sizing: border-box;text-align: center;}#sk-container-id-11 label.sk-toggleable__label-arrow:before {content: \"▸\";float: left;margin-right: 0.25em;color: #696969;}#sk-container-id-11 label.sk-toggleable__label-arrow:hover:before {color: black;}#sk-container-id-11 div.sk-estimator:hover label.sk-toggleable__label-arrow:before {color: black;}#sk-container-id-11 div.sk-toggleable__content {max-height: 0;max-width: 0;overflow: hidden;text-align: left;background-color: #f0f8ff;}#sk-container-id-11 div.sk-toggleable__content pre {margin: 0.2em;color: black;border-radius: 0.25em;background-color: #f0f8ff;}#sk-container-id-11 input.sk-toggleable__control:checked~div.sk-toggleable__content {max-height: 200px;max-width: 100%;overflow: auto;}#sk-container-id-11 input.sk-toggleable__control:checked~label.sk-toggleable__label-arrow:before {content: \"▾\";}#sk-container-id-11 div.sk-estimator input.sk-toggleable__control:checked~label.sk-toggleable__label {background-color: #d4ebff;}#sk-container-id-11 div.sk-label input.sk-toggleable__control:checked~label.sk-toggleable__label {background-color: #d4ebff;}#sk-container-id-11 input.sk-hidden--visually {border: 0;clip: rect(1px 1px 1px 1px);clip: rect(1px, 1px, 1px, 1px);height: 1px;margin: -1px;overflow: hidden;padding: 0;position: absolute;width: 1px;}#sk-container-id-11 div.sk-estimator {font-family: monospace;background-color: #f0f8ff;border: 1px dotted black;border-radius: 0.25em;box-sizing: border-box;margin-bottom: 0.5em;}#sk-container-id-11 div.sk-estimator:hover {background-color: #d4ebff;}#sk-container-id-11 div.sk-parallel-item::after {content: \"\";width: 100%;border-bottom: 1px solid gray;flex-grow: 1;}#sk-container-id-11 div.sk-label:hover label.sk-toggleable__label {background-color: #d4ebff;}#sk-container-id-11 div.sk-serial::before {content: \"\";position: absolute;border-left: 1px solid gray;box-sizing: border-box;top: 0;bottom: 0;left: 50%;z-index: 0;}#sk-container-id-11 div.sk-serial {display: flex;flex-direction: column;align-items: center;background-color: white;padding-right: 0.2em;padding-left: 0.2em;position: relative;}#sk-container-id-11 div.sk-item {position: relative;z-index: 1;}#sk-container-id-11 div.sk-parallel {display: flex;align-items: stretch;justify-content: center;background-color: white;position: relative;}#sk-container-id-11 div.sk-item::before, #sk-container-id-11 div.sk-parallel-item::before {content: \"\";position: absolute;border-left: 1px solid gray;box-sizing: border-box;top: 0;bottom: 0;left: 50%;z-index: -1;}#sk-container-id-11 div.sk-parallel-item {display: flex;flex-direction: column;z-index: 1;position: relative;background-color: white;}#sk-container-id-11 div.sk-parallel-item:first-child::after {align-self: flex-end;width: 50%;}#sk-container-id-11 div.sk-parallel-item:last-child::after {align-self: flex-start;width: 50%;}#sk-container-id-11 div.sk-parallel-item:only-child::after {width: 0;}#sk-container-id-11 div.sk-dashed-wrapped {border: 1px dashed gray;margin: 0 0.4em 0.5em 0.4em;box-sizing: border-box;padding-bottom: 0.4em;background-color: white;}#sk-container-id-11 div.sk-label label {font-family: monospace;font-weight: bold;display: inline-block;line-height: 1.2em;}#sk-container-id-11 div.sk-label-container {text-align: center;}#sk-container-id-11 div.sk-container {/* jupyter's `normalize.less` sets `[hidden] { display: none; }` but bootstrap.min.css set `[hidden] { display: none !important; }` so we also need the `!important` here to be able to override the default hidden behavior on the sphinx rendered scikit-learn.org. See: https://github.com/scikit-learn/scikit-learn/issues/21755 */display: inline-block !important;position: relative;}#sk-container-id-11 div.sk-text-repr-fallback {display: none;}</style><div id=\"sk-container-id-11\" class=\"sk-top-container\"><div class=\"sk-text-repr-fallback\"><pre>MultinomialNB()</pre><b>In a Jupyter environment, please rerun this cell to show the HTML representation or trust the notebook. <br />On GitHub, the HTML representation is unable to render, please try loading this page with nbviewer.org.</b></div><div class=\"sk-container\" hidden><div class=\"sk-item\"><div class=\"sk-estimator sk-toggleable\"><input class=\"sk-toggleable__control sk-hidden--visually\" id=\"sk-estimator-id-11\" type=\"checkbox\" checked><label for=\"sk-estimator-id-11\" class=\"sk-toggleable__label sk-toggleable__label-arrow\">MultinomialNB</label><div class=\"sk-toggleable__content\"><pre>MultinomialNB()</pre></div></div></div></div></div>"
      ],
      "text/plain": [
       "MultinomialNB()"
      ]
     },
     "execution_count": 225,
     "metadata": {},
     "output_type": "execute_result"
    }
   ],
   "source": [
    "clf.fit(train_object_vector, y_train)"
   ]
  },
  {
   "cell_type": "code",
   "execution_count": 226,
   "id": "d05e35f6",
   "metadata": {},
   "outputs": [],
   "source": [
    "from sklearn.metrics import classification_report\n",
    "from sklearn.metrics import confusion_matrix"
   ]
  },
  {
   "cell_type": "code",
   "execution_count": 227,
   "id": "58c00486",
   "metadata": {},
   "outputs": [],
   "source": [
    "y_pred = clf.predict(train_object_vector).astype('int')"
   ]
  },
  {
   "cell_type": "code",
   "execution_count": 228,
   "id": "cecae537",
   "metadata": {},
   "outputs": [
    {
     "name": "stdout",
     "output_type": "stream",
     "text": [
      "              precision    recall  f1-score   support\n",
      "\n",
      "           1       0.59      0.97      0.73      5100\n",
      "           2       0.96      0.43      0.60      2284\n",
      "           3       0.91      0.58      0.71      2420\n",
      "           4       0.85      0.67      0.75      2696\n",
      "           7       0.83      0.64      0.72      2496\n",
      "           8       0.78      0.64      0.70      3009\n",
      "           9       0.91      0.47      0.62      2263\n",
      "          10       0.67      0.89      0.76      4732\n",
      "\n",
      "    accuracy                           0.72     25000\n",
      "   macro avg       0.81      0.66      0.70     25000\n",
      "weighted avg       0.77      0.72      0.71     25000\n",
      "\n"
     ]
    }
   ],
   "source": [
    "print(classification_report(y_train, y_pred))"
   ]
  },
  {
   "cell_type": "code",
   "execution_count": 229,
   "id": "f66cb38b",
   "metadata": {},
   "outputs": [
    {
     "data": {
      "image/png": "[encoded data removed]",
      "text/plain": [
       "<Figure size 720x720 with 2 Axes>"
      ]
     },
     "metadata": {
      "needs_background": "light"
     },
     "output_type": "display_data"
    }
   ],
   "source": [
    "plt.figure(figsize=(10,10)) \n",
    "_ = sns.heatmap(confusion_matrix(y_train, y_pred), xticklabels=[1, 2, 3, 4, 7, 8, 9, 10], \\\n",
    "                yticklabels=[1, 2, 3, 4, 7, 8, 9, 10], cmap=rvb, fmt='g', square=True, annot=True)\n",
    "plt.title('Refined Confusion Matrix', fontsize=20, pad=20)\n",
    "plt.xlabel('Predicted', fontsize=20)\n",
    "plt.ylabel('True', fontsize=20)\n",
    "plt.yticks(rotation=0)\n",
    "plt.show()"
   ]
  },
  {
   "cell_type": "code",
   "execution_count": 230,
   "id": "36f778c9",
   "metadata": {},
   "outputs": [],
   "source": [
    "y_pred_test = clf.predict(test_object_vector).astype('int')"
   ]
  },
  {
   "cell_type": "code",
   "execution_count": 231,
   "id": "bbb6daa4",
   "metadata": {},
   "outputs": [
    {
     "name": "stdout",
     "output_type": "stream",
     "text": [
      "              precision    recall  f1-score   support\n",
      "\n",
      "           1       0.42      0.86      0.56      5022\n",
      "           2       0.19      0.02      0.03      2302\n",
      "           3       0.21      0.08      0.11      2541\n",
      "           4       0.27      0.23      0.25      2635\n",
      "           7       0.26      0.15      0.19      2307\n",
      "           8       0.25      0.22      0.24      2850\n",
      "           9       0.18      0.03      0.05      2344\n",
      "          10       0.47      0.67      0.56      4999\n",
      "\n",
      "    accuracy                           0.38     25000\n",
      "   macro avg       0.28      0.28      0.25     25000\n",
      "weighted avg       0.32      0.38      0.31     25000\n",
      "\n"
     ]
    }
   ],
   "source": [
    "print(classification_report(y_test, y_pred_test))"
   ]
  },
  {
   "cell_type": "code",
   "execution_count": 232,
   "id": "bef3c2df",
   "metadata": {},
   "outputs": [
    {
     "data": {
      "image/png": "[encoded data removed]",
      "text/plain": [
       "<Figure size 720x720 with 2 Axes>"
      ]
     },
     "metadata": {
      "needs_background": "light"
     },
     "output_type": "display_data"
    }
   ],
   "source": [
    "plt.figure(figsize=(10,10)) \n",
    "_ = sns.heatmap(confusion_matrix(y_test, y_pred_test), xticklabels=[1, 2, 3, 4, 7, 8, 9, 10], \\\n",
    "                yticklabels=[1, 2, 3, 4, 7, 8, 9, 10], cmap=rvb, fmt='g', square=True, annot=True)\n",
    "plt.title('Refined Confusion Matrix', fontsize=20, pad=20)\n",
    "plt.xlabel('Predicted', fontsize=20)\n",
    "plt.ylabel('True', fontsize=20)\n",
    "plt.yticks(rotation=0)\n",
    "plt.show()"
   ]
  },
  {
   "cell_type": "code",
   "execution_count": 129,
   "id": "d706e0c8",
   "metadata": {},
   "outputs": [],
   "source": [
    "from sklearn.feature_extraction.text import TfidfVectorizer"
   ]
  },
  {
   "cell_type": "code",
   "execution_count": 282,
   "id": "26b9d4ed",
   "metadata": {},
   "outputs": [],
   "source": [
    "vectorizer = TfidfVectorizer(ngram_range=(1, 2), stop_words='english', max_features=1000)"
   ]
  },
  {
   "cell_type": "code",
   "execution_count": 283,
   "id": "79c834d1",
   "metadata": {},
   "outputs": [],
   "source": [
    "X_train_object_tfdf = vectorizer.fit_transform(X_train[column_object])"
   ]
  },
  {
   "cell_type": "code",
   "execution_count": 284,
   "id": "7928d604",
   "metadata": {},
   "outputs": [],
   "source": [
    "X_test_object_tfdf = vectorizer.transform(X_test[column_object])"
   ]
  },
  {
   "cell_type": "code",
   "execution_count": 285,
   "id": "e33bf602",
   "metadata": {},
   "outputs": [
    {
     "data": {
      "text/plain": [
       "((25000, 1000), (25000, 1000))"
      ]
     },
     "execution_count": 285,
     "metadata": {},
     "output_type": "execute_result"
    }
   ],
   "source": [
    "X_train_object_tfdf.shape, X_test_object_tfdf.shape"
   ]
  },
  {
   "cell_type": "code",
   "execution_count": 286,
   "id": "68e7975c",
   "metadata": {},
   "outputs": [],
   "source": [
    "X_train_vector_tfdf_ss = hstack((X_train_object_tfdf, train_num_vector_ss))"
   ]
  },
  {
   "cell_type": "code",
   "execution_count": 287,
   "id": "5e97de5b",
   "metadata": {},
   "outputs": [],
   "source": [
    "X_test_vector_tfdf_ss = hstack((X_test_object_tfdf, test_num_vector_ss))"
   ]
  },
  {
   "cell_type": "code",
   "execution_count": 288,
   "id": "3383b3d6",
   "metadata": {},
   "outputs": [],
   "source": [
    "clf = MultinomialNB()"
   ]
  },
  {
   "cell_type": "code",
   "execution_count": 289,
   "id": "df8d9970",
   "metadata": {},
   "outputs": [],
   "source": [
    "cv = cross_val_score(clf, X_train_object_tfdf, y_train, cv=5, scoring='accuracy')"
   ]
  },
  {
   "cell_type": "code",
   "execution_count": 290,
   "id": "886fe478",
   "metadata": {},
   "outputs": [
    {
     "data": {
      "text/plain": [
       "array([0.3834, 0.3736, 0.3776, 0.3718, 0.3782])"
      ]
     },
     "execution_count": 290,
     "metadata": {},
     "output_type": "execute_result"
    }
   ],
   "source": [
    "cv"
   ]
  },
  {
   "cell_type": "code",
   "execution_count": 167,
   "id": "0cac00d7",
   "metadata": {},
   "outputs": [],
   "source": [
    "from sklearn.linear_model import LogisticRegression\n",
    "from sklearn.model_selection import GridSearchCV"
   ]
  },
  {
   "cell_type": "code",
   "execution_count": 244,
   "id": "6ccc83ef",
   "metadata": {},
   "outputs": [
    {
     "name": "stdout",
     "output_type": "stream",
     "text": [
      "CPU times: total: 4min 20s\n",
      "Wall time: 3h 15min 43s\n"
     ]
    },
    {
     "data": {
      "text/plain": [
       "0.40532"
      ]
     },
     "execution_count": 244,
     "metadata": {},
     "output_type": "execute_result"
    }
   ],
   "source": [
    "%%time\n",
    "# кросс-валидация на 5 фолдах и вывод метрик\n",
    "logit = LogisticRegression(random_state=0)\n",
    "logit_grid_searcher = GridSearchCV(estimator=logit, param_grid={'C':[0.7, 1.0, 2.0, 5.0],\n",
    "                                                                    'penalty' : ['l1', 'l2', 'elasticnet'],\n",
    "                                                                    'solver': ['lbfgs', 'liblinear'],\n",
    "                                                                    'max_iter':[40, 50, 70, 100]},\n",
    "                                       scoring='accuracy', n_jobs=-1, cv=5)\n",
    "logit_grid_searcher.fit(X_train_vector_tfdf_ss, y_train)\n",
    "logit_grid_searcher.best_score_"
   ]
  },
  {
   "cell_type": "code",
   "execution_count": 245,
   "id": "a773a165",
   "metadata": {},
   "outputs": [
    {
     "data": {
      "text/plain": [
       "{'C': 5.0, 'max_iter': 70, 'penalty': 'l2', 'solver': 'lbfgs'}"
      ]
     },
     "execution_count": 245,
     "metadata": {},
     "output_type": "execute_result"
    }
   ],
   "source": [
    "logit_grid_searcher.best_params_"
   ]
  },
  {
   "cell_type": "code",
   "execution_count": 246,
   "id": "0e5b5fe9",
   "metadata": {},
   "outputs": [],
   "source": [
    "y_pred = logit_grid_searcher.best_estimator_.predict(X_train_vector_tfdf_ss)"
   ]
  },
  {
   "cell_type": "code",
   "execution_count": 247,
   "id": "5ee3ea47",
   "metadata": {},
   "outputs": [
    {
     "name": "stdout",
     "output_type": "stream",
     "text": [
      "              precision    recall  f1-score   support\n",
      "\n",
      "           1       0.90      0.98      0.94      5100\n",
      "           2       0.98      0.90      0.94      2284\n",
      "           3       0.97      0.93      0.95      2420\n",
      "           4       0.97      0.94      0.95      2696\n",
      "           7       0.96      0.93      0.94      2496\n",
      "           8       0.96      0.95      0.96      3009\n",
      "           9       0.99      0.91      0.95      2263\n",
      "          10       0.92      0.96      0.94      4732\n",
      "\n",
      "    accuracy                           0.94     25000\n",
      "   macro avg       0.96      0.94      0.95     25000\n",
      "weighted avg       0.95      0.94      0.94     25000\n",
      "\n"
     ]
    }
   ],
   "source": [
    "print(classification_report(y_train, y_pred))"
   ]
  },
  {
   "cell_type": "code",
   "execution_count": 248,
   "id": "68bc7c70",
   "metadata": {},
   "outputs": [
    {
     "data": {
      "image/png": "[encoded data removed]",
      "text/plain": [
       "<Figure size 720x720 with 2 Axes>"
      ]
     },
     "metadata": {
      "needs_background": "light"
     },
     "output_type": "display_data"
    }
   ],
   "source": [
    "plt.figure(figsize=(10,10)) \n",
    "_ = sns.heatmap(confusion_matrix(y_train, y_pred), xticklabels=[1, 2, 3, 4, 7, 8, 9, 10], \\\n",
    "                yticklabels=[1, 2, 3, 4, 7, 8, 9, 10], cmap=rvb, fmt='g', square=True, annot=True)\n",
    "plt.title('Refined Confusion Matrix', fontsize=20, pad=20)\n",
    "plt.xlabel('Predicted', fontsize=20)\n",
    "plt.ylabel('True', fontsize=20)\n",
    "plt.yticks(rotation=0)\n",
    "plt.show()"
   ]
  },
  {
   "cell_type": "code",
   "execution_count": 249,
   "id": "798e7b50",
   "metadata": {},
   "outputs": [],
   "source": [
    "y_pred_test = logit_grid_searcher.best_estimator_.predict(X_test_vector_tfdf_ss).astype('int')"
   ]
  },
  {
   "cell_type": "code",
   "execution_count": 250,
   "id": "3dc425a3",
   "metadata": {},
   "outputs": [
    {
     "name": "stdout",
     "output_type": "stream",
     "text": [
      "              precision    recall  f1-score   support\n",
      "\n",
      "           1       0.54      0.79      0.64      5022\n",
      "           2       0.21      0.09      0.12      2302\n",
      "           3       0.25      0.16      0.20      2541\n",
      "           4       0.30      0.32      0.31      2635\n",
      "           7       0.28      0.29      0.29      2307\n",
      "           8       0.26      0.28      0.27      2850\n",
      "           9       0.23      0.07      0.11      2344\n",
      "          10       0.54      0.67      0.60      4999\n",
      "\n",
      "    accuracy                           0.42     25000\n",
      "   macro avg       0.33      0.33      0.32     25000\n",
      "weighted avg       0.37      0.42      0.38     25000\n",
      "\n"
     ]
    }
   ],
   "source": [
    "print(classification_report(y_test, y_pred_test))"
   ]
  },
  {
   "cell_type": "code",
   "execution_count": 252,
   "id": "947ea661",
   "metadata": {},
   "outputs": [
    {
     "data": {
      "image/png": "[encoded data removed]",
      "text/plain": [
       "<Figure size 720x720 with 2 Axes>"
      ]
     },
     "metadata": {
      "needs_background": "light"
     },
     "output_type": "display_data"
    }
   ],
   "source": [
    "plt.figure(figsize=(10,10)) \n",
    "_ = sns.heatmap(confusion_matrix(y_test, y_pred_test), xticklabels=[1, 2, 3, 4, 7, 8, 9, 10], \\\n",
    "                yticklabels=[1, 2, 3, 4, 7, 8, 9, 10], cmap=rvb, fmt='g', square=True, annot=True)\n",
    "plt.title('Refined Confusion Matrix', fontsize=20, pad=20)\n",
    "plt.xlabel('Predicted', fontsize=20)\n",
    "plt.ylabel('True', fontsize=20)\n",
    "plt.yticks(rotation=0)\n",
    "plt.show()"
   ]
  },
  {
   "cell_type": "code",
   "execution_count": 291,
   "id": "5bfb4d8d",
   "metadata": {},
   "outputs": [],
   "source": [
    "from sklearn.neighbors import KNeighborsClassifier\n",
    "neigh = KNeighborsClassifier(n_neighbors=5, weights='uniform')"
   ]
  },
  {
   "cell_type": "code",
   "execution_count": 292,
   "id": "b52d7586",
   "metadata": {},
   "outputs": [
    {
     "data": {
      "text/html": [
       "<style>#sk-container-id-14 {color: black;background-color: white;}#sk-container-id-14 pre{padding: 0;}#sk-container-id-14 div.sk-toggleable {background-color: white;}#sk-container-id-14 label.sk-toggleable__label {cursor: pointer;display: block;width: 100%;margin-bottom: 0;padding: 0.3em;box-sizing: border-box;text-align: center;}#sk-container-id-14 label.sk-toggleable__label-arrow:before {content: \"▸\";float: left;margin-right: 0.25em;color: #696969;}#sk-container-id-14 label.sk-toggleable__label-arrow:hover:before {color: black;}#sk-container-id-14 div.sk-estimator:hover label.sk-toggleable__label-arrow:before {color: black;}#sk-container-id-14 div.sk-toggleable__content {max-height: 0;max-width: 0;overflow: hidden;text-align: left;background-color: #f0f8ff;}#sk-container-id-14 div.sk-toggleable__content pre {margin: 0.2em;color: black;border-radius: 0.25em;background-color: #f0f8ff;}#sk-container-id-14 input.sk-toggleable__control:checked~div.sk-toggleable__content {max-height: 200px;max-width: 100%;overflow: auto;}#sk-container-id-14 input.sk-toggleable__control:checked~label.sk-toggleable__label-arrow:before {content: \"▾\";}#sk-container-id-14 div.sk-estimator input.sk-toggleable__control:checked~label.sk-toggleable__label {background-color: #d4ebff;}#sk-container-id-14 div.sk-label input.sk-toggleable__control:checked~label.sk-toggleable__label {background-color: #d4ebff;}#sk-container-id-14 input.sk-hidden--visually {border: 0;clip: rect(1px 1px 1px 1px);clip: rect(1px, 1px, 1px, 1px);height: 1px;margin: -1px;overflow: hidden;padding: 0;position: absolute;width: 1px;}#sk-container-id-14 div.sk-estimator {font-family: monospace;background-color: #f0f8ff;border: 1px dotted black;border-radius: 0.25em;box-sizing: border-box;margin-bottom: 0.5em;}#sk-container-id-14 div.sk-estimator:hover {background-color: #d4ebff;}#sk-container-id-14 div.sk-parallel-item::after {content: \"\";width: 100%;border-bottom: 1px solid gray;flex-grow: 1;}#sk-container-id-14 div.sk-label:hover label.sk-toggleable__label {background-color: #d4ebff;}#sk-container-id-14 div.sk-serial::before {content: \"\";position: absolute;border-left: 1px solid gray;box-sizing: border-box;top: 0;bottom: 0;left: 50%;z-index: 0;}#sk-container-id-14 div.sk-serial {display: flex;flex-direction: column;align-items: center;background-color: white;padding-right: 0.2em;padding-left: 0.2em;position: relative;}#sk-container-id-14 div.sk-item {position: relative;z-index: 1;}#sk-container-id-14 div.sk-parallel {display: flex;align-items: stretch;justify-content: center;background-color: white;position: relative;}#sk-container-id-14 div.sk-item::before, #sk-container-id-14 div.sk-parallel-item::before {content: \"\";position: absolute;border-left: 1px solid gray;box-sizing: border-box;top: 0;bottom: 0;left: 50%;z-index: -1;}#sk-container-id-14 div.sk-parallel-item {display: flex;flex-direction: column;z-index: 1;position: relative;background-color: white;}#sk-container-id-14 div.sk-parallel-item:first-child::after {align-self: flex-end;width: 50%;}#sk-container-id-14 div.sk-parallel-item:last-child::after {align-self: flex-start;width: 50%;}#sk-container-id-14 div.sk-parallel-item:only-child::after {width: 0;}#sk-container-id-14 div.sk-dashed-wrapped {border: 1px dashed gray;margin: 0 0.4em 0.5em 0.4em;box-sizing: border-box;padding-bottom: 0.4em;background-color: white;}#sk-container-id-14 div.sk-label label {font-family: monospace;font-weight: bold;display: inline-block;line-height: 1.2em;}#sk-container-id-14 div.sk-label-container {text-align: center;}#sk-container-id-14 div.sk-container {/* jupyter's `normalize.less` sets `[hidden] { display: none; }` but bootstrap.min.css set `[hidden] { display: none !important; }` so we also need the `!important` here to be able to override the default hidden behavior on the sphinx rendered scikit-learn.org. See: https://github.com/scikit-learn/scikit-learn/issues/21755 */display: inline-block !important;position: relative;}#sk-container-id-14 div.sk-text-repr-fallback {display: none;}</style><div id=\"sk-container-id-14\" class=\"sk-top-container\"><div class=\"sk-text-repr-fallback\"><pre>KNeighborsClassifier()</pre><b>In a Jupyter environment, please rerun this cell to show the HTML representation or trust the notebook. <br />On GitHub, the HTML representation is unable to render, please try loading this page with nbviewer.org.</b></div><div class=\"sk-container\" hidden><div class=\"sk-item\"><div class=\"sk-estimator sk-toggleable\"><input class=\"sk-toggleable__control sk-hidden--visually\" id=\"sk-estimator-id-14\" type=\"checkbox\" checked><label for=\"sk-estimator-id-14\" class=\"sk-toggleable__label sk-toggleable__label-arrow\">KNeighborsClassifier</label><div class=\"sk-toggleable__content\"><pre>KNeighborsClassifier()</pre></div></div></div></div></div>"
      ],
      "text/plain": [
       "KNeighborsClassifier()"
      ]
     },
     "execution_count": 292,
     "metadata": {},
     "output_type": "execute_result"
    }
   ],
   "source": [
    "neigh.fit(X_train_vector_tfdf_ss, y_train)"
   ]
  },
  {
   "cell_type": "code",
   "execution_count": 293,
   "id": "7b3fde68",
   "metadata": {},
   "outputs": [],
   "source": [
    "y_pred = neigh.predict(X_train_vector_tfdf_ss)"
   ]
  },
  {
   "cell_type": "code",
   "execution_count": 294,
   "id": "e80c22e2",
   "metadata": {},
   "outputs": [
    {
     "name": "stdout",
     "output_type": "stream",
     "text": [
      "              precision    recall  f1-score   support\n",
      "\n",
      "           1       0.50      0.83      0.63      5100\n",
      "           2       0.44      0.34      0.38      2284\n",
      "           3       0.47      0.33      0.39      2420\n",
      "           4       0.51      0.36      0.42      2696\n",
      "           7       0.47      0.41      0.44      2496\n",
      "           8       0.49      0.43      0.46      3009\n",
      "           9       0.48      0.32      0.39      2263\n",
      "          10       0.58      0.59      0.58      4732\n",
      "\n",
      "    accuracy                           0.51     25000\n",
      "   macro avg       0.49      0.45      0.46     25000\n",
      "weighted avg       0.50      0.51      0.49     25000\n",
      "\n"
     ]
    }
   ],
   "source": [
    "print(classification_report(y_train, y_pred))"
   ]
  },
  {
   "cell_type": "code",
   "execution_count": 295,
   "id": "e3eaaa28",
   "metadata": {},
   "outputs": [
    {
     "data": {
      "image/png": "[encoded data removed]",
      "text/plain": [
       "<Figure size 720x720 with 2 Axes>"
      ]
     },
     "metadata": {
      "needs_background": "light"
     },
     "output_type": "display_data"
    }
   ],
   "source": [
    "plt.figure(figsize=(10,10)) \n",
    "_ = sns.heatmap(confusion_matrix(y_train, y_pred), xticklabels=[1, 2, 3, 4, 7, 8, 9, 10], \\\n",
    "                yticklabels=[1, 2, 3, 4, 7, 8, 9, 10], cmap=rvb, fmt='g', square=True, annot=True)\n",
    "plt.title('Refined Confusion Matrix', fontsize=20, pad=20)\n",
    "plt.xlabel('Predicted', fontsize=20)\n",
    "plt.ylabel('True', fontsize=20)\n",
    "plt.yticks(rotation=0)\n",
    "plt.show()"
   ]
  },
  {
   "cell_type": "code",
   "execution_count": 296,
   "id": "b7730b4b",
   "metadata": {},
   "outputs": [],
   "source": [
    "y_pred_test = neigh.predict(X_test_vector_tfdf_ss)"
   ]
  },
  {
   "cell_type": "code",
   "execution_count": 297,
   "id": "f2624753",
   "metadata": {},
   "outputs": [
    {
     "name": "stdout",
     "output_type": "stream",
     "text": [
      "              precision    recall  f1-score   support\n",
      "\n",
      "           1       0.36      0.65      0.46      5022\n",
      "           2       0.13      0.10      0.11      2302\n",
      "           3       0.14      0.09      0.11      2541\n",
      "           4       0.15      0.10      0.12      2635\n",
      "           7       0.16      0.14      0.15      2307\n",
      "           8       0.17      0.15      0.16      2850\n",
      "           9       0.14      0.09      0.11      2344\n",
      "          10       0.38      0.36      0.37      4999\n",
      "\n",
      "    accuracy                           0.27     25000\n",
      "   macro avg       0.20      0.21      0.20     25000\n",
      "weighted avg       0.24      0.27      0.24     25000\n",
      "\n"
     ]
    }
   ],
   "source": [
    "print(classification_report(y_test, y_pred_test))"
   ]
  },
  {
   "cell_type": "code",
   "execution_count": 298,
   "id": "7f3e51c9",
   "metadata": {},
   "outputs": [
    {
     "data": {
      "image/png": "[encoded data removed]",
      "text/plain": [
       "<Figure size 720x720 with 2 Axes>"
      ]
     },
     "metadata": {
      "needs_background": "light"
     },
     "output_type": "display_data"
    }
   ],
   "source": [
    "plt.figure(figsize=(10,10)) \n",
    "_ = sns.heatmap(confusion_matrix(y_test, y_pred_test), xticklabels=[1, 2, 3, 4, 7, 8, 9, 10], \\\n",
    "                yticklabels=[1, 2, 3, 4, 7, 8, 9, 10], cmap=rvb, fmt='g', square=True, annot=True)\n",
    "plt.title('Refined Confusion Matrix', fontsize=20, pad=20)\n",
    "plt.xlabel('Predicted', fontsize=20)\n",
    "plt.ylabel('True', fontsize=20)\n",
    "plt.yticks(rotation=0)\n",
    "plt.show()"
   ]
  },
  {
   "cell_type": "code",
   "execution_count": 299,
   "id": "2f69b351",
   "metadata": {},
   "outputs": [],
   "source": [
    "from sklearn.ensemble import RandomForestClassifier"
   ]
  },
  {
   "cell_type": "code",
   "execution_count": 300,
   "id": "bceba1d3",
   "metadata": {},
   "outputs": [],
   "source": [
    "clf = RandomForestClassifier(n_estimators=100, max_depth=7, random_state=0)"
   ]
  },
  {
   "cell_type": "code",
   "execution_count": 301,
   "id": "7be753ac",
   "metadata": {},
   "outputs": [
    {
     "data": {
      "text/html": [
       "<style>#sk-container-id-15 {color: black;background-color: white;}#sk-container-id-15 pre{padding: 0;}#sk-container-id-15 div.sk-toggleable {background-color: white;}#sk-container-id-15 label.sk-toggleable__label {cursor: pointer;display: block;width: 100%;margin-bottom: 0;padding: 0.3em;box-sizing: border-box;text-align: center;}#sk-container-id-15 label.sk-toggleable__label-arrow:before {content: \"▸\";float: left;margin-right: 0.25em;color: #696969;}#sk-container-id-15 label.sk-toggleable__label-arrow:hover:before {color: black;}#sk-container-id-15 div.sk-estimator:hover label.sk-toggleable__label-arrow:before {color: black;}#sk-container-id-15 div.sk-toggleable__content {max-height: 0;max-width: 0;overflow: hidden;text-align: left;background-color: #f0f8ff;}#sk-container-id-15 div.sk-toggleable__content pre {margin: 0.2em;color: black;border-radius: 0.25em;background-color: #f0f8ff;}#sk-container-id-15 input.sk-toggleable__control:checked~div.sk-toggleable__content {max-height: 200px;max-width: 100%;overflow: auto;}#sk-container-id-15 input.sk-toggleable__control:checked~label.sk-toggleable__label-arrow:before {content: \"▾\";}#sk-container-id-15 div.sk-estimator input.sk-toggleable__control:checked~label.sk-toggleable__label {background-color: #d4ebff;}#sk-container-id-15 div.sk-label input.sk-toggleable__control:checked~label.sk-toggleable__label {background-color: #d4ebff;}#sk-container-id-15 input.sk-hidden--visually {border: 0;clip: rect(1px 1px 1px 1px);clip: rect(1px, 1px, 1px, 1px);height: 1px;margin: -1px;overflow: hidden;padding: 0;position: absolute;width: 1px;}#sk-container-id-15 div.sk-estimator {font-family: monospace;background-color: #f0f8ff;border: 1px dotted black;border-radius: 0.25em;box-sizing: border-box;margin-bottom: 0.5em;}#sk-container-id-15 div.sk-estimator:hover {background-color: #d4ebff;}#sk-container-id-15 div.sk-parallel-item::after {content: \"\";width: 100%;border-bottom: 1px solid gray;flex-grow: 1;}#sk-container-id-15 div.sk-label:hover label.sk-toggleable__label {background-color: #d4ebff;}#sk-container-id-15 div.sk-serial::before {content: \"\";position: absolute;border-left: 1px solid gray;box-sizing: border-box;top: 0;bottom: 0;left: 50%;z-index: 0;}#sk-container-id-15 div.sk-serial {display: flex;flex-direction: column;align-items: center;background-color: white;padding-right: 0.2em;padding-left: 0.2em;position: relative;}#sk-container-id-15 div.sk-item {position: relative;z-index: 1;}#sk-container-id-15 div.sk-parallel {display: flex;align-items: stretch;justify-content: center;background-color: white;position: relative;}#sk-container-id-15 div.sk-item::before, #sk-container-id-15 div.sk-parallel-item::before {content: \"\";position: absolute;border-left: 1px solid gray;box-sizing: border-box;top: 0;bottom: 0;left: 50%;z-index: -1;}#sk-container-id-15 div.sk-parallel-item {display: flex;flex-direction: column;z-index: 1;position: relative;background-color: white;}#sk-container-id-15 div.sk-parallel-item:first-child::after {align-self: flex-end;width: 50%;}#sk-container-id-15 div.sk-parallel-item:last-child::after {align-self: flex-start;width: 50%;}#sk-container-id-15 div.sk-parallel-item:only-child::after {width: 0;}#sk-container-id-15 div.sk-dashed-wrapped {border: 1px dashed gray;margin: 0 0.4em 0.5em 0.4em;box-sizing: border-box;padding-bottom: 0.4em;background-color: white;}#sk-container-id-15 div.sk-label label {font-family: monospace;font-weight: bold;display: inline-block;line-height: 1.2em;}#sk-container-id-15 div.sk-label-container {text-align: center;}#sk-container-id-15 div.sk-container {/* jupyter's `normalize.less` sets `[hidden] { display: none; }` but bootstrap.min.css set `[hidden] { display: none !important; }` so we also need the `!important` here to be able to override the default hidden behavior on the sphinx rendered scikit-learn.org. See: https://github.com/scikit-learn/scikit-learn/issues/21755 */display: inline-block !important;position: relative;}#sk-container-id-15 div.sk-text-repr-fallback {display: none;}</style><div id=\"sk-container-id-15\" class=\"sk-top-container\"><div class=\"sk-text-repr-fallback\"><pre>RandomForestClassifier(max_depth=7, random_state=0)</pre><b>In a Jupyter environment, please rerun this cell to show the HTML representation or trust the notebook. <br />On GitHub, the HTML representation is unable to render, please try loading this page with nbviewer.org.</b></div><div class=\"sk-container\" hidden><div class=\"sk-item\"><div class=\"sk-estimator sk-toggleable\"><input class=\"sk-toggleable__control sk-hidden--visually\" id=\"sk-estimator-id-15\" type=\"checkbox\" checked><label for=\"sk-estimator-id-15\" class=\"sk-toggleable__label sk-toggleable__label-arrow\">RandomForestClassifier</label><div class=\"sk-toggleable__content\"><pre>RandomForestClassifier(max_depth=7, random_state=0)</pre></div></div></div></div></div>"
      ],
      "text/plain": [
       "RandomForestClassifier(max_depth=7, random_state=0)"
      ]
     },
     "execution_count": 301,
     "metadata": {},
     "output_type": "execute_result"
    }
   ],
   "source": [
    "clf.fit(X_train_vector_tfdf_ss, y_train)"
   ]
  },
  {
   "cell_type": "code",
   "execution_count": 302,
   "id": "2658fff6",
   "metadata": {},
   "outputs": [],
   "source": [
    "y_pred = neigh.predict(X_train_vector_tfdf_ss)"
   ]
  },
  {
   "cell_type": "code",
   "execution_count": 303,
   "id": "c635985e",
   "metadata": {},
   "outputs": [
    {
     "name": "stdout",
     "output_type": "stream",
     "text": [
      "              precision    recall  f1-score   support\n",
      "\n",
      "           1       0.50      0.83      0.63      5100\n",
      "           2       0.44      0.34      0.38      2284\n",
      "           3       0.47      0.33      0.39      2420\n",
      "           4       0.51      0.36      0.42      2696\n",
      "           7       0.47      0.41      0.44      2496\n",
      "           8       0.49      0.43      0.46      3009\n",
      "           9       0.48      0.32      0.39      2263\n",
      "          10       0.58      0.59      0.58      4732\n",
      "\n",
      "    accuracy                           0.51     25000\n",
      "   macro avg       0.49      0.45      0.46     25000\n",
      "weighted avg       0.50      0.51      0.49     25000\n",
      "\n"
     ]
    }
   ],
   "source": [
    "print(classification_report(y_train, y_pred))"
   ]
  },
  {
   "cell_type": "code",
   "execution_count": 304,
   "id": "6b9d5f45",
   "metadata": {},
   "outputs": [],
   "source": [
    "from catboost import CatBoostClassifier, Pool"
   ]
  },
  {
   "cell_type": "code",
   "execution_count": 305,
   "id": "2a43067d",
   "metadata": {},
   "outputs": [],
   "source": [
    "model = CatBoostClassifier(loss_function='MultiClass')"
   ]
  },
  {
   "cell_type": "code",
   "execution_count": 306,
   "id": "cc617fff",
   "metadata": {},
   "outputs": [],
   "source": [
    "train_dataset = Pool(X_train_vector_tfdf_ss.toarray(), y_train)"
   ]
  },
  {
   "cell_type": "code",
   "execution_count": 307,
   "id": "8cdd2fa9",
   "metadata": {},
   "outputs": [
    {
     "data": {
      "application/vnd.jupyter.widget-view+json": {
       "model_id": "1d6006060607481688c436bb44b078ed",
       "version_major": 2,
       "version_minor": 0
      },
      "text/plain": [
       "MetricVisualizer(layout=Layout(align_self='stretch', height='500px'))"
      ]
     },
     "metadata": {},
     "output_type": "display_data"
    },
    {
     "name": "stdout",
     "output_type": "stream",
     "text": [
      "Learning rate set to 0.093243\n",
      "0:\tlearn: 2.0255170\ttotal: 921ms\tremaining: 15m 20s\n",
      "1:\tlearn: 1.9855394\ttotal: 1.8s\tremaining: 14m 57s\n",
      "2:\tlearn: 1.9567553\ttotal: 2.64s\tremaining: 14m 37s\n",
      "3:\tlearn: 1.9317969\ttotal: 3.49s\tremaining: 14m 28s\n",
      "4:\tlearn: 1.9071326\ttotal: 4.34s\tremaining: 14m 24s\n",
      "5:\tlearn: 1.8879221\ttotal: 5.21s\tremaining: 14m 22s\n",
      "6:\tlearn: 1.8704710\ttotal: 6.02s\tremaining: 14m 14s\n",
      "7:\tlearn: 1.8540093\ttotal: 6.88s\tremaining: 14m 13s\n",
      "8:\tlearn: 1.8418118\ttotal: 7.74s\tremaining: 14m 12s\n",
      "9:\tlearn: 1.8306596\ttotal: 8.58s\tremaining: 14m 9s\n",
      "10:\tlearn: 1.8223163\ttotal: 9.43s\tremaining: 14m 7s\n",
      "11:\tlearn: 1.8124773\ttotal: 10.2s\tremaining: 14m 3s\n",
      "12:\tlearn: 1.8041656\ttotal: 11.1s\tremaining: 14m\n",
      "13:\tlearn: 1.7960493\ttotal: 11.9s\tremaining: 13m 57s\n",
      "14:\tlearn: 1.7896613\ttotal: 12.7s\tremaining: 13m 57s\n",
      "15:\tlearn: 1.7834946\ttotal: 13.6s\tremaining: 13m 54s\n",
      "16:\tlearn: 1.7792297\ttotal: 14.4s\tremaining: 13m 52s\n",
      "17:\tlearn: 1.7748786\ttotal: 15.2s\tremaining: 13m 50s\n",
      "18:\tlearn: 1.7708347\ttotal: 16s\tremaining: 13m 48s\n",
      "19:\tlearn: 1.7657574\ttotal: 16.9s\tremaining: 13m 46s\n",
      "20:\tlearn: 1.7613370\ttotal: 17.7s\tremaining: 13m 43s\n",
      "21:\tlearn: 1.7579348\ttotal: 18.5s\tremaining: 13m 40s\n",
      "22:\tlearn: 1.7548817\ttotal: 19.3s\tremaining: 13m 37s\n",
      "23:\tlearn: 1.7510159\ttotal: 20.1s\tremaining: 13m 37s\n",
      "24:\tlearn: 1.7485422\ttotal: 20.9s\tremaining: 13m 34s\n",
      "25:\tlearn: 1.7454268\ttotal: 21.7s\tremaining: 13m 33s\n",
      "26:\tlearn: 1.7427624\ttotal: 22.6s\tremaining: 13m 33s\n",
      "27:\tlearn: 1.7399853\ttotal: 23.4s\tremaining: 13m 30s\n",
      "28:\tlearn: 1.7377197\ttotal: 24.1s\tremaining: 13m 28s\n",
      "29:\tlearn: 1.7350409\ttotal: 24.9s\tremaining: 13m 26s\n",
      "30:\tlearn: 1.7324401\ttotal: 25.7s\tremaining: 13m 24s\n",
      "31:\tlearn: 1.7297538\ttotal: 26.5s\tremaining: 13m 22s\n",
      "32:\tlearn: 1.7276206\ttotal: 27.3s\tremaining: 13m 21s\n",
      "33:\tlearn: 1.7250365\ttotal: 28.1s\tremaining: 13m 19s\n",
      "34:\tlearn: 1.7227849\ttotal: 29s\tremaining: 13m 18s\n",
      "35:\tlearn: 1.7208656\ttotal: 29.7s\tremaining: 13m 16s\n",
      "36:\tlearn: 1.7185926\ttotal: 30.5s\tremaining: 13m 14s\n",
      "37:\tlearn: 1.7168973\ttotal: 31.4s\tremaining: 13m 15s\n",
      "38:\tlearn: 1.7147216\ttotal: 32.2s\tremaining: 13m 14s\n",
      "39:\tlearn: 1.7122856\ttotal: 33.1s\tremaining: 13m 13s\n",
      "40:\tlearn: 1.7097812\ttotal: 33.9s\tremaining: 13m 13s\n",
      "41:\tlearn: 1.7080000\ttotal: 34.7s\tremaining: 13m 11s\n",
      "42:\tlearn: 1.7062428\ttotal: 35.5s\tremaining: 13m 10s\n",
      "43:\tlearn: 1.7038793\ttotal: 36.3s\tremaining: 13m 9s\n",
      "44:\tlearn: 1.7016637\ttotal: 37.2s\tremaining: 13m 8s\n",
      "45:\tlearn: 1.6998605\ttotal: 38s\tremaining: 13m 7s\n",
      "46:\tlearn: 1.6983072\ttotal: 38.8s\tremaining: 13m 6s\n",
      "47:\tlearn: 1.6963230\ttotal: 39.6s\tremaining: 13m 5s\n",
      "48:\tlearn: 1.6940315\ttotal: 40.4s\tremaining: 13m 3s\n",
      "49:\tlearn: 1.6931381\ttotal: 41.2s\tremaining: 13m 2s\n",
      "50:\tlearn: 1.6914080\ttotal: 42s\tremaining: 13m\n",
      "51:\tlearn: 1.6895021\ttotal: 42.7s\tremaining: 12m 59s\n",
      "52:\tlearn: 1.6884755\ttotal: 43.5s\tremaining: 12m 57s\n",
      "53:\tlearn: 1.6865259\ttotal: 44.3s\tremaining: 12m 56s\n",
      "54:\tlearn: 1.6849501\ttotal: 45.1s\tremaining: 12m 54s\n",
      "55:\tlearn: 1.6834350\ttotal: 45.9s\tremaining: 12m 53s\n",
      "56:\tlearn: 1.6811242\ttotal: 46.7s\tremaining: 12m 52s\n",
      "57:\tlearn: 1.6800262\ttotal: 47.5s\tremaining: 12m 50s\n",
      "58:\tlearn: 1.6786345\ttotal: 48.3s\tremaining: 12m 49s\n",
      "59:\tlearn: 1.6776485\ttotal: 49s\tremaining: 12m 48s\n",
      "60:\tlearn: 1.6765403\ttotal: 49.8s\tremaining: 12m 46s\n",
      "61:\tlearn: 1.6750424\ttotal: 50.6s\tremaining: 12m 45s\n",
      "62:\tlearn: 1.6735651\ttotal: 51.4s\tremaining: 12m 44s\n",
      "63:\tlearn: 1.6723466\ttotal: 52.2s\tremaining: 12m 43s\n",
      "64:\tlearn: 1.6708502\ttotal: 53s\tremaining: 12m 42s\n",
      "65:\tlearn: 1.6696773\ttotal: 53.8s\tremaining: 12m 41s\n",
      "66:\tlearn: 1.6682151\ttotal: 54.6s\tremaining: 12m 40s\n",
      "67:\tlearn: 1.6670954\ttotal: 55.4s\tremaining: 12m 39s\n",
      "68:\tlearn: 1.6646292\ttotal: 56.3s\tremaining: 12m 39s\n",
      "69:\tlearn: 1.6631624\ttotal: 57.1s\tremaining: 12m 38s\n",
      "70:\tlearn: 1.6616285\ttotal: 57.9s\tremaining: 12m 37s\n",
      "71:\tlearn: 1.6602982\ttotal: 58.6s\tremaining: 12m 35s\n",
      "72:\tlearn: 1.6590865\ttotal: 59.4s\tremaining: 12m 34s\n",
      "73:\tlearn: 1.6579642\ttotal: 1m\tremaining: 12m 33s\n",
      "74:\tlearn: 1.6566504\ttotal: 1m\tremaining: 12m 32s\n",
      "75:\tlearn: 1.6549827\ttotal: 1m 1s\tremaining: 12m 31s\n",
      "76:\tlearn: 1.6537459\ttotal: 1m 2s\tremaining: 12m 30s\n",
      "77:\tlearn: 1.6530245\ttotal: 1m 3s\tremaining: 12m 29s\n",
      "78:\tlearn: 1.6515865\ttotal: 1m 4s\tremaining: 12m 28s\n",
      "79:\tlearn: 1.6500751\ttotal: 1m 4s\tremaining: 12m 27s\n",
      "80:\tlearn: 1.6485336\ttotal: 1m 5s\tremaining: 12m 26s\n",
      "81:\tlearn: 1.6470815\ttotal: 1m 6s\tremaining: 12m 24s\n",
      "82:\tlearn: 1.6458939\ttotal: 1m 7s\tremaining: 12m 23s\n",
      "83:\tlearn: 1.6446070\ttotal: 1m 8s\tremaining: 12m 22s\n",
      "84:\tlearn: 1.6434831\ttotal: 1m 8s\tremaining: 12m 21s\n",
      "85:\tlearn: 1.6421944\ttotal: 1m 9s\tremaining: 12m 20s\n",
      "86:\tlearn: 1.6414077\ttotal: 1m 10s\tremaining: 12m 19s\n",
      "87:\tlearn: 1.6401763\ttotal: 1m 11s\tremaining: 12m 18s\n",
      "88:\tlearn: 1.6390258\ttotal: 1m 12s\tremaining: 12m 17s\n",
      "89:\tlearn: 1.6379176\ttotal: 1m 12s\tremaining: 12m 17s\n",
      "90:\tlearn: 1.6361207\ttotal: 1m 13s\tremaining: 12m 16s\n",
      "91:\tlearn: 1.6352316\ttotal: 1m 14s\tremaining: 12m 16s\n",
      "92:\tlearn: 1.6342864\ttotal: 1m 15s\tremaining: 12m 15s\n",
      "93:\tlearn: 1.6333417\ttotal: 1m 16s\tremaining: 12m 14s\n",
      "94:\tlearn: 1.6323300\ttotal: 1m 16s\tremaining: 12m 13s\n",
      "95:\tlearn: 1.6310654\ttotal: 1m 17s\tremaining: 12m 12s\n",
      "96:\tlearn: 1.6300400\ttotal: 1m 18s\tremaining: 12m 11s\n",
      "97:\tlearn: 1.6289299\ttotal: 1m 19s\tremaining: 12m 10s\n",
      "98:\tlearn: 1.6277958\ttotal: 1m 20s\tremaining: 12m 10s\n",
      "99:\tlearn: 1.6264476\ttotal: 1m 21s\tremaining: 12m 9s\n",
      "100:\tlearn: 1.6251827\ttotal: 1m 21s\tremaining: 12m 8s\n",
      "101:\tlearn: 1.6238466\ttotal: 1m 22s\tremaining: 12m 8s\n",
      "102:\tlearn: 1.6228232\ttotal: 1m 23s\tremaining: 12m 7s\n",
      "103:\tlearn: 1.6217891\ttotal: 1m 24s\tremaining: 12m 6s\n",
      "104:\tlearn: 1.6205395\ttotal: 1m 25s\tremaining: 12m 5s\n",
      "105:\tlearn: 1.6194345\ttotal: 1m 25s\tremaining: 12m 4s\n",
      "106:\tlearn: 1.6180375\ttotal: 1m 26s\tremaining: 12m 4s\n",
      "107:\tlearn: 1.6164594\ttotal: 1m 27s\tremaining: 12m 3s\n",
      "108:\tlearn: 1.6149374\ttotal: 1m 28s\tremaining: 12m 2s\n",
      "109:\tlearn: 1.6137426\ttotal: 1m 29s\tremaining: 12m 1s\n",
      "110:\tlearn: 1.6127929\ttotal: 1m 30s\tremaining: 12m\n",
      "111:\tlearn: 1.6116959\ttotal: 1m 30s\tremaining: 12m\n",
      "112:\tlearn: 1.6103276\ttotal: 1m 31s\tremaining: 11m 59s\n",
      "113:\tlearn: 1.6092471\ttotal: 1m 32s\tremaining: 11m 58s\n",
      "114:\tlearn: 1.6081601\ttotal: 1m 33s\tremaining: 11m 57s\n",
      "115:\tlearn: 1.6070302\ttotal: 1m 34s\tremaining: 11m 56s\n",
      "116:\tlearn: 1.6056708\ttotal: 1m 34s\tremaining: 11m 55s\n",
      "117:\tlearn: 1.6041118\ttotal: 1m 35s\tremaining: 11m 55s\n",
      "118:\tlearn: 1.6029160\ttotal: 1m 36s\tremaining: 11m 54s\n",
      "119:\tlearn: 1.6021367\ttotal: 1m 37s\tremaining: 11m 53s\n",
      "120:\tlearn: 1.6008755\ttotal: 1m 38s\tremaining: 11m 52s\n",
      "121:\tlearn: 1.5995233\ttotal: 1m 38s\tremaining: 11m 52s\n",
      "122:\tlearn: 1.5983914\ttotal: 1m 39s\tremaining: 11m 51s\n",
      "123:\tlearn: 1.5969167\ttotal: 1m 40s\tremaining: 11m 50s\n",
      "124:\tlearn: 1.5957417\ttotal: 1m 41s\tremaining: 11m 49s\n",
      "125:\tlearn: 1.5941916\ttotal: 1m 42s\tremaining: 11m 48s\n",
      "126:\tlearn: 1.5931831\ttotal: 1m 43s\tremaining: 11m 48s\n",
      "127:\tlearn: 1.5923062\ttotal: 1m 43s\tremaining: 11m 47s\n",
      "128:\tlearn: 1.5913275\ttotal: 1m 44s\tremaining: 11m 46s\n",
      "129:\tlearn: 1.5899108\ttotal: 1m 45s\tremaining: 11m 46s\n",
      "130:\tlearn: 1.5887582\ttotal: 1m 46s\tremaining: 11m 45s\n",
      "131:\tlearn: 1.5876700\ttotal: 1m 47s\tremaining: 11m 44s\n",
      "132:\tlearn: 1.5863744\ttotal: 1m 48s\tremaining: 11m 44s\n",
      "133:\tlearn: 1.5855315\ttotal: 1m 48s\tremaining: 11m 43s\n",
      "134:\tlearn: 1.5839609\ttotal: 1m 49s\tremaining: 11m 43s\n",
      "135:\tlearn: 1.5830211\ttotal: 1m 50s\tremaining: 11m 42s\n",
      "136:\tlearn: 1.5817386\ttotal: 1m 51s\tremaining: 11m 41s\n",
      "137:\tlearn: 1.5806058\ttotal: 1m 52s\tremaining: 11m 40s\n",
      "138:\tlearn: 1.5795598\ttotal: 1m 52s\tremaining: 11m 39s\n",
      "139:\tlearn: 1.5783763\ttotal: 1m 53s\tremaining: 11m 38s\n",
      "140:\tlearn: 1.5773364\ttotal: 1m 54s\tremaining: 11m 37s\n",
      "141:\tlearn: 1.5760354\ttotal: 1m 55s\tremaining: 11m 36s\n",
      "142:\tlearn: 1.5749640\ttotal: 1m 56s\tremaining: 11m 35s\n",
      "143:\tlearn: 1.5739060\ttotal: 1m 56s\tremaining: 11m 34s\n",
      "144:\tlearn: 1.5727100\ttotal: 1m 57s\tremaining: 11m 33s\n",
      "145:\tlearn: 1.5715004\ttotal: 1m 58s\tremaining: 11m 32s\n",
      "146:\tlearn: 1.5705309\ttotal: 1m 59s\tremaining: 11m 31s\n",
      "147:\tlearn: 1.5693046\ttotal: 2m\tremaining: 11m 31s\n",
      "148:\tlearn: 1.5678106\ttotal: 2m\tremaining: 11m 30s\n",
      "149:\tlearn: 1.5669086\ttotal: 2m 1s\tremaining: 11m 29s\n",
      "150:\tlearn: 1.5654156\ttotal: 2m 2s\tremaining: 11m 28s\n",
      "151:\tlearn: 1.5644800\ttotal: 2m 3s\tremaining: 11m 27s\n",
      "152:\tlearn: 1.5637374\ttotal: 2m 4s\tremaining: 11m 26s\n",
      "153:\tlearn: 1.5630284\ttotal: 2m 4s\tremaining: 11m 25s\n"
     ]
    },
    {
     "name": "stdout",
     "output_type": "stream",
     "text": [
      "154:\tlearn: 1.5621828\ttotal: 2m 5s\tremaining: 11m 25s\n",
      "155:\tlearn: 1.5612122\ttotal: 2m 6s\tremaining: 11m 24s\n",
      "156:\tlearn: 1.5601514\ttotal: 2m 7s\tremaining: 11m 23s\n",
      "157:\tlearn: 1.5590706\ttotal: 2m 8s\tremaining: 11m 22s\n",
      "158:\tlearn: 1.5580261\ttotal: 2m 8s\tremaining: 11m 21s\n",
      "159:\tlearn: 1.5572406\ttotal: 2m 9s\tremaining: 11m 20s\n",
      "160:\tlearn: 1.5563091\ttotal: 2m 10s\tremaining: 11m 20s\n",
      "161:\tlearn: 1.5553453\ttotal: 2m 11s\tremaining: 11m 19s\n",
      "162:\tlearn: 1.5546249\ttotal: 2m 12s\tremaining: 11m 18s\n",
      "163:\tlearn: 1.5538270\ttotal: 2m 12s\tremaining: 11m 17s\n",
      "164:\tlearn: 1.5529827\ttotal: 2m 13s\tremaining: 11m 17s\n",
      "165:\tlearn: 1.5520832\ttotal: 2m 14s\tremaining: 11m 16s\n",
      "166:\tlearn: 1.5510778\ttotal: 2m 15s\tremaining: 11m 15s\n",
      "167:\tlearn: 1.5499471\ttotal: 2m 16s\tremaining: 11m 15s\n",
      "168:\tlearn: 1.5490118\ttotal: 2m 17s\tremaining: 11m 14s\n",
      "169:\tlearn: 1.5483385\ttotal: 2m 18s\tremaining: 11m 14s\n",
      "170:\tlearn: 1.5471791\ttotal: 2m 18s\tremaining: 11m 13s\n",
      "171:\tlearn: 1.5466876\ttotal: 2m 19s\tremaining: 11m 12s\n",
      "172:\tlearn: 1.5458516\ttotal: 2m 20s\tremaining: 11m 11s\n",
      "173:\tlearn: 1.5447886\ttotal: 2m 21s\tremaining: 11m 11s\n",
      "174:\tlearn: 1.5438507\ttotal: 2m 22s\tremaining: 11m 10s\n",
      "175:\tlearn: 1.5428385\ttotal: 2m 22s\tremaining: 11m 9s\n",
      "176:\tlearn: 1.5419612\ttotal: 2m 23s\tremaining: 11m 8s\n",
      "177:\tlearn: 1.5408568\ttotal: 2m 24s\tremaining: 11m 7s\n",
      "178:\tlearn: 1.5399417\ttotal: 2m 25s\tremaining: 11m 6s\n",
      "179:\tlearn: 1.5390896\ttotal: 2m 26s\tremaining: 11m 5s\n",
      "180:\tlearn: 1.5382351\ttotal: 2m 27s\tremaining: 11m 5s\n",
      "181:\tlearn: 1.5372475\ttotal: 2m 27s\tremaining: 11m 4s\n",
      "182:\tlearn: 1.5366911\ttotal: 2m 28s\tremaining: 11m 3s\n",
      "183:\tlearn: 1.5357680\ttotal: 2m 29s\tremaining: 11m 2s\n",
      "184:\tlearn: 1.5351014\ttotal: 2m 30s\tremaining: 11m 1s\n",
      "185:\tlearn: 1.5341357\ttotal: 2m 31s\tremaining: 11m 1s\n",
      "186:\tlearn: 1.5334257\ttotal: 2m 31s\tremaining: 11m\n",
      "187:\tlearn: 1.5329211\ttotal: 2m 32s\tremaining: 10m 59s\n",
      "188:\tlearn: 1.5322082\ttotal: 2m 33s\tremaining: 10m 59s\n",
      "189:\tlearn: 1.5314154\ttotal: 2m 34s\tremaining: 10m 58s\n",
      "190:\tlearn: 1.5308291\ttotal: 2m 35s\tremaining: 10m 57s\n",
      "191:\tlearn: 1.5300507\ttotal: 2m 36s\tremaining: 10m 56s\n",
      "192:\tlearn: 1.5291515\ttotal: 2m 36s\tremaining: 10m 56s\n",
      "193:\tlearn: 1.5282731\ttotal: 2m 37s\tremaining: 10m 55s\n",
      "194:\tlearn: 1.5275642\ttotal: 2m 38s\tremaining: 10m 54s\n",
      "195:\tlearn: 1.5266649\ttotal: 2m 39s\tremaining: 10m 53s\n",
      "196:\tlearn: 1.5258470\ttotal: 2m 40s\tremaining: 10m 52s\n",
      "197:\tlearn: 1.5251945\ttotal: 2m 40s\tremaining: 10m 51s\n",
      "198:\tlearn: 1.5245936\ttotal: 2m 41s\tremaining: 10m 50s\n",
      "199:\tlearn: 1.5238540\ttotal: 2m 42s\tremaining: 10m 49s\n",
      "200:\tlearn: 1.5228381\ttotal: 2m 43s\tremaining: 10m 49s\n",
      "201:\tlearn: 1.5222048\ttotal: 2m 44s\tremaining: 10m 48s\n",
      "202:\tlearn: 1.5212177\ttotal: 2m 44s\tremaining: 10m 47s\n",
      "203:\tlearn: 1.5203577\ttotal: 2m 45s\tremaining: 10m 46s\n",
      "204:\tlearn: 1.5195412\ttotal: 2m 46s\tremaining: 10m 45s\n",
      "205:\tlearn: 1.5184626\ttotal: 2m 47s\tremaining: 10m 44s\n",
      "206:\tlearn: 1.5176009\ttotal: 2m 48s\tremaining: 10m 44s\n",
      "207:\tlearn: 1.5170122\ttotal: 2m 48s\tremaining: 10m 43s\n",
      "208:\tlearn: 1.5161575\ttotal: 2m 49s\tremaining: 10m 42s\n",
      "209:\tlearn: 1.5157262\ttotal: 2m 50s\tremaining: 10m 41s\n",
      "210:\tlearn: 1.5150013\ttotal: 2m 51s\tremaining: 10m 40s\n",
      "211:\tlearn: 1.5143561\ttotal: 2m 52s\tremaining: 10m 39s\n",
      "212:\tlearn: 1.5136325\ttotal: 2m 52s\tremaining: 10m 38s\n",
      "213:\tlearn: 1.5128714\ttotal: 2m 53s\tremaining: 10m 37s\n",
      "214:\tlearn: 1.5119487\ttotal: 2m 54s\tremaining: 10m 37s\n",
      "215:\tlearn: 1.5112622\ttotal: 2m 55s\tremaining: 10m 36s\n",
      "216:\tlearn: 1.5106537\ttotal: 2m 56s\tremaining: 10m 35s\n",
      "217:\tlearn: 1.5099662\ttotal: 2m 56s\tremaining: 10m 34s\n",
      "218:\tlearn: 1.5093002\ttotal: 2m 57s\tremaining: 10m 33s\n",
      "219:\tlearn: 1.5086996\ttotal: 2m 58s\tremaining: 10m 33s\n",
      "220:\tlearn: 1.5078620\ttotal: 2m 59s\tremaining: 10m 32s\n",
      "221:\tlearn: 1.5072334\ttotal: 3m\tremaining: 10m 31s\n",
      "222:\tlearn: 1.5065616\ttotal: 3m\tremaining: 10m 30s\n",
      "223:\tlearn: 1.5059953\ttotal: 3m 1s\tremaining: 10m 29s\n",
      "224:\tlearn: 1.5052665\ttotal: 3m 2s\tremaining: 10m 28s\n",
      "225:\tlearn: 1.5045862\ttotal: 3m 3s\tremaining: 10m 27s\n",
      "226:\tlearn: 1.5039959\ttotal: 3m 4s\tremaining: 10m 27s\n",
      "227:\tlearn: 1.5033791\ttotal: 3m 4s\tremaining: 10m 26s\n",
      "228:\tlearn: 1.5024918\ttotal: 3m 5s\tremaining: 10m 25s\n",
      "229:\tlearn: 1.5019870\ttotal: 3m 6s\tremaining: 10m 24s\n",
      "230:\tlearn: 1.5013030\ttotal: 3m 7s\tremaining: 10m 23s\n",
      "231:\tlearn: 1.5007098\ttotal: 3m 8s\tremaining: 10m 22s\n",
      "232:\tlearn: 1.4998742\ttotal: 3m 9s\tremaining: 10m 22s\n",
      "233:\tlearn: 1.4991948\ttotal: 3m 9s\tremaining: 10m 21s\n",
      "234:\tlearn: 1.4983001\ttotal: 3m 10s\tremaining: 10m 20s\n",
      "235:\tlearn: 1.4977124\ttotal: 3m 11s\tremaining: 10m 19s\n",
      "236:\tlearn: 1.4972588\ttotal: 3m 12s\tremaining: 10m 18s\n",
      "237:\tlearn: 1.4965704\ttotal: 3m 13s\tremaining: 10m 18s\n",
      "238:\tlearn: 1.4960318\ttotal: 3m 13s\tremaining: 10m 17s\n",
      "239:\tlearn: 1.4955502\ttotal: 3m 14s\tremaining: 10m 16s\n",
      "240:\tlearn: 1.4949184\ttotal: 3m 15s\tremaining: 10m 16s\n",
      "241:\tlearn: 1.4941727\ttotal: 3m 16s\tremaining: 10m 15s\n",
      "242:\tlearn: 1.4934652\ttotal: 3m 17s\tremaining: 10m 14s\n",
      "243:\tlearn: 1.4925891\ttotal: 3m 18s\tremaining: 10m 13s\n",
      "244:\tlearn: 1.4923297\ttotal: 3m 18s\tremaining: 10m 12s\n",
      "245:\tlearn: 1.4916817\ttotal: 3m 19s\tremaining: 10m 11s\n",
      "246:\tlearn: 1.4911957\ttotal: 3m 20s\tremaining: 10m 11s\n",
      "247:\tlearn: 1.4905266\ttotal: 3m 21s\tremaining: 10m 10s\n",
      "248:\tlearn: 1.4899493\ttotal: 3m 21s\tremaining: 10m 9s\n",
      "249:\tlearn: 1.4893722\ttotal: 3m 22s\tremaining: 10m 8s\n",
      "250:\tlearn: 1.4888461\ttotal: 3m 23s\tremaining: 10m 7s\n",
      "251:\tlearn: 1.4881920\ttotal: 3m 24s\tremaining: 10m 6s\n",
      "252:\tlearn: 1.4875321\ttotal: 3m 25s\tremaining: 10m 5s\n",
      "253:\tlearn: 1.4868287\ttotal: 3m 26s\tremaining: 10m 5s\n",
      "254:\tlearn: 1.4863223\ttotal: 3m 26s\tremaining: 10m 4s\n",
      "255:\tlearn: 1.4860000\ttotal: 3m 27s\tremaining: 10m 3s\n",
      "256:\tlearn: 1.4853753\ttotal: 3m 28s\tremaining: 10m 2s\n",
      "257:\tlearn: 1.4845920\ttotal: 3m 29s\tremaining: 10m 1s\n",
      "258:\tlearn: 1.4837691\ttotal: 3m 29s\tremaining: 10m\n",
      "259:\tlearn: 1.4831285\ttotal: 3m 30s\tremaining: 9m 59s\n",
      "260:\tlearn: 1.4829092\ttotal: 3m 31s\tremaining: 9m 58s\n",
      "261:\tlearn: 1.4820581\ttotal: 3m 32s\tremaining: 9m 58s\n",
      "262:\tlearn: 1.4815781\ttotal: 3m 33s\tremaining: 9m 57s\n",
      "263:\tlearn: 1.4809815\ttotal: 3m 34s\tremaining: 9m 56s\n",
      "264:\tlearn: 1.4804334\ttotal: 3m 34s\tremaining: 9m 55s\n",
      "265:\tlearn: 1.4799319\ttotal: 3m 35s\tremaining: 9m 55s\n",
      "266:\tlearn: 1.4791077\ttotal: 3m 36s\tremaining: 9m 54s\n",
      "267:\tlearn: 1.4783993\ttotal: 3m 37s\tremaining: 9m 53s\n",
      "268:\tlearn: 1.4777754\ttotal: 3m 38s\tremaining: 9m 52s\n",
      "269:\tlearn: 1.4770973\ttotal: 3m 38s\tremaining: 9m 51s\n",
      "270:\tlearn: 1.4765032\ttotal: 3m 39s\tremaining: 9m 50s\n",
      "271:\tlearn: 1.4759624\ttotal: 3m 40s\tremaining: 9m 49s\n",
      "272:\tlearn: 1.4753851\ttotal: 3m 41s\tremaining: 9m 49s\n",
      "273:\tlearn: 1.4747905\ttotal: 3m 42s\tremaining: 9m 48s\n",
      "274:\tlearn: 1.4742545\ttotal: 3m 42s\tremaining: 9m 47s\n",
      "275:\tlearn: 1.4736082\ttotal: 3m 43s\tremaining: 9m 46s\n",
      "276:\tlearn: 1.4729708\ttotal: 3m 44s\tremaining: 9m 45s\n",
      "277:\tlearn: 1.4725267\ttotal: 3m 45s\tremaining: 9m 45s\n",
      "278:\tlearn: 1.4718149\ttotal: 3m 46s\tremaining: 9m 44s\n",
      "279:\tlearn: 1.4713300\ttotal: 3m 46s\tremaining: 9m 43s\n",
      "280:\tlearn: 1.4706255\ttotal: 3m 47s\tremaining: 9m 42s\n",
      "281:\tlearn: 1.4700134\ttotal: 3m 48s\tremaining: 9m 41s\n",
      "282:\tlearn: 1.4694231\ttotal: 3m 49s\tremaining: 9m 40s\n",
      "283:\tlearn: 1.4688122\ttotal: 3m 50s\tremaining: 9m 39s\n",
      "284:\tlearn: 1.4681625\ttotal: 3m 50s\tremaining: 9m 39s\n",
      "285:\tlearn: 1.4675336\ttotal: 3m 51s\tremaining: 9m 38s\n",
      "286:\tlearn: 1.4669693\ttotal: 3m 52s\tremaining: 9m 37s\n",
      "287:\tlearn: 1.4662164\ttotal: 3m 53s\tremaining: 9m 36s\n",
      "288:\tlearn: 1.4658560\ttotal: 3m 53s\tremaining: 9m 35s\n",
      "289:\tlearn: 1.4654106\ttotal: 3m 54s\tremaining: 9m 34s\n",
      "290:\tlearn: 1.4650527\ttotal: 3m 55s\tremaining: 9m 33s\n",
      "291:\tlearn: 1.4645122\ttotal: 3m 56s\tremaining: 9m 33s\n",
      "292:\tlearn: 1.4640960\ttotal: 3m 57s\tremaining: 9m 32s\n",
      "293:\tlearn: 1.4637380\ttotal: 3m 57s\tremaining: 9m 31s\n",
      "294:\tlearn: 1.4632101\ttotal: 3m 58s\tremaining: 9m 30s\n",
      "295:\tlearn: 1.4630041\ttotal: 3m 59s\tremaining: 9m 29s\n",
      "296:\tlearn: 1.4624537\ttotal: 4m\tremaining: 9m 28s\n",
      "297:\tlearn: 1.4619582\ttotal: 4m 1s\tremaining: 9m 27s\n",
      "298:\tlearn: 1.4613000\ttotal: 4m 1s\tremaining: 9m 27s\n",
      "299:\tlearn: 1.4609711\ttotal: 4m 2s\tremaining: 9m 26s\n",
      "300:\tlearn: 1.4605590\ttotal: 4m 3s\tremaining: 9m 25s\n",
      "301:\tlearn: 1.4601187\ttotal: 4m 4s\tremaining: 9m 24s\n",
      "302:\tlearn: 1.4594974\ttotal: 4m 5s\tremaining: 9m 23s\n",
      "303:\tlearn: 1.4590501\ttotal: 4m 5s\tremaining: 9m 22s\n",
      "304:\tlearn: 1.4583052\ttotal: 4m 6s\tremaining: 9m 22s\n"
     ]
    },
    {
     "name": "stdout",
     "output_type": "stream",
     "text": [
      "305:\tlearn: 1.4579823\ttotal: 4m 7s\tremaining: 9m 21s\n",
      "306:\tlearn: 1.4577656\ttotal: 4m 8s\tremaining: 9m 20s\n",
      "307:\tlearn: 1.4569949\ttotal: 4m 9s\tremaining: 9m 19s\n",
      "308:\tlearn: 1.4565976\ttotal: 4m 9s\tremaining: 9m 18s\n",
      "309:\tlearn: 1.4559287\ttotal: 4m 10s\tremaining: 9m 17s\n",
      "310:\tlearn: 1.4554246\ttotal: 4m 11s\tremaining: 9m 17s\n",
      "311:\tlearn: 1.4549829\ttotal: 4m 12s\tremaining: 9m 16s\n",
      "312:\tlearn: 1.4545705\ttotal: 4m 13s\tremaining: 9m 15s\n",
      "313:\tlearn: 1.4541228\ttotal: 4m 13s\tremaining: 9m 14s\n",
      "314:\tlearn: 1.4534300\ttotal: 4m 14s\tremaining: 9m 13s\n",
      "315:\tlearn: 1.4528186\ttotal: 4m 15s\tremaining: 9m 12s\n",
      "316:\tlearn: 1.4524704\ttotal: 4m 16s\tremaining: 9m 11s\n",
      "317:\tlearn: 1.4519098\ttotal: 4m 16s\tremaining: 9m 11s\n",
      "318:\tlearn: 1.4516014\ttotal: 4m 17s\tremaining: 9m 10s\n",
      "319:\tlearn: 1.4512517\ttotal: 4m 18s\tremaining: 9m 9s\n",
      "320:\tlearn: 1.4509263\ttotal: 4m 19s\tremaining: 9m 8s\n",
      "321:\tlearn: 1.4506424\ttotal: 4m 20s\tremaining: 9m 7s\n",
      "322:\tlearn: 1.4501961\ttotal: 4m 20s\tremaining: 9m 6s\n",
      "323:\tlearn: 1.4496821\ttotal: 4m 21s\tremaining: 9m 6s\n",
      "324:\tlearn: 1.4494358\ttotal: 4m 22s\tremaining: 9m 5s\n",
      "325:\tlearn: 1.4489804\ttotal: 4m 23s\tremaining: 9m 4s\n",
      "326:\tlearn: 1.4484281\ttotal: 4m 24s\tremaining: 9m 4s\n",
      "327:\tlearn: 1.4478446\ttotal: 4m 25s\tremaining: 9m 3s\n",
      "328:\tlearn: 1.4473403\ttotal: 4m 25s\tremaining: 9m 2s\n",
      "329:\tlearn: 1.4469294\ttotal: 4m 26s\tremaining: 9m 1s\n",
      "330:\tlearn: 1.4466275\ttotal: 4m 27s\tremaining: 9m\n",
      "331:\tlearn: 1.4462958\ttotal: 4m 28s\tremaining: 9m\n",
      "332:\tlearn: 1.4457822\ttotal: 4m 29s\tremaining: 8m 59s\n",
      "333:\tlearn: 1.4452932\ttotal: 4m 30s\tremaining: 8m 58s\n",
      "334:\tlearn: 1.4449742\ttotal: 4m 30s\tremaining: 8m 57s\n",
      "335:\tlearn: 1.4445731\ttotal: 4m 31s\tremaining: 8m 56s\n",
      "336:\tlearn: 1.4440973\ttotal: 4m 32s\tremaining: 8m 55s\n",
      "337:\tlearn: 1.4436054\ttotal: 4m 33s\tremaining: 8m 55s\n",
      "338:\tlearn: 1.4427691\ttotal: 4m 33s\tremaining: 8m 54s\n",
      "339:\tlearn: 1.4423344\ttotal: 4m 34s\tremaining: 8m 53s\n",
      "340:\tlearn: 1.4418840\ttotal: 4m 35s\tremaining: 8m 52s\n",
      "341:\tlearn: 1.4413451\ttotal: 4m 36s\tremaining: 8m 51s\n",
      "342:\tlearn: 1.4407898\ttotal: 4m 37s\tremaining: 8m 50s\n",
      "343:\tlearn: 1.4401990\ttotal: 4m 37s\tremaining: 8m 49s\n",
      "344:\tlearn: 1.4396496\ttotal: 4m 38s\tremaining: 8m 49s\n",
      "345:\tlearn: 1.4390827\ttotal: 4m 39s\tremaining: 8m 48s\n",
      "346:\tlearn: 1.4384729\ttotal: 4m 40s\tremaining: 8m 47s\n",
      "347:\tlearn: 1.4378954\ttotal: 4m 41s\tremaining: 8m 46s\n",
      "348:\tlearn: 1.4375619\ttotal: 4m 41s\tremaining: 8m 45s\n",
      "349:\tlearn: 1.4372476\ttotal: 4m 42s\tremaining: 8m 44s\n",
      "350:\tlearn: 1.4366517\ttotal: 4m 43s\tremaining: 8m 44s\n",
      "351:\tlearn: 1.4362379\ttotal: 4m 44s\tremaining: 8m 43s\n",
      "352:\tlearn: 1.4357889\ttotal: 4m 44s\tremaining: 8m 42s\n",
      "353:\tlearn: 1.4351324\ttotal: 4m 45s\tremaining: 8m 41s\n",
      "354:\tlearn: 1.4345953\ttotal: 4m 46s\tremaining: 8m 40s\n",
      "355:\tlearn: 1.4341891\ttotal: 4m 47s\tremaining: 8m 39s\n",
      "356:\tlearn: 1.4337945\ttotal: 4m 48s\tremaining: 8m 38s\n",
      "357:\tlearn: 1.4332751\ttotal: 4m 48s\tremaining: 8m 38s\n",
      "358:\tlearn: 1.4326766\ttotal: 4m 49s\tremaining: 8m 37s\n",
      "359:\tlearn: 1.4322547\ttotal: 4m 50s\tremaining: 8m 36s\n",
      "360:\tlearn: 1.4316127\ttotal: 4m 51s\tremaining: 8m 35s\n",
      "361:\tlearn: 1.4312387\ttotal: 4m 52s\tremaining: 8m 34s\n",
      "362:\tlearn: 1.4307845\ttotal: 4m 52s\tremaining: 8m 33s\n",
      "363:\tlearn: 1.4304290\ttotal: 4m 53s\tremaining: 8m 33s\n",
      "364:\tlearn: 1.4302408\ttotal: 4m 54s\tremaining: 8m 32s\n",
      "365:\tlearn: 1.4299227\ttotal: 4m 55s\tremaining: 8m 31s\n",
      "366:\tlearn: 1.4294559\ttotal: 4m 56s\tremaining: 8m 30s\n",
      "367:\tlearn: 1.4287586\ttotal: 4m 56s\tremaining: 8m 29s\n",
      "368:\tlearn: 1.4284129\ttotal: 4m 57s\tremaining: 8m 29s\n",
      "369:\tlearn: 1.4278020\ttotal: 4m 58s\tremaining: 8m 28s\n",
      "370:\tlearn: 1.4274003\ttotal: 4m 59s\tremaining: 8m 27s\n",
      "371:\tlearn: 1.4267868\ttotal: 5m\tremaining: 8m 26s\n",
      "372:\tlearn: 1.4262873\ttotal: 5m 1s\tremaining: 8m 25s\n",
      "373:\tlearn: 1.4258869\ttotal: 5m 1s\tremaining: 8m 25s\n",
      "374:\tlearn: 1.4251271\ttotal: 5m 2s\tremaining: 8m 24s\n",
      "375:\tlearn: 1.4248513\ttotal: 5m 3s\tremaining: 8m 23s\n",
      "376:\tlearn: 1.4244181\ttotal: 5m 4s\tremaining: 8m 22s\n",
      "377:\tlearn: 1.4237951\ttotal: 5m 4s\tremaining: 8m 21s\n",
      "378:\tlearn: 1.4231482\ttotal: 5m 5s\tremaining: 8m 21s\n",
      "379:\tlearn: 1.4228005\ttotal: 5m 6s\tremaining: 8m 20s\n",
      "380:\tlearn: 1.4224772\ttotal: 5m 7s\tremaining: 8m 19s\n",
      "381:\tlearn: 1.4219823\ttotal: 5m 8s\tremaining: 8m 18s\n",
      "382:\tlearn: 1.4214624\ttotal: 5m 8s\tremaining: 8m 17s\n",
      "383:\tlearn: 1.4212533\ttotal: 5m 9s\tremaining: 8m 16s\n",
      "384:\tlearn: 1.4207069\ttotal: 5m 10s\tremaining: 8m 15s\n",
      "385:\tlearn: 1.4203517\ttotal: 5m 11s\tremaining: 8m 15s\n",
      "386:\tlearn: 1.4200872\ttotal: 5m 12s\tremaining: 8m 14s\n",
      "387:\tlearn: 1.4196350\ttotal: 5m 12s\tremaining: 8m 13s\n",
      "388:\tlearn: 1.4190617\ttotal: 5m 13s\tremaining: 8m 12s\n",
      "389:\tlearn: 1.4187753\ttotal: 5m 14s\tremaining: 8m 11s\n",
      "390:\tlearn: 1.4182602\ttotal: 5m 15s\tremaining: 8m 11s\n",
      "391:\tlearn: 1.4177520\ttotal: 5m 16s\tremaining: 8m 10s\n",
      "392:\tlearn: 1.4172857\ttotal: 5m 16s\tremaining: 8m 9s\n",
      "393:\tlearn: 1.4168558\ttotal: 5m 17s\tremaining: 8m 8s\n",
      "394:\tlearn: 1.4162735\ttotal: 5m 18s\tremaining: 8m 7s\n",
      "395:\tlearn: 1.4158332\ttotal: 5m 19s\tremaining: 8m 6s\n",
      "396:\tlearn: 1.4152841\ttotal: 5m 20s\tremaining: 8m 6s\n",
      "397:\tlearn: 1.4148000\ttotal: 5m 20s\tremaining: 8m 5s\n",
      "398:\tlearn: 1.4144954\ttotal: 5m 21s\tremaining: 8m 4s\n",
      "399:\tlearn: 1.4139343\ttotal: 5m 22s\tremaining: 8m 3s\n",
      "400:\tlearn: 1.4136527\ttotal: 5m 23s\tremaining: 8m 3s\n",
      "401:\tlearn: 1.4132144\ttotal: 5m 24s\tremaining: 8m 2s\n",
      "402:\tlearn: 1.4128786\ttotal: 5m 25s\tremaining: 8m 1s\n",
      "403:\tlearn: 1.4123769\ttotal: 5m 25s\tremaining: 8m\n",
      "404:\tlearn: 1.4120187\ttotal: 5m 26s\tremaining: 7m 59s\n",
      "405:\tlearn: 1.4117299\ttotal: 5m 27s\tremaining: 7m 59s\n",
      "406:\tlearn: 1.4113687\ttotal: 5m 28s\tremaining: 7m 58s\n",
      "407:\tlearn: 1.4108952\ttotal: 5m 29s\tremaining: 7m 57s\n",
      "408:\tlearn: 1.4102942\ttotal: 5m 29s\tremaining: 7m 56s\n",
      "409:\tlearn: 1.4099910\ttotal: 5m 30s\tremaining: 7m 55s\n",
      "410:\tlearn: 1.4093364\ttotal: 5m 31s\tremaining: 7m 55s\n",
      "411:\tlearn: 1.4088829\ttotal: 5m 32s\tremaining: 7m 54s\n",
      "412:\tlearn: 1.4085548\ttotal: 5m 33s\tremaining: 7m 53s\n",
      "413:\tlearn: 1.4081652\ttotal: 5m 33s\tremaining: 7m 52s\n",
      "414:\tlearn: 1.4077181\ttotal: 5m 34s\tremaining: 7m 51s\n",
      "415:\tlearn: 1.4074310\ttotal: 5m 35s\tremaining: 7m 51s\n",
      "416:\tlearn: 1.4071339\ttotal: 5m 36s\tremaining: 7m 50s\n",
      "417:\tlearn: 1.4068375\ttotal: 5m 37s\tremaining: 7m 49s\n",
      "418:\tlearn: 1.4064487\ttotal: 5m 38s\tremaining: 7m 48s\n",
      "419:\tlearn: 1.4061021\ttotal: 5m 38s\tremaining: 7m 47s\n",
      "420:\tlearn: 1.4057415\ttotal: 5m 39s\tremaining: 7m 47s\n",
      "421:\tlearn: 1.4053680\ttotal: 5m 40s\tremaining: 7m 46s\n",
      "422:\tlearn: 1.4051645\ttotal: 5m 41s\tremaining: 7m 45s\n",
      "423:\tlearn: 1.4049170\ttotal: 5m 42s\tremaining: 7m 44s\n",
      "424:\tlearn: 1.4044887\ttotal: 5m 42s\tremaining: 7m 43s\n",
      "425:\tlearn: 1.4042844\ttotal: 5m 43s\tremaining: 7m 43s\n",
      "426:\tlearn: 1.4038038\ttotal: 5m 44s\tremaining: 7m 42s\n",
      "427:\tlearn: 1.4034252\ttotal: 5m 45s\tremaining: 7m 41s\n",
      "428:\tlearn: 1.4030347\ttotal: 5m 46s\tremaining: 7m 40s\n",
      "429:\tlearn: 1.4026185\ttotal: 5m 46s\tremaining: 7m 39s\n",
      "430:\tlearn: 1.4022322\ttotal: 5m 47s\tremaining: 7m 39s\n",
      "431:\tlearn: 1.4019461\ttotal: 5m 48s\tremaining: 7m 38s\n",
      "432:\tlearn: 1.4016931\ttotal: 5m 49s\tremaining: 7m 37s\n",
      "433:\tlearn: 1.4014105\ttotal: 5m 50s\tremaining: 7m 36s\n",
      "434:\tlearn: 1.4008046\ttotal: 5m 50s\tremaining: 7m 35s\n",
      "435:\tlearn: 1.4004797\ttotal: 5m 51s\tremaining: 7m 35s\n",
      "436:\tlearn: 1.4001875\ttotal: 5m 52s\tremaining: 7m 34s\n",
      "437:\tlearn: 1.3998729\ttotal: 5m 53s\tremaining: 7m 33s\n",
      "438:\tlearn: 1.3996222\ttotal: 5m 54s\tremaining: 7m 33s\n",
      "439:\tlearn: 1.3993457\ttotal: 5m 55s\tremaining: 7m 32s\n",
      "440:\tlearn: 1.3986453\ttotal: 5m 56s\tremaining: 7m 32s\n",
      "441:\tlearn: 1.3984123\ttotal: 5m 57s\tremaining: 7m 31s\n",
      "442:\tlearn: 1.3975985\ttotal: 5m 58s\tremaining: 7m 30s\n",
      "443:\tlearn: 1.3973017\ttotal: 5m 59s\tremaining: 7m 29s\n",
      "444:\tlearn: 1.3968981\ttotal: 5m 59s\tremaining: 7m 28s\n",
      "445:\tlearn: 1.3965706\ttotal: 6m\tremaining: 7m 28s\n",
      "446:\tlearn: 1.3962903\ttotal: 6m 1s\tremaining: 7m 27s\n",
      "447:\tlearn: 1.3958763\ttotal: 6m 2s\tremaining: 7m 26s\n",
      "448:\tlearn: 1.3954426\ttotal: 6m 3s\tremaining: 7m 25s\n",
      "449:\tlearn: 1.3951482\ttotal: 6m 3s\tremaining: 7m 24s\n",
      "450:\tlearn: 1.3946772\ttotal: 6m 4s\tremaining: 7m 23s\n",
      "451:\tlearn: 1.3941780\ttotal: 6m 5s\tremaining: 7m 23s\n",
      "452:\tlearn: 1.3939907\ttotal: 6m 6s\tremaining: 7m 22s\n",
      "453:\tlearn: 1.3937408\ttotal: 6m 7s\tremaining: 7m 21s\n",
      "454:\tlearn: 1.3934725\ttotal: 6m 7s\tremaining: 7m 20s\n",
      "455:\tlearn: 1.3929091\ttotal: 6m 8s\tremaining: 7m 19s\n",
      "456:\tlearn: 1.3926847\ttotal: 6m 9s\tremaining: 7m 18s\n",
      "457:\tlearn: 1.3923905\ttotal: 6m 10s\tremaining: 7m 18s\n"
     ]
    },
    {
     "name": "stdout",
     "output_type": "stream",
     "text": [
      "458:\tlearn: 1.3922554\ttotal: 6m 11s\tremaining: 7m 17s\n",
      "459:\tlearn: 1.3918030\ttotal: 6m 11s\tremaining: 7m 16s\n",
      "460:\tlearn: 1.3916149\ttotal: 6m 12s\tremaining: 7m 15s\n",
      "461:\tlearn: 1.3911947\ttotal: 6m 13s\tremaining: 7m 14s\n",
      "462:\tlearn: 1.3907978\ttotal: 6m 14s\tremaining: 7m 14s\n",
      "463:\tlearn: 1.3906192\ttotal: 6m 15s\tremaining: 7m 13s\n",
      "464:\tlearn: 1.3902983\ttotal: 6m 15s\tremaining: 7m 12s\n",
      "465:\tlearn: 1.3899295\ttotal: 6m 16s\tremaining: 7m 11s\n",
      "466:\tlearn: 1.3895552\ttotal: 6m 17s\tremaining: 7m 10s\n",
      "467:\tlearn: 1.3891450\ttotal: 6m 18s\tremaining: 7m 10s\n",
      "468:\tlearn: 1.3888779\ttotal: 6m 19s\tremaining: 7m 9s\n",
      "469:\tlearn: 1.3886825\ttotal: 6m 19s\tremaining: 7m 8s\n",
      "470:\tlearn: 1.3883777\ttotal: 6m 20s\tremaining: 7m 7s\n",
      "471:\tlearn: 1.3880636\ttotal: 6m 21s\tremaining: 7m 6s\n",
      "472:\tlearn: 1.3876510\ttotal: 6m 22s\tremaining: 7m 5s\n",
      "473:\tlearn: 1.3871697\ttotal: 6m 22s\tremaining: 7m 4s\n",
      "474:\tlearn: 1.3867793\ttotal: 6m 23s\tremaining: 7m 4s\n",
      "475:\tlearn: 1.3862940\ttotal: 6m 24s\tremaining: 7m 3s\n",
      "476:\tlearn: 1.3860145\ttotal: 6m 25s\tremaining: 7m 2s\n",
      "477:\tlearn: 1.3857140\ttotal: 6m 26s\tremaining: 7m 1s\n",
      "478:\tlearn: 1.3855214\ttotal: 6m 26s\tremaining: 7m\n",
      "479:\tlearn: 1.3849751\ttotal: 6m 27s\tremaining: 7m\n",
      "480:\tlearn: 1.3844907\ttotal: 6m 28s\tremaining: 6m 59s\n",
      "481:\tlearn: 1.3840107\ttotal: 6m 29s\tremaining: 6m 58s\n",
      "482:\tlearn: 1.3837345\ttotal: 6m 30s\tremaining: 6m 57s\n",
      "483:\tlearn: 1.3834269\ttotal: 6m 31s\tremaining: 6m 56s\n",
      "484:\tlearn: 1.3831396\ttotal: 6m 31s\tremaining: 6m 56s\n",
      "485:\tlearn: 1.3827705\ttotal: 6m 32s\tremaining: 6m 55s\n",
      "486:\tlearn: 1.3825732\ttotal: 6m 33s\tremaining: 6m 54s\n",
      "487:\tlearn: 1.3822900\ttotal: 6m 34s\tremaining: 6m 53s\n",
      "488:\tlearn: 1.3819096\ttotal: 6m 35s\tremaining: 6m 52s\n",
      "489:\tlearn: 1.3814812\ttotal: 6m 35s\tremaining: 6m 52s\n",
      "490:\tlearn: 1.3810951\ttotal: 6m 36s\tremaining: 6m 51s\n",
      "491:\tlearn: 1.3807447\ttotal: 6m 37s\tremaining: 6m 50s\n",
      "492:\tlearn: 1.3803414\ttotal: 6m 38s\tremaining: 6m 49s\n",
      "493:\tlearn: 1.3801093\ttotal: 6m 38s\tremaining: 6m 48s\n",
      "494:\tlearn: 1.3799393\ttotal: 6m 39s\tremaining: 6m 47s\n",
      "495:\tlearn: 1.3794960\ttotal: 6m 40s\tremaining: 6m 46s\n",
      "496:\tlearn: 1.3793194\ttotal: 6m 41s\tremaining: 6m 46s\n",
      "497:\tlearn: 1.3789930\ttotal: 6m 42s\tremaining: 6m 45s\n",
      "498:\tlearn: 1.3787658\ttotal: 6m 42s\tremaining: 6m 44s\n",
      "499:\tlearn: 1.3783447\ttotal: 6m 43s\tremaining: 6m 43s\n",
      "500:\tlearn: 1.3779835\ttotal: 6m 44s\tremaining: 6m 42s\n",
      "501:\tlearn: 1.3776483\ttotal: 6m 45s\tremaining: 6m 41s\n",
      "502:\tlearn: 1.3772406\ttotal: 6m 45s\tremaining: 6m 41s\n",
      "503:\tlearn: 1.3769801\ttotal: 6m 46s\tremaining: 6m 40s\n",
      "504:\tlearn: 1.3767272\ttotal: 6m 47s\tremaining: 6m 39s\n",
      "505:\tlearn: 1.3761649\ttotal: 6m 48s\tremaining: 6m 38s\n",
      "506:\tlearn: 1.3760374\ttotal: 6m 49s\tremaining: 6m 37s\n",
      "507:\tlearn: 1.3753434\ttotal: 6m 49s\tremaining: 6m 36s\n",
      "508:\tlearn: 1.3748869\ttotal: 6m 50s\tremaining: 6m 36s\n",
      "509:\tlearn: 1.3745865\ttotal: 6m 51s\tremaining: 6m 35s\n",
      "510:\tlearn: 1.3741893\ttotal: 6m 52s\tremaining: 6m 34s\n",
      "511:\tlearn: 1.3738435\ttotal: 6m 52s\tremaining: 6m 33s\n",
      "512:\tlearn: 1.3736286\ttotal: 6m 53s\tremaining: 6m 32s\n",
      "513:\tlearn: 1.3733266\ttotal: 6m 54s\tremaining: 6m 31s\n",
      "514:\tlearn: 1.3731720\ttotal: 6m 55s\tremaining: 6m 31s\n",
      "515:\tlearn: 1.3729259\ttotal: 6m 56s\tremaining: 6m 30s\n",
      "516:\tlearn: 1.3725520\ttotal: 6m 56s\tremaining: 6m 29s\n",
      "517:\tlearn: 1.3723017\ttotal: 6m 57s\tremaining: 6m 28s\n",
      "518:\tlearn: 1.3716846\ttotal: 6m 58s\tremaining: 6m 28s\n",
      "519:\tlearn: 1.3711406\ttotal: 6m 59s\tremaining: 6m 27s\n",
      "520:\tlearn: 1.3709248\ttotal: 7m\tremaining: 6m 26s\n",
      "521:\tlearn: 1.3703851\ttotal: 7m 1s\tremaining: 6m 25s\n",
      "522:\tlearn: 1.3701746\ttotal: 7m 1s\tremaining: 6m 24s\n",
      "523:\tlearn: 1.3698320\ttotal: 7m 2s\tremaining: 6m 24s\n",
      "524:\tlearn: 1.3694856\ttotal: 7m 3s\tremaining: 6m 23s\n",
      "525:\tlearn: 1.3690862\ttotal: 7m 4s\tremaining: 6m 22s\n",
      "526:\tlearn: 1.3686924\ttotal: 7m 5s\tremaining: 6m 21s\n",
      "527:\tlearn: 1.3682432\ttotal: 7m 6s\tremaining: 6m 21s\n",
      "528:\tlearn: 1.3680509\ttotal: 7m 7s\tremaining: 6m 20s\n",
      "529:\tlearn: 1.3675976\ttotal: 7m 7s\tremaining: 6m 19s\n",
      "530:\tlearn: 1.3673396\ttotal: 7m 8s\tremaining: 6m 18s\n",
      "531:\tlearn: 1.3668716\ttotal: 7m 9s\tremaining: 6m 17s\n",
      "532:\tlearn: 1.3665546\ttotal: 7m 10s\tremaining: 6m 17s\n",
      "533:\tlearn: 1.3662171\ttotal: 7m 11s\tremaining: 6m 16s\n",
      "534:\tlearn: 1.3659949\ttotal: 7m 12s\tremaining: 6m 15s\n",
      "535:\tlearn: 1.3656140\ttotal: 7m 12s\tremaining: 6m 14s\n",
      "536:\tlearn: 1.3652727\ttotal: 7m 13s\tremaining: 6m 13s\n",
      "537:\tlearn: 1.3648289\ttotal: 7m 14s\tremaining: 6m 13s\n",
      "538:\tlearn: 1.3645695\ttotal: 7m 15s\tremaining: 6m 12s\n",
      "539:\tlearn: 1.3643891\ttotal: 7m 16s\tremaining: 6m 11s\n",
      "540:\tlearn: 1.3639757\ttotal: 7m 17s\tremaining: 6m 10s\n",
      "541:\tlearn: 1.3637885\ttotal: 7m 18s\tremaining: 6m 10s\n",
      "542:\tlearn: 1.3630325\ttotal: 7m 18s\tremaining: 6m 9s\n",
      "543:\tlearn: 1.3627452\ttotal: 7m 19s\tremaining: 6m 8s\n",
      "544:\tlearn: 1.3625435\ttotal: 7m 20s\tremaining: 6m 7s\n",
      "545:\tlearn: 1.3620430\ttotal: 7m 21s\tremaining: 6m 6s\n",
      "546:\tlearn: 1.3616666\ttotal: 7m 22s\tremaining: 6m 6s\n",
      "547:\tlearn: 1.3612403\ttotal: 7m 22s\tremaining: 6m 5s\n",
      "548:\tlearn: 1.3608975\ttotal: 7m 23s\tremaining: 6m 4s\n",
      "549:\tlearn: 1.3605751\ttotal: 7m 24s\tremaining: 6m 3s\n",
      "550:\tlearn: 1.3602308\ttotal: 7m 25s\tremaining: 6m 2s\n",
      "551:\tlearn: 1.3597412\ttotal: 7m 26s\tremaining: 6m 2s\n",
      "552:\tlearn: 1.3594655\ttotal: 7m 26s\tremaining: 6m 1s\n",
      "553:\tlearn: 1.3592364\ttotal: 7m 27s\tremaining: 6m\n",
      "554:\tlearn: 1.3589481\ttotal: 7m 28s\tremaining: 5m 59s\n",
      "555:\tlearn: 1.3586798\ttotal: 7m 29s\tremaining: 5m 58s\n",
      "556:\tlearn: 1.3585682\ttotal: 7m 30s\tremaining: 5m 58s\n",
      "557:\tlearn: 1.3583994\ttotal: 7m 31s\tremaining: 5m 57s\n",
      "558:\tlearn: 1.3580162\ttotal: 7m 31s\tremaining: 5m 56s\n",
      "559:\tlearn: 1.3579038\ttotal: 7m 32s\tremaining: 5m 55s\n",
      "560:\tlearn: 1.3576123\ttotal: 7m 33s\tremaining: 5m 54s\n",
      "561:\tlearn: 1.3573550\ttotal: 7m 34s\tremaining: 5m 54s\n",
      "562:\tlearn: 1.3570731\ttotal: 7m 35s\tremaining: 5m 53s\n",
      "563:\tlearn: 1.3568720\ttotal: 7m 35s\tremaining: 5m 52s\n",
      "564:\tlearn: 1.3565691\ttotal: 7m 36s\tremaining: 5m 51s\n",
      "565:\tlearn: 1.3561827\ttotal: 7m 37s\tremaining: 5m 50s\n",
      "566:\tlearn: 1.3558044\ttotal: 7m 38s\tremaining: 5m 50s\n",
      "567:\tlearn: 1.3556528\ttotal: 7m 39s\tremaining: 5m 49s\n",
      "568:\tlearn: 1.3555170\ttotal: 7m 39s\tremaining: 5m 48s\n",
      "569:\tlearn: 1.3552716\ttotal: 7m 40s\tremaining: 5m 47s\n",
      "570:\tlearn: 1.3552083\ttotal: 7m 41s\tremaining: 5m 46s\n",
      "571:\tlearn: 1.3547815\ttotal: 7m 42s\tremaining: 5m 45s\n",
      "572:\tlearn: 1.3545935\ttotal: 7m 43s\tremaining: 5m 45s\n",
      "573:\tlearn: 1.3543041\ttotal: 7m 43s\tremaining: 5m 44s\n",
      "574:\tlearn: 1.3538518\ttotal: 7m 44s\tremaining: 5m 43s\n",
      "575:\tlearn: 1.3537322\ttotal: 7m 45s\tremaining: 5m 42s\n",
      "576:\tlearn: 1.3534436\ttotal: 7m 46s\tremaining: 5m 42s\n",
      "577:\tlearn: 1.3530823\ttotal: 7m 47s\tremaining: 5m 41s\n",
      "578:\tlearn: 1.3524375\ttotal: 7m 48s\tremaining: 5m 40s\n",
      "579:\tlearn: 1.3521711\ttotal: 7m 49s\tremaining: 5m 39s\n",
      "580:\tlearn: 1.3518744\ttotal: 7m 49s\tremaining: 5m 38s\n",
      "581:\tlearn: 1.3514491\ttotal: 7m 50s\tremaining: 5m 38s\n",
      "582:\tlearn: 1.3511404\ttotal: 7m 51s\tremaining: 5m 37s\n",
      "583:\tlearn: 1.3507128\ttotal: 7m 52s\tremaining: 5m 36s\n",
      "584:\tlearn: 1.3504899\ttotal: 7m 53s\tremaining: 5m 35s\n",
      "585:\tlearn: 1.3501868\ttotal: 7m 54s\tremaining: 5m 35s\n",
      "586:\tlearn: 1.3498062\ttotal: 7m 55s\tremaining: 5m 34s\n",
      "587:\tlearn: 1.3495717\ttotal: 7m 56s\tremaining: 5m 33s\n",
      "588:\tlearn: 1.3494474\ttotal: 7m 56s\tremaining: 5m 32s\n",
      "589:\tlearn: 1.3491670\ttotal: 7m 57s\tremaining: 5m 31s\n",
      "590:\tlearn: 1.3488201\ttotal: 7m 58s\tremaining: 5m 31s\n",
      "591:\tlearn: 1.3484870\ttotal: 7m 59s\tremaining: 5m 30s\n",
      "592:\tlearn: 1.3482997\ttotal: 8m\tremaining: 5m 29s\n",
      "593:\tlearn: 1.3480401\ttotal: 8m\tremaining: 5m 28s\n",
      "594:\tlearn: 1.3478302\ttotal: 8m 1s\tremaining: 5m 28s\n",
      "595:\tlearn: 1.3474002\ttotal: 8m 2s\tremaining: 5m 27s\n",
      "596:\tlearn: 1.3470514\ttotal: 8m 3s\tremaining: 5m 26s\n",
      "597:\tlearn: 1.3465616\ttotal: 8m 4s\tremaining: 5m 25s\n",
      "598:\tlearn: 1.3462501\ttotal: 8m 5s\tremaining: 5m 24s\n",
      "599:\tlearn: 1.3459184\ttotal: 8m 6s\tremaining: 5m 24s\n",
      "600:\tlearn: 1.3457996\ttotal: 8m 6s\tremaining: 5m 23s\n",
      "601:\tlearn: 1.3455107\ttotal: 8m 7s\tremaining: 5m 22s\n",
      "602:\tlearn: 1.3450642\ttotal: 8m 8s\tremaining: 5m 21s\n",
      "603:\tlearn: 1.3446979\ttotal: 8m 9s\tremaining: 5m 20s\n",
      "604:\tlearn: 1.3445576\ttotal: 8m 10s\tremaining: 5m 20s\n",
      "605:\tlearn: 1.3441437\ttotal: 8m 11s\tremaining: 5m 19s\n",
      "606:\tlearn: 1.3438102\ttotal: 8m 11s\tremaining: 5m 18s\n",
      "607:\tlearn: 1.3434598\ttotal: 8m 12s\tremaining: 5m 17s\n",
      "608:\tlearn: 1.3431399\ttotal: 8m 13s\tremaining: 5m 16s\n",
      "609:\tlearn: 1.3429858\ttotal: 8m 14s\tremaining: 5m 16s\n",
      "610:\tlearn: 1.3426446\ttotal: 8m 15s\tremaining: 5m 15s\n"
     ]
    },
    {
     "name": "stdout",
     "output_type": "stream",
     "text": [
      "611:\tlearn: 1.3422628\ttotal: 8m 16s\tremaining: 5m 14s\n",
      "612:\tlearn: 1.3418956\ttotal: 8m 16s\tremaining: 5m 13s\n",
      "613:\tlearn: 1.3417514\ttotal: 8m 17s\tremaining: 5m 12s\n",
      "614:\tlearn: 1.3414623\ttotal: 8m 18s\tremaining: 5m 12s\n",
      "615:\tlearn: 1.3412769\ttotal: 8m 19s\tremaining: 5m 11s\n",
      "616:\tlearn: 1.3409308\ttotal: 8m 20s\tremaining: 5m 10s\n",
      "617:\tlearn: 1.3406607\ttotal: 8m 21s\tremaining: 5m 9s\n",
      "618:\tlearn: 1.3403263\ttotal: 8m 21s\tremaining: 5m 8s\n",
      "619:\tlearn: 1.3399747\ttotal: 8m 22s\tremaining: 5m 8s\n",
      "620:\tlearn: 1.3395886\ttotal: 8m 23s\tremaining: 5m 7s\n",
      "621:\tlearn: 1.3392133\ttotal: 8m 24s\tremaining: 5m 6s\n",
      "622:\tlearn: 1.3390070\ttotal: 8m 25s\tremaining: 5m 5s\n",
      "623:\tlearn: 1.3388625\ttotal: 8m 26s\tremaining: 5m 4s\n",
      "624:\tlearn: 1.3385642\ttotal: 8m 26s\tremaining: 5m 4s\n",
      "625:\tlearn: 1.3381581\ttotal: 8m 27s\tremaining: 5m 3s\n",
      "626:\tlearn: 1.3379652\ttotal: 8m 28s\tremaining: 5m 2s\n",
      "627:\tlearn: 1.3374988\ttotal: 8m 29s\tremaining: 5m 1s\n",
      "628:\tlearn: 1.3372482\ttotal: 8m 30s\tremaining: 5m\n",
      "629:\tlearn: 1.3368767\ttotal: 8m 31s\tremaining: 5m\n",
      "630:\tlearn: 1.3364590\ttotal: 8m 31s\tremaining: 4m 59s\n",
      "631:\tlearn: 1.3362810\ttotal: 8m 32s\tremaining: 4m 58s\n",
      "632:\tlearn: 1.3360989\ttotal: 8m 33s\tremaining: 4m 57s\n",
      "633:\tlearn: 1.3358718\ttotal: 8m 34s\tremaining: 4m 56s\n",
      "634:\tlearn: 1.3356374\ttotal: 8m 35s\tremaining: 4m 56s\n",
      "635:\tlearn: 1.3353538\ttotal: 8m 36s\tremaining: 4m 55s\n",
      "636:\tlearn: 1.3349948\ttotal: 8m 36s\tremaining: 4m 54s\n",
      "637:\tlearn: 1.3346653\ttotal: 8m 37s\tremaining: 4m 53s\n",
      "638:\tlearn: 1.3343469\ttotal: 8m 38s\tremaining: 4m 52s\n",
      "639:\tlearn: 1.3338921\ttotal: 8m 39s\tremaining: 4m 52s\n",
      "640:\tlearn: 1.3334018\ttotal: 8m 40s\tremaining: 4m 51s\n",
      "641:\tlearn: 1.3331058\ttotal: 8m 41s\tremaining: 4m 50s\n",
      "642:\tlearn: 1.3328357\ttotal: 8m 42s\tremaining: 4m 49s\n",
      "643:\tlearn: 1.3327328\ttotal: 8m 42s\tremaining: 4m 49s\n",
      "644:\tlearn: 1.3325068\ttotal: 8m 43s\tremaining: 4m 48s\n",
      "645:\tlearn: 1.3323519\ttotal: 8m 44s\tremaining: 4m 47s\n",
      "646:\tlearn: 1.3322760\ttotal: 8m 45s\tremaining: 4m 46s\n",
      "647:\tlearn: 1.3321264\ttotal: 8m 46s\tremaining: 4m 45s\n",
      "648:\tlearn: 1.3318221\ttotal: 8m 46s\tremaining: 4m 45s\n",
      "649:\tlearn: 1.3314534\ttotal: 8m 47s\tremaining: 4m 44s\n",
      "650:\tlearn: 1.3312553\ttotal: 8m 48s\tremaining: 4m 43s\n",
      "651:\tlearn: 1.3309915\ttotal: 8m 49s\tremaining: 4m 42s\n",
      "652:\tlearn: 1.3305804\ttotal: 8m 50s\tremaining: 4m 41s\n",
      "653:\tlearn: 1.3302297\ttotal: 8m 51s\tremaining: 4m 40s\n",
      "654:\tlearn: 1.3298749\ttotal: 8m 51s\tremaining: 4m 40s\n",
      "655:\tlearn: 1.3297292\ttotal: 8m 52s\tremaining: 4m 39s\n",
      "656:\tlearn: 1.3294430\ttotal: 8m 53s\tremaining: 4m 38s\n",
      "657:\tlearn: 1.3293735\ttotal: 8m 54s\tremaining: 4m 37s\n",
      "658:\tlearn: 1.3290863\ttotal: 8m 55s\tremaining: 4m 36s\n",
      "659:\tlearn: 1.3288591\ttotal: 8m 55s\tremaining: 4m 36s\n",
      "660:\tlearn: 1.3286778\ttotal: 8m 56s\tremaining: 4m 35s\n",
      "661:\tlearn: 1.3283650\ttotal: 8m 57s\tremaining: 4m 34s\n",
      "662:\tlearn: 1.3279692\ttotal: 8m 58s\tremaining: 4m 33s\n",
      "663:\tlearn: 1.3277804\ttotal: 8m 59s\tremaining: 4m 32s\n",
      "664:\tlearn: 1.3273071\ttotal: 8m 59s\tremaining: 4m 32s\n",
      "665:\tlearn: 1.3270563\ttotal: 9m\tremaining: 4m 31s\n",
      "666:\tlearn: 1.3268343\ttotal: 9m 1s\tremaining: 4m 30s\n",
      "667:\tlearn: 1.3264589\ttotal: 9m 2s\tremaining: 4m 29s\n",
      "668:\tlearn: 1.3261833\ttotal: 9m 3s\tremaining: 4m 28s\n",
      "669:\tlearn: 1.3258421\ttotal: 9m 4s\tremaining: 4m 27s\n",
      "670:\tlearn: 1.3254786\ttotal: 9m 4s\tremaining: 4m 27s\n",
      "671:\tlearn: 1.3253053\ttotal: 9m 5s\tremaining: 4m 26s\n",
      "672:\tlearn: 1.3249394\ttotal: 9m 6s\tremaining: 4m 25s\n",
      "673:\tlearn: 1.3247554\ttotal: 9m 7s\tremaining: 4m 24s\n",
      "674:\tlearn: 1.3244933\ttotal: 9m 8s\tremaining: 4m 23s\n",
      "675:\tlearn: 1.3241872\ttotal: 9m 8s\tremaining: 4m 23s\n",
      "676:\tlearn: 1.3237696\ttotal: 9m 9s\tremaining: 4m 22s\n",
      "677:\tlearn: 1.3235067\ttotal: 9m 10s\tremaining: 4m 21s\n",
      "678:\tlearn: 1.3229894\ttotal: 9m 11s\tremaining: 4m 20s\n",
      "679:\tlearn: 1.3227524\ttotal: 9m 12s\tremaining: 4m 19s\n",
      "680:\tlearn: 1.3221650\ttotal: 9m 13s\tremaining: 4m 19s\n",
      "681:\tlearn: 1.3219931\ttotal: 9m 13s\tremaining: 4m 18s\n",
      "682:\tlearn: 1.3217581\ttotal: 9m 14s\tremaining: 4m 17s\n",
      "683:\tlearn: 1.3217219\ttotal: 9m 15s\tremaining: 4m 16s\n",
      "684:\tlearn: 1.3214555\ttotal: 9m 16s\tremaining: 4m 15s\n",
      "685:\tlearn: 1.3213274\ttotal: 9m 17s\tremaining: 4m 14s\n",
      "686:\tlearn: 1.3211913\ttotal: 9m 17s\tremaining: 4m 14s\n",
      "687:\tlearn: 1.3207668\ttotal: 9m 18s\tremaining: 4m 13s\n",
      "688:\tlearn: 1.3202798\ttotal: 9m 19s\tremaining: 4m 12s\n",
      "689:\tlearn: 1.3200580\ttotal: 9m 20s\tremaining: 4m 11s\n",
      "690:\tlearn: 1.3199415\ttotal: 9m 21s\tremaining: 4m 10s\n",
      "691:\tlearn: 1.3197503\ttotal: 9m 21s\tremaining: 4m 10s\n",
      "692:\tlearn: 1.3195603\ttotal: 9m 22s\tremaining: 4m 9s\n",
      "693:\tlearn: 1.3193062\ttotal: 9m 23s\tremaining: 4m 8s\n",
      "694:\tlearn: 1.3190309\ttotal: 9m 24s\tremaining: 4m 7s\n",
      "695:\tlearn: 1.3187039\ttotal: 9m 25s\tremaining: 4m 6s\n",
      "696:\tlearn: 1.3183716\ttotal: 9m 25s\tremaining: 4m 6s\n",
      "697:\tlearn: 1.3181124\ttotal: 9m 26s\tremaining: 4m 5s\n",
      "698:\tlearn: 1.3177985\ttotal: 9m 27s\tremaining: 4m 4s\n",
      "699:\tlearn: 1.3175351\ttotal: 9m 28s\tremaining: 4m 3s\n",
      "700:\tlearn: 1.3173207\ttotal: 9m 29s\tremaining: 4m 2s\n",
      "701:\tlearn: 1.3170506\ttotal: 9m 29s\tremaining: 4m 1s\n",
      "702:\tlearn: 1.3168403\ttotal: 9m 30s\tremaining: 4m 1s\n",
      "703:\tlearn: 1.3164222\ttotal: 9m 31s\tremaining: 4m\n",
      "704:\tlearn: 1.3160950\ttotal: 9m 32s\tremaining: 3m 59s\n",
      "705:\tlearn: 1.3157717\ttotal: 9m 33s\tremaining: 3m 58s\n",
      "706:\tlearn: 1.3155316\ttotal: 9m 33s\tremaining: 3m 57s\n",
      "707:\tlearn: 1.3152076\ttotal: 9m 34s\tremaining: 3m 57s\n",
      "708:\tlearn: 1.3149015\ttotal: 9m 35s\tremaining: 3m 56s\n",
      "709:\tlearn: 1.3145431\ttotal: 9m 36s\tremaining: 3m 55s\n",
      "710:\tlearn: 1.3143594\ttotal: 9m 37s\tremaining: 3m 54s\n",
      "711:\tlearn: 1.3140626\ttotal: 9m 37s\tremaining: 3m 53s\n",
      "712:\tlearn: 1.3139536\ttotal: 9m 38s\tremaining: 3m 52s\n",
      "713:\tlearn: 1.3138523\ttotal: 9m 39s\tremaining: 3m 52s\n",
      "714:\tlearn: 1.3135214\ttotal: 9m 40s\tremaining: 3m 51s\n",
      "715:\tlearn: 1.3132782\ttotal: 9m 41s\tremaining: 3m 50s\n",
      "716:\tlearn: 1.3130260\ttotal: 9m 41s\tremaining: 3m 49s\n",
      "717:\tlearn: 1.3126417\ttotal: 9m 42s\tremaining: 3m 48s\n",
      "718:\tlearn: 1.3122920\ttotal: 9m 43s\tremaining: 3m 48s\n",
      "719:\tlearn: 1.3119111\ttotal: 9m 44s\tremaining: 3m 47s\n",
      "720:\tlearn: 1.3116608\ttotal: 9m 45s\tremaining: 3m 46s\n",
      "721:\tlearn: 1.3113905\ttotal: 9m 45s\tremaining: 3m 45s\n",
      "722:\tlearn: 1.3111782\ttotal: 9m 46s\tremaining: 3m 44s\n",
      "723:\tlearn: 1.3110072\ttotal: 9m 47s\tremaining: 3m 43s\n",
      "724:\tlearn: 1.3106031\ttotal: 9m 48s\tremaining: 3m 43s\n",
      "725:\tlearn: 1.3101319\ttotal: 9m 48s\tremaining: 3m 42s\n",
      "726:\tlearn: 1.3099276\ttotal: 9m 49s\tremaining: 3m 41s\n",
      "727:\tlearn: 1.3096244\ttotal: 9m 50s\tremaining: 3m 40s\n",
      "728:\tlearn: 1.3092979\ttotal: 9m 51s\tremaining: 3m 39s\n",
      "729:\tlearn: 1.3090845\ttotal: 9m 52s\tremaining: 3m 39s\n",
      "730:\tlearn: 1.3087456\ttotal: 9m 52s\tremaining: 3m 38s\n",
      "731:\tlearn: 1.3084480\ttotal: 9m 53s\tremaining: 3m 37s\n",
      "732:\tlearn: 1.3082159\ttotal: 9m 54s\tremaining: 3m 36s\n",
      "733:\tlearn: 1.3078269\ttotal: 9m 55s\tremaining: 3m 35s\n",
      "734:\tlearn: 1.3076494\ttotal: 9m 56s\tremaining: 3m 34s\n",
      "735:\tlearn: 1.3075347\ttotal: 9m 56s\tremaining: 3m 34s\n",
      "736:\tlearn: 1.3073810\ttotal: 9m 57s\tremaining: 3m 33s\n",
      "737:\tlearn: 1.3068371\ttotal: 9m 58s\tremaining: 3m 32s\n",
      "738:\tlearn: 1.3066773\ttotal: 9m 59s\tremaining: 3m 31s\n",
      "739:\tlearn: 1.3063434\ttotal: 10m\tremaining: 3m 30s\n",
      "740:\tlearn: 1.3061286\ttotal: 10m\tremaining: 3m 30s\n",
      "741:\tlearn: 1.3058337\ttotal: 10m 1s\tremaining: 3m 29s\n",
      "742:\tlearn: 1.3054231\ttotal: 10m 2s\tremaining: 3m 28s\n",
      "743:\tlearn: 1.3049890\ttotal: 10m 3s\tremaining: 3m 27s\n",
      "744:\tlearn: 1.3048004\ttotal: 10m 4s\tremaining: 3m 26s\n",
      "745:\tlearn: 1.3046089\ttotal: 10m 4s\tremaining: 3m 25s\n",
      "746:\tlearn: 1.3044835\ttotal: 10m 5s\tremaining: 3m 25s\n",
      "747:\tlearn: 1.3043812\ttotal: 10m 6s\tremaining: 3m 24s\n",
      "748:\tlearn: 1.3040219\ttotal: 10m 7s\tremaining: 3m 23s\n",
      "749:\tlearn: 1.3036156\ttotal: 10m 7s\tremaining: 3m 22s\n",
      "750:\tlearn: 1.3032455\ttotal: 10m 8s\tremaining: 3m 21s\n",
      "751:\tlearn: 1.3029236\ttotal: 10m 9s\tremaining: 3m 21s\n",
      "752:\tlearn: 1.3026457\ttotal: 10m 10s\tremaining: 3m 20s\n",
      "753:\tlearn: 1.3023980\ttotal: 10m 11s\tremaining: 3m 19s\n",
      "754:\tlearn: 1.3021928\ttotal: 10m 11s\tremaining: 3m 18s\n",
      "755:\tlearn: 1.3019582\ttotal: 10m 12s\tremaining: 3m 17s\n",
      "756:\tlearn: 1.3016651\ttotal: 10m 13s\tremaining: 3m 16s\n",
      "757:\tlearn: 1.3013145\ttotal: 10m 14s\tremaining: 3m 16s\n",
      "758:\tlearn: 1.3011258\ttotal: 10m 15s\tremaining: 3m 15s\n",
      "759:\tlearn: 1.3009195\ttotal: 10m 15s\tremaining: 3m 14s\n",
      "760:\tlearn: 1.3006487\ttotal: 10m 16s\tremaining: 3m 13s\n",
      "761:\tlearn: 1.3004669\ttotal: 10m 17s\tremaining: 3m 12s\n",
      "762:\tlearn: 1.2998873\ttotal: 10m 18s\tremaining: 3m 12s\n",
      "763:\tlearn: 1.2996352\ttotal: 10m 19s\tremaining: 3m 11s\n"
     ]
    },
    {
     "name": "stdout",
     "output_type": "stream",
     "text": [
      "764:\tlearn: 1.2992275\ttotal: 10m 19s\tremaining: 3m 10s\n",
      "765:\tlearn: 1.2990494\ttotal: 10m 20s\tremaining: 3m 9s\n",
      "766:\tlearn: 1.2989168\ttotal: 10m 21s\tremaining: 3m 8s\n",
      "767:\tlearn: 1.2986862\ttotal: 10m 22s\tremaining: 3m 7s\n",
      "768:\tlearn: 1.2982647\ttotal: 10m 22s\tremaining: 3m 7s\n",
      "769:\tlearn: 1.2979938\ttotal: 10m 23s\tremaining: 3m 6s\n",
      "770:\tlearn: 1.2977805\ttotal: 10m 24s\tremaining: 3m 5s\n",
      "771:\tlearn: 1.2976513\ttotal: 10m 25s\tremaining: 3m 4s\n",
      "772:\tlearn: 1.2975074\ttotal: 10m 26s\tremaining: 3m 3s\n",
      "773:\tlearn: 1.2969989\ttotal: 10m 26s\tremaining: 3m 3s\n",
      "774:\tlearn: 1.2967515\ttotal: 10m 27s\tremaining: 3m 2s\n",
      "775:\tlearn: 1.2964391\ttotal: 10m 28s\tremaining: 3m 1s\n",
      "776:\tlearn: 1.2962638\ttotal: 10m 29s\tremaining: 3m\n",
      "777:\tlearn: 1.2960927\ttotal: 10m 30s\tremaining: 2m 59s\n",
      "778:\tlearn: 1.2960512\ttotal: 10m 30s\tremaining: 2m 58s\n",
      "779:\tlearn: 1.2956982\ttotal: 10m 31s\tremaining: 2m 58s\n",
      "780:\tlearn: 1.2954360\ttotal: 10m 32s\tremaining: 2m 57s\n",
      "781:\tlearn: 1.2950893\ttotal: 10m 33s\tremaining: 2m 56s\n",
      "782:\tlearn: 1.2949013\ttotal: 10m 33s\tremaining: 2m 55s\n",
      "783:\tlearn: 1.2946522\ttotal: 10m 34s\tremaining: 2m 54s\n",
      "784:\tlearn: 1.2943296\ttotal: 10m 35s\tremaining: 2m 54s\n",
      "785:\tlearn: 1.2941418\ttotal: 10m 36s\tremaining: 2m 53s\n",
      "786:\tlearn: 1.2937142\ttotal: 10m 37s\tremaining: 2m 52s\n",
      "787:\tlearn: 1.2936028\ttotal: 10m 37s\tremaining: 2m 51s\n",
      "788:\tlearn: 1.2932102\ttotal: 10m 38s\tremaining: 2m 50s\n",
      "789:\tlearn: 1.2929849\ttotal: 10m 39s\tremaining: 2m 49s\n",
      "790:\tlearn: 1.2925849\ttotal: 10m 40s\tremaining: 2m 49s\n",
      "791:\tlearn: 1.2922718\ttotal: 10m 41s\tremaining: 2m 48s\n",
      "792:\tlearn: 1.2920938\ttotal: 10m 41s\tremaining: 2m 47s\n",
      "793:\tlearn: 1.2918869\ttotal: 10m 42s\tremaining: 2m 46s\n",
      "794:\tlearn: 1.2915627\ttotal: 10m 43s\tremaining: 2m 45s\n",
      "795:\tlearn: 1.2913582\ttotal: 10m 44s\tremaining: 2m 45s\n",
      "796:\tlearn: 1.2911424\ttotal: 10m 45s\tremaining: 2m 44s\n",
      "797:\tlearn: 1.2909772\ttotal: 10m 45s\tremaining: 2m 43s\n",
      "798:\tlearn: 1.2907373\ttotal: 10m 46s\tremaining: 2m 42s\n",
      "799:\tlearn: 1.2905675\ttotal: 10m 47s\tremaining: 2m 41s\n",
      "800:\tlearn: 1.2904309\ttotal: 10m 48s\tremaining: 2m 41s\n",
      "801:\tlearn: 1.2901103\ttotal: 10m 48s\tremaining: 2m 40s\n",
      "802:\tlearn: 1.2898696\ttotal: 10m 49s\tremaining: 2m 39s\n",
      "803:\tlearn: 1.2898311\ttotal: 10m 50s\tremaining: 2m 38s\n",
      "804:\tlearn: 1.2897144\ttotal: 10m 51s\tremaining: 2m 37s\n",
      "805:\tlearn: 1.2896219\ttotal: 10m 52s\tremaining: 2m 36s\n",
      "806:\tlearn: 1.2892244\ttotal: 10m 52s\tremaining: 2m 36s\n",
      "807:\tlearn: 1.2890815\ttotal: 10m 53s\tremaining: 2m 35s\n",
      "808:\tlearn: 1.2888805\ttotal: 10m 54s\tremaining: 2m 34s\n",
      "809:\tlearn: 1.2887859\ttotal: 10m 55s\tremaining: 2m 33s\n",
      "810:\tlearn: 1.2885455\ttotal: 10m 55s\tremaining: 2m 32s\n",
      "811:\tlearn: 1.2883569\ttotal: 10m 56s\tremaining: 2m 32s\n",
      "812:\tlearn: 1.2881757\ttotal: 10m 57s\tremaining: 2m 31s\n",
      "813:\tlearn: 1.2879216\ttotal: 10m 58s\tremaining: 2m 30s\n",
      "814:\tlearn: 1.2878262\ttotal: 10m 59s\tremaining: 2m 29s\n",
      "815:\tlearn: 1.2875324\ttotal: 10m 59s\tremaining: 2m 28s\n",
      "816:\tlearn: 1.2873379\ttotal: 11m\tremaining: 2m 27s\n",
      "817:\tlearn: 1.2871810\ttotal: 11m 1s\tremaining: 2m 27s\n",
      "818:\tlearn: 1.2867718\ttotal: 11m 2s\tremaining: 2m 26s\n",
      "819:\tlearn: 1.2864563\ttotal: 11m 3s\tremaining: 2m 25s\n",
      "820:\tlearn: 1.2860413\ttotal: 11m 3s\tremaining: 2m 24s\n",
      "821:\tlearn: 1.2857955\ttotal: 11m 4s\tremaining: 2m 23s\n",
      "822:\tlearn: 1.2855159\ttotal: 11m 5s\tremaining: 2m 23s\n",
      "823:\tlearn: 1.2852899\ttotal: 11m 6s\tremaining: 2m 22s\n",
      "824:\tlearn: 1.2849338\ttotal: 11m 6s\tremaining: 2m 21s\n",
      "825:\tlearn: 1.2847683\ttotal: 11m 7s\tremaining: 2m 20s\n",
      "826:\tlearn: 1.2845382\ttotal: 11m 8s\tremaining: 2m 19s\n",
      "827:\tlearn: 1.2841906\ttotal: 11m 9s\tremaining: 2m 19s\n",
      "828:\tlearn: 1.2840312\ttotal: 11m 10s\tremaining: 2m 18s\n",
      "829:\tlearn: 1.2838051\ttotal: 11m 10s\tremaining: 2m 17s\n",
      "830:\tlearn: 1.2834151\ttotal: 11m 11s\tremaining: 2m 16s\n",
      "831:\tlearn: 1.2832008\ttotal: 11m 12s\tremaining: 2m 15s\n",
      "832:\tlearn: 1.2830096\ttotal: 11m 13s\tremaining: 2m 14s\n",
      "833:\tlearn: 1.2826314\ttotal: 11m 14s\tremaining: 2m 14s\n",
      "834:\tlearn: 1.2825095\ttotal: 11m 14s\tremaining: 2m 13s\n",
      "835:\tlearn: 1.2822157\ttotal: 11m 15s\tremaining: 2m 12s\n",
      "836:\tlearn: 1.2819403\ttotal: 11m 16s\tremaining: 2m 11s\n",
      "837:\tlearn: 1.2815628\ttotal: 11m 17s\tremaining: 2m 10s\n",
      "838:\tlearn: 1.2814382\ttotal: 11m 17s\tremaining: 2m 10s\n",
      "839:\tlearn: 1.2811987\ttotal: 11m 18s\tremaining: 2m 9s\n",
      "840:\tlearn: 1.2810026\ttotal: 11m 19s\tremaining: 2m 8s\n",
      "841:\tlearn: 1.2806405\ttotal: 11m 20s\tremaining: 2m 7s\n",
      "842:\tlearn: 1.2803677\ttotal: 11m 21s\tremaining: 2m 6s\n",
      "843:\tlearn: 1.2801339\ttotal: 11m 21s\tremaining: 2m 6s\n",
      "844:\tlearn: 1.2798415\ttotal: 11m 22s\tremaining: 2m 5s\n",
      "845:\tlearn: 1.2797533\ttotal: 11m 23s\tremaining: 2m 4s\n",
      "846:\tlearn: 1.2794939\ttotal: 11m 24s\tremaining: 2m 3s\n",
      "847:\tlearn: 1.2791787\ttotal: 11m 25s\tremaining: 2m 2s\n",
      "848:\tlearn: 1.2790840\ttotal: 11m 26s\tremaining: 2m 2s\n",
      "849:\tlearn: 1.2788115\ttotal: 11m 26s\tremaining: 2m 1s\n",
      "850:\tlearn: 1.2783933\ttotal: 11m 27s\tremaining: 2m\n",
      "851:\tlearn: 1.2780542\ttotal: 11m 28s\tremaining: 1m 59s\n",
      "852:\tlearn: 1.2779673\ttotal: 11m 29s\tremaining: 1m 58s\n",
      "853:\tlearn: 1.2778045\ttotal: 11m 30s\tremaining: 1m 57s\n",
      "854:\tlearn: 1.2774760\ttotal: 11m 30s\tremaining: 1m 57s\n",
      "855:\tlearn: 1.2773274\ttotal: 11m 31s\tremaining: 1m 56s\n",
      "856:\tlearn: 1.2769134\ttotal: 11m 32s\tremaining: 1m 55s\n",
      "857:\tlearn: 1.2765219\ttotal: 11m 33s\tremaining: 1m 54s\n",
      "858:\tlearn: 1.2761934\ttotal: 11m 34s\tremaining: 1m 53s\n",
      "859:\tlearn: 1.2758909\ttotal: 11m 34s\tremaining: 1m 53s\n",
      "860:\tlearn: 1.2755902\ttotal: 11m 35s\tremaining: 1m 52s\n",
      "861:\tlearn: 1.2754683\ttotal: 11m 36s\tremaining: 1m 51s\n",
      "862:\tlearn: 1.2751929\ttotal: 11m 37s\tremaining: 1m 50s\n",
      "863:\tlearn: 1.2749952\ttotal: 11m 37s\tremaining: 1m 49s\n",
      "864:\tlearn: 1.2747675\ttotal: 11m 38s\tremaining: 1m 49s\n",
      "865:\tlearn: 1.2745435\ttotal: 11m 39s\tremaining: 1m 48s\n",
      "866:\tlearn: 1.2742398\ttotal: 11m 40s\tremaining: 1m 47s\n",
      "867:\tlearn: 1.2740657\ttotal: 11m 41s\tremaining: 1m 46s\n",
      "868:\tlearn: 1.2738795\ttotal: 11m 41s\tremaining: 1m 45s\n",
      "869:\tlearn: 1.2737501\ttotal: 11m 42s\tremaining: 1m 44s\n",
      "870:\tlearn: 1.2736529\ttotal: 11m 43s\tremaining: 1m 44s\n",
      "871:\tlearn: 1.2734482\ttotal: 11m 44s\tremaining: 1m 43s\n",
      "872:\tlearn: 1.2733753\ttotal: 11m 44s\tremaining: 1m 42s\n",
      "873:\tlearn: 1.2730621\ttotal: 11m 45s\tremaining: 1m 41s\n",
      "874:\tlearn: 1.2728219\ttotal: 11m 46s\tremaining: 1m 40s\n",
      "875:\tlearn: 1.2726295\ttotal: 11m 47s\tremaining: 1m 40s\n",
      "876:\tlearn: 1.2724950\ttotal: 11m 47s\tremaining: 1m 39s\n",
      "877:\tlearn: 1.2720168\ttotal: 11m 48s\tremaining: 1m 38s\n",
      "878:\tlearn: 1.2718557\ttotal: 11m 49s\tremaining: 1m 37s\n",
      "879:\tlearn: 1.2715951\ttotal: 11m 50s\tremaining: 1m 36s\n",
      "880:\tlearn: 1.2712971\ttotal: 11m 51s\tremaining: 1m 36s\n",
      "881:\tlearn: 1.2709172\ttotal: 11m 51s\tremaining: 1m 35s\n",
      "882:\tlearn: 1.2706349\ttotal: 11m 52s\tremaining: 1m 34s\n",
      "883:\tlearn: 1.2704870\ttotal: 11m 53s\tremaining: 1m 33s\n",
      "884:\tlearn: 1.2703263\ttotal: 11m 54s\tremaining: 1m 32s\n",
      "885:\tlearn: 1.2701438\ttotal: 11m 54s\tremaining: 1m 31s\n",
      "886:\tlearn: 1.2700936\ttotal: 11m 55s\tremaining: 1m 31s\n",
      "887:\tlearn: 1.2700142\ttotal: 11m 56s\tremaining: 1m 30s\n",
      "888:\tlearn: 1.2697974\ttotal: 11m 57s\tremaining: 1m 29s\n",
      "889:\tlearn: 1.2695488\ttotal: 11m 58s\tremaining: 1m 28s\n",
      "890:\tlearn: 1.2693234\ttotal: 11m 58s\tremaining: 1m 27s\n",
      "891:\tlearn: 1.2690316\ttotal: 11m 59s\tremaining: 1m 27s\n",
      "892:\tlearn: 1.2686033\ttotal: 12m\tremaining: 1m 26s\n",
      "893:\tlearn: 1.2684909\ttotal: 12m 1s\tremaining: 1m 25s\n",
      "894:\tlearn: 1.2683515\ttotal: 12m 1s\tremaining: 1m 24s\n",
      "895:\tlearn: 1.2681807\ttotal: 12m 2s\tremaining: 1m 23s\n",
      "896:\tlearn: 1.2678323\ttotal: 12m 3s\tremaining: 1m 23s\n",
      "897:\tlearn: 1.2677076\ttotal: 12m 4s\tremaining: 1m 22s\n",
      "898:\tlearn: 1.2674013\ttotal: 12m 4s\tremaining: 1m 21s\n",
      "899:\tlearn: 1.2672319\ttotal: 12m 5s\tremaining: 1m 20s\n",
      "900:\tlearn: 1.2670984\ttotal: 12m 6s\tremaining: 1m 19s\n",
      "901:\tlearn: 1.2667796\ttotal: 12m 7s\tremaining: 1m 19s\n",
      "902:\tlearn: 1.2665848\ttotal: 12m 8s\tremaining: 1m 18s\n",
      "903:\tlearn: 1.2663160\ttotal: 12m 8s\tremaining: 1m 17s\n",
      "904:\tlearn: 1.2661774\ttotal: 12m 9s\tremaining: 1m 16s\n",
      "905:\tlearn: 1.2658350\ttotal: 12m 10s\tremaining: 1m 15s\n",
      "906:\tlearn: 1.2656567\ttotal: 12m 11s\tremaining: 1m 14s\n",
      "907:\tlearn: 1.2654420\ttotal: 12m 12s\tremaining: 1m 14s\n",
      "908:\tlearn: 1.2650959\ttotal: 12m 12s\tremaining: 1m 13s\n",
      "909:\tlearn: 1.2649758\ttotal: 12m 13s\tremaining: 1m 12s\n",
      "910:\tlearn: 1.2647748\ttotal: 12m 14s\tremaining: 1m 11s\n",
      "911:\tlearn: 1.2645446\ttotal: 12m 15s\tremaining: 1m 10s\n",
      "912:\tlearn: 1.2643390\ttotal: 12m 16s\tremaining: 1m 10s\n",
      "913:\tlearn: 1.2641579\ttotal: 12m 16s\tremaining: 1m 9s\n",
      "914:\tlearn: 1.2638292\ttotal: 12m 17s\tremaining: 1m 8s\n"
     ]
    },
    {
     "name": "stdout",
     "output_type": "stream",
     "text": [
      "915:\tlearn: 1.2637922\ttotal: 12m 18s\tremaining: 1m 7s\n",
      "916:\tlearn: 1.2636805\ttotal: 12m 19s\tremaining: 1m 6s\n",
      "917:\tlearn: 1.2635700\ttotal: 12m 20s\tremaining: 1m 6s\n",
      "918:\tlearn: 1.2633419\ttotal: 12m 20s\tremaining: 1m 5s\n",
      "919:\tlearn: 1.2631173\ttotal: 12m 21s\tremaining: 1m 4s\n",
      "920:\tlearn: 1.2628058\ttotal: 12m 22s\tremaining: 1m 3s\n",
      "921:\tlearn: 1.2623944\ttotal: 12m 23s\tremaining: 1m 2s\n",
      "922:\tlearn: 1.2623308\ttotal: 12m 24s\tremaining: 1m 2s\n",
      "923:\tlearn: 1.2621607\ttotal: 12m 24s\tremaining: 1m 1s\n",
      "924:\tlearn: 1.2618636\ttotal: 12m 25s\tremaining: 1m\n",
      "925:\tlearn: 1.2617580\ttotal: 12m 26s\tremaining: 59.6s\n",
      "926:\tlearn: 1.2615914\ttotal: 12m 27s\tremaining: 58.8s\n",
      "927:\tlearn: 1.2613159\ttotal: 12m 27s\tremaining: 58s\n",
      "928:\tlearn: 1.2610788\ttotal: 12m 28s\tremaining: 57.2s\n",
      "929:\tlearn: 1.2608871\ttotal: 12m 29s\tremaining: 56.4s\n",
      "930:\tlearn: 1.2606901\ttotal: 12m 30s\tremaining: 55.6s\n",
      "931:\tlearn: 1.2605232\ttotal: 12m 31s\tremaining: 54.8s\n",
      "932:\tlearn: 1.2602332\ttotal: 12m 31s\tremaining: 54s\n",
      "933:\tlearn: 1.2599912\ttotal: 12m 32s\tremaining: 53.2s\n",
      "934:\tlearn: 1.2598708\ttotal: 12m 33s\tremaining: 52.4s\n",
      "935:\tlearn: 1.2597025\ttotal: 12m 34s\tremaining: 51.6s\n",
      "936:\tlearn: 1.2593736\ttotal: 12m 35s\tremaining: 50.8s\n",
      "937:\tlearn: 1.2590963\ttotal: 12m 35s\tremaining: 50s\n",
      "938:\tlearn: 1.2587386\ttotal: 12m 36s\tremaining: 49.2s\n",
      "939:\tlearn: 1.2586361\ttotal: 12m 37s\tremaining: 48.3s\n",
      "940:\tlearn: 1.2585687\ttotal: 12m 38s\tremaining: 47.5s\n",
      "941:\tlearn: 1.2582704\ttotal: 12m 39s\tremaining: 46.7s\n",
      "942:\tlearn: 1.2579198\ttotal: 12m 39s\tremaining: 45.9s\n",
      "943:\tlearn: 1.2577581\ttotal: 12m 40s\tremaining: 45.1s\n",
      "944:\tlearn: 1.2574159\ttotal: 12m 41s\tremaining: 44.3s\n",
      "945:\tlearn: 1.2569223\ttotal: 12m 42s\tremaining: 43.5s\n",
      "946:\tlearn: 1.2566822\ttotal: 12m 43s\tremaining: 42.7s\n",
      "947:\tlearn: 1.2564201\ttotal: 12m 43s\tremaining: 41.9s\n",
      "948:\tlearn: 1.2562083\ttotal: 12m 44s\tremaining: 41.1s\n",
      "949:\tlearn: 1.2560039\ttotal: 12m 45s\tremaining: 40.3s\n",
      "950:\tlearn: 1.2557590\ttotal: 12m 46s\tremaining: 39.5s\n",
      "951:\tlearn: 1.2555656\ttotal: 12m 47s\tremaining: 38.7s\n",
      "952:\tlearn: 1.2553181\ttotal: 12m 47s\tremaining: 37.9s\n",
      "953:\tlearn: 1.2551850\ttotal: 12m 48s\tremaining: 37.1s\n",
      "954:\tlearn: 1.2550429\ttotal: 12m 49s\tremaining: 36.3s\n",
      "955:\tlearn: 1.2545376\ttotal: 12m 50s\tremaining: 35.5s\n",
      "956:\tlearn: 1.2541727\ttotal: 12m 51s\tremaining: 34.7s\n",
      "957:\tlearn: 1.2540410\ttotal: 12m 52s\tremaining: 33.8s\n",
      "958:\tlearn: 1.2538271\ttotal: 12m 52s\tremaining: 33s\n",
      "959:\tlearn: 1.2535716\ttotal: 12m 53s\tremaining: 32.2s\n",
      "960:\tlearn: 1.2534038\ttotal: 12m 54s\tremaining: 31.4s\n",
      "961:\tlearn: 1.2532660\ttotal: 12m 55s\tremaining: 30.6s\n",
      "962:\tlearn: 1.2531246\ttotal: 12m 56s\tremaining: 29.8s\n",
      "963:\tlearn: 1.2529804\ttotal: 12m 57s\tremaining: 29s\n",
      "964:\tlearn: 1.2526716\ttotal: 12m 57s\tremaining: 28.2s\n",
      "965:\tlearn: 1.2523576\ttotal: 12m 58s\tremaining: 27.4s\n",
      "966:\tlearn: 1.2520707\ttotal: 12m 59s\tremaining: 26.6s\n",
      "967:\tlearn: 1.2516648\ttotal: 13m\tremaining: 25.8s\n",
      "968:\tlearn: 1.2514866\ttotal: 13m 1s\tremaining: 25s\n",
      "969:\tlearn: 1.2513756\ttotal: 13m 2s\tremaining: 24.2s\n",
      "970:\tlearn: 1.2510593\ttotal: 13m 3s\tremaining: 23.4s\n",
      "971:\tlearn: 1.2509163\ttotal: 13m 3s\tremaining: 22.6s\n",
      "972:\tlearn: 1.2508011\ttotal: 13m 4s\tremaining: 21.8s\n",
      "973:\tlearn: 1.2505433\ttotal: 13m 5s\tremaining: 21s\n",
      "974:\tlearn: 1.2504401\ttotal: 13m 6s\tremaining: 20.2s\n",
      "975:\tlearn: 1.2501936\ttotal: 13m 7s\tremaining: 19.4s\n",
      "976:\tlearn: 1.2497552\ttotal: 13m 8s\tremaining: 18.6s\n",
      "977:\tlearn: 1.2495821\ttotal: 13m 8s\tremaining: 17.7s\n",
      "978:\tlearn: 1.2494923\ttotal: 13m 9s\tremaining: 16.9s\n",
      "979:\tlearn: 1.2492289\ttotal: 13m 10s\tremaining: 16.1s\n",
      "980:\tlearn: 1.2489870\ttotal: 13m 11s\tremaining: 15.3s\n",
      "981:\tlearn: 1.2486823\ttotal: 13m 12s\tremaining: 14.5s\n",
      "982:\tlearn: 1.2483842\ttotal: 13m 13s\tremaining: 13.7s\n",
      "983:\tlearn: 1.2482214\ttotal: 13m 13s\tremaining: 12.9s\n",
      "984:\tlearn: 1.2478293\ttotal: 13m 14s\tremaining: 12.1s\n",
      "985:\tlearn: 1.2477302\ttotal: 13m 15s\tremaining: 11.3s\n",
      "986:\tlearn: 1.2474696\ttotal: 13m 16s\tremaining: 10.5s\n",
      "987:\tlearn: 1.2471544\ttotal: 13m 17s\tremaining: 9.68s\n",
      "988:\tlearn: 1.2470199\ttotal: 13m 17s\tremaining: 8.87s\n",
      "989:\tlearn: 1.2467052\ttotal: 13m 18s\tremaining: 8.07s\n",
      "990:\tlearn: 1.2463323\ttotal: 13m 19s\tremaining: 7.26s\n",
      "991:\tlearn: 1.2461990\ttotal: 13m 20s\tremaining: 6.45s\n",
      "992:\tlearn: 1.2460719\ttotal: 13m 21s\tremaining: 5.65s\n",
      "993:\tlearn: 1.2457910\ttotal: 13m 21s\tremaining: 4.84s\n",
      "994:\tlearn: 1.2457120\ttotal: 13m 22s\tremaining: 4.03s\n",
      "995:\tlearn: 1.2455897\ttotal: 13m 23s\tremaining: 3.23s\n",
      "996:\tlearn: 1.2453021\ttotal: 13m 24s\tremaining: 2.42s\n",
      "997:\tlearn: 1.2451720\ttotal: 13m 25s\tremaining: 1.61s\n",
      "998:\tlearn: 1.2448180\ttotal: 13m 26s\tremaining: 807ms\n",
      "999:\tlearn: 1.2445074\ttotal: 13m 26s\tremaining: 0us\n"
     ]
    },
    {
     "data": {
      "text/plain": [
       "<catboost.core.CatBoostClassifier at 0x1beb2945670>"
      ]
     },
     "execution_count": 307,
     "metadata": {},
     "output_type": "execute_result"
    }
   ],
   "source": [
    "model.fit(train_dataset, verbose=True, plot=True)"
   ]
  },
  {
   "cell_type": "code",
   "execution_count": 308,
   "id": "14080d56",
   "metadata": {},
   "outputs": [],
   "source": [
    "preds = model.predict(X_test_vector_tfdf_ss.toarray())"
   ]
  },
  {
   "cell_type": "code",
   "execution_count": 309,
   "id": "0a7bc148",
   "metadata": {},
   "outputs": [
    {
     "name": "stdout",
     "output_type": "stream",
     "text": [
      "              precision    recall  f1-score   support\n",
      "\n",
      "           1       0.49      0.80      0.61      5022\n",
      "           2       0.20      0.03      0.05      2302\n",
      "           3       0.27      0.11      0.15      2541\n",
      "           4       0.29      0.30      0.29      2635\n",
      "           7       0.29      0.22      0.25      2307\n",
      "           8       0.26      0.21      0.23      2850\n",
      "           9       0.26      0.03      0.06      2344\n",
      "          10       0.46      0.76      0.57      4999\n",
      "\n",
      "    accuracy                           0.41     25000\n",
      "   macro avg       0.31      0.31      0.28     25000\n",
      "weighted avg       0.35      0.41      0.34     25000\n",
      "\n"
     ]
    }
   ],
   "source": [
    "print(classification_report(y_test, preds))"
   ]
  },
  {
   "cell_type": "code",
   "execution_count": null,
   "id": "64db9aad",
   "metadata": {},
   "outputs": [],
   "source": []
  }
 ],
 "metadata": {
  "kernelspec": {
   "display_name": "Python 3 (ipykernel)",
   "language": "python",
   "name": "python3"
  },
  "language_info": {
   "codemirror_mode": {
    "name": "ipython",
    "version": 3
   },
   "file_extension": ".py",
   "mimetype": "text/x-python",
   "name": "python",
   "nbconvert_exporter": "python",
   "pygments_lexer": "ipython3",
   "version": "3.9.12"
  }
 },
 "nbformat": 4,
 "nbformat_minor": 5
}
