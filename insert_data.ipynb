{
 "cells": [
  {
   "cell_type": "code",
   "execution_count": 2,
   "id": "ebcded78",
   "metadata": {},
   "outputs": [],
   "source": [
    "# импорт необходимых библеотек\n",
    "from pony.orm import *\n",
    "import getpass\n",
    "import os\n",
    "from datetime import date\n",
    "from models import db"
   ]
  },
  {
   "cell_type": "markdown",
   "id": "6c4f1d7f",
   "metadata": {},
   "source": [
    "# Исследование директории хранения данных"
   ]
  },
  {
   "cell_type": "code",
   "execution_count": 3,
   "id": "38c68559",
   "metadata": {},
   "outputs": [
    {
     "data": {
      "text/plain": [
       "['.ipynb_checkpoints',\n",
       " 'imdb.vocab',\n",
       " 'imdbEr.txt',\n",
       " 'README.md',\n",
       " 'sentiments.csv',\n",
       " 'test',\n",
       " 'train']"
      ]
     },
     "execution_count": 3,
     "metadata": {},
     "output_type": "execute_result"
    }
   ],
   "source": [
    "# вывод файлов директории 'data'\n",
    "os.listdir('data')"
   ]
  },
  {
   "cell_type": "code",
   "execution_count": 4,
   "id": "bec3e3da",
   "metadata": {},
   "outputs": [
    {
     "data": {
      "text/plain": [
       "['labeledBow.feat',\n",
       " 'neg',\n",
       " 'pos',\n",
       " 'unsup',\n",
       " 'unsupBow.feat',\n",
       " 'urls_neg.txt',\n",
       " 'urls_pos.txt',\n",
       " 'urls_unsup.txt']"
      ]
     },
     "execution_count": 4,
     "metadata": {},
     "output_type": "execute_result"
    }
   ],
   "source": [
    "# вывод файлов директории 'data/train'\n",
    "os.listdir('data/train')"
   ]
  },
  {
   "cell_type": "code",
   "execution_count": 5,
   "id": "bf065c05",
   "metadata": {},
   "outputs": [
    {
     "data": {
      "text/plain": [
       "['0_9.txt',\n",
       " '10000_8.txt',\n",
       " '10001_10.txt',\n",
       " '10002_7.txt',\n",
       " '10003_8.txt',\n",
       " '10004_8.txt']"
      ]
     },
     "execution_count": 5,
     "metadata": {},
     "output_type": "execute_result"
    }
   ],
   "source": [
    "# вывод файлов директории 'data/train/pos'\n",
    "os.listdir('data/train/pos')[:6]"
   ]
  },
  {
   "cell_type": "code",
   "execution_count": 6,
   "id": "2f0695a1",
   "metadata": {},
   "outputs": [
    {
     "data": {
      "text/plain": [
       "['labeledBow.feat', 'neg', 'pos', 'urls_neg.txt', 'urls_pos.txt']"
      ]
     },
     "execution_count": 6,
     "metadata": {},
     "output_type": "execute_result"
    }
   ],
   "source": [
    "# вывод файлов директории 'data/test'\n",
    "os.listdir('data/test')"
   ]
  },
  {
   "cell_type": "code",
   "execution_count": 7,
   "id": "e71a05c3",
   "metadata": {},
   "outputs": [],
   "source": [
    "# задание путей к файлам\n",
    "PACH_DATA_TRAIN_POS = 'data/train/pos/'\n",
    "PACH_DATA_TRAIN_NEG = 'data/train/neg/'\n",
    "PACH_DATA_TRAIN_UNSUP = 'data/train/unsup/'\n",
    "PACH_DATA_TEST_POS = 'data/test/pos/'\n",
    "PACH_DATA_TEST_NEG = 'data/test/neg/'\n",
    "PACH_DATA_TRAIN_URLS_POS = 'data/train/urls_pos.txt'\n",
    "PACH_DATA_TRAIN_URLS_NEG = 'data/train/urls_neg.txt'\n",
    "PACH_DATA_TRAIN_URLS_UNSUP = 'data/train/urls_unsup.txt'\n",
    "PACH_DATA_TEST_URLS_POS = 'data/test/urls_pos.txt'\n",
    "PACH_DATA_TEST_URLS_NEG = 'data/test/urls_neg.txt'"
   ]
  },
  {
   "cell_type": "markdown",
   "id": "8a73b6cc",
   "metadata": {},
   "source": [
    "# Запись данных в базу данных Sentiment"
   ]
  },
  {
   "cell_type": "markdown",
   "id": "b09af61c",
   "metadata": {},
   "source": [
    "[Модель данных](https://editor.ponyorm.com/user/RusLat/sentiment/designer)"
   ]
  },
  {
   "cell_type": "markdown",
   "id": "05419dea",
   "metadata": {},
   "source": [
    "<img src='images/sentiment.png'>"
   ]
  },
  {
   "cell_type": "markdown",
   "id": "c49043be",
   "metadata": {},
   "source": [
    "## Таблица 'Data' - тип выборки"
   ]
  },
  {
   "cell_type": "code",
   "execution_count": 8,
   "id": "fc270772",
   "metadata": {},
   "outputs": [],
   "source": [
    "# функция записи данных в таблицу 'Data'\n",
    "@db_session\n",
    "def add_data(data_name):\n",
    "    db.Data(data_name=data_name)\n",
    "    # commit() will be done automatically\n",
    "    # database session cache will be cleared automatically\n",
    "    # database connection will be returned to the pool"
   ]
  },
  {
   "cell_type": "code",
   "execution_count": 9,
   "id": "4fa188a6",
   "metadata": {},
   "outputs": [],
   "source": [
    "# данные для внесения данных в таблицу 'Data'\n",
    "data_names = ['train', 'test', 'new']"
   ]
  },
  {
   "cell_type": "code",
   "execution_count": 10,
   "id": "080bca09",
   "metadata": {},
   "outputs": [],
   "source": [
    "# запись данных в таблицу 'Data'\n",
    "for data_name in data_names:\n",
    "    add_data(data_name)"
   ]
  },
  {
   "cell_type": "code",
   "execution_count": 11,
   "id": "49aac335",
   "metadata": {},
   "outputs": [
    {
     "name": "stdout",
     "output_type": "stream",
     "text": [
      "id|data_name\n",
      "--+---------\n",
      "2 |train    \n",
      "3 |test     \n",
      "4 |new      \n"
     ]
    }
   ],
   "source": [
    "# проверка записи данных\n",
    "db.Data.select().show()"
   ]
  },
  {
   "cell_type": "markdown",
   "id": "a77f52f0",
   "metadata": {},
   "source": [
    "Данные записаны **успешно**"
   ]
  },
  {
   "cell_type": "markdown",
   "id": "2fa6783f",
   "metadata": {},
   "source": [
    "## Таблица 'Label' - тип комментариев (отзывов)"
   ]
  },
  {
   "cell_type": "code",
   "execution_count": 12,
   "id": "d3b0e0bc",
   "metadata": {},
   "outputs": [],
   "source": [
    "# функция записи данных в таблицу 'Label'\n",
    "@db_session\n",
    "def add_label(data_name):\n",
    "    db.Label(label_name=label_name)\n",
    "    # commit() will be done automatically\n",
    "    # database session cache will be cleared automatically\n",
    "    # database connection will be returned to the pool"
   ]
  },
  {
   "cell_type": "code",
   "execution_count": 13,
   "id": "469017fe",
   "metadata": {},
   "outputs": [],
   "source": [
    "# данные для внесения данных в таблицу 'Label'\n",
    "label_names = ['pos', 'neg', 'unsup']"
   ]
  },
  {
   "cell_type": "code",
   "execution_count": 14,
   "id": "9a9681c3",
   "metadata": {},
   "outputs": [],
   "source": [
    "# запись данных в таблицу 'Label'\n",
    "for label_name in label_names:\n",
    "    add_label(label_name)"
   ]
  },
  {
   "cell_type": "code",
   "execution_count": 15,
   "id": "3e057a14",
   "metadata": {},
   "outputs": [
    {
     "name": "stdout",
     "output_type": "stream",
     "text": [
      "id|label_name\n",
      "--+----------\n",
      "1 |pos       \n",
      "2 |neg       \n",
      "3 |unsup     \n"
     ]
    }
   ],
   "source": [
    "# проверка записи данных\n",
    "db.Label.select().show()"
   ]
  },
  {
   "cell_type": "markdown",
   "id": "a6547823",
   "metadata": {},
   "source": [
    "Данные записаны **успешно**"
   ]
  },
  {
   "cell_type": "markdown",
   "id": "fd07f035",
   "metadata": {},
   "source": [
    "## Таблица 'Title' - url фильмов"
   ]
  },
  {
   "cell_type": "code",
   "execution_count": 16,
   "id": "cc98786c",
   "metadata": {},
   "outputs": [],
   "source": [
    "# функция записи данных в таблицу 'Title'\n",
    "@db_session\n",
    "def add_title(title_url):\n",
    "    db.Title(title_url=title_url)\n",
    "    # commit() will be done automatically\n",
    "    # database session cache will be cleared automatically\n",
    "    # database connection will be returned to the pool"
   ]
  },
  {
   "cell_type": "code",
   "execution_count": 17,
   "id": "2b647f01",
   "metadata": {},
   "outputs": [],
   "source": [
    "# список путей к файлам с url фильмов\n",
    "PACH_DATA_URLS = [PACH_DATA_TRAIN_URLS_POS, PACH_DATA_TRAIN_URLS_NEG, PACH_DATA_TRAIN_URLS_UNSUP, \\\n",
    "                  PACH_DATA_TEST_URLS_POS, PACH_DATA_TEST_URLS_NEG]"
   ]
  },
  {
   "cell_type": "code",
   "execution_count": 18,
   "id": "986772f4",
   "metadata": {},
   "outputs": [
    {
     "name": "stdout",
     "output_type": "stream",
     "text": [
      "CPU times: total: 46.9 ms\n",
      "Wall time: 38 ms\n"
     ]
    }
   ],
   "source": [
    "%%time\n",
    "# объдинение путей к файлам в единый список\n",
    "data_urls = []\n",
    "for PACH_DATA_URL in PACH_DATA_URLS:\n",
    "    with open(PACH_DATA_URL, 'r') as f:\n",
    "        urls = f.read().split()\n",
    "        data_urls += urls"
   ]
  },
  {
   "cell_type": "code",
   "execution_count": 19,
   "id": "70fcec58",
   "metadata": {},
   "outputs": [
    {
     "data": {
      "text/plain": [
       "(100000, 14127)"
      ]
     },
     "execution_count": 19,
     "metadata": {},
     "output_type": "execute_result"
    }
   ],
   "source": [
    "# проверка соответсвия данных\n",
    "len(data_urls), len(set(data_urls))"
   ]
  },
  {
   "cell_type": "code",
   "execution_count": 20,
   "id": "021368bf",
   "metadata": {},
   "outputs": [
    {
     "data": {
      "text/plain": [
       "['http://www.imdb.com/title/tt0114759/usercomments',\n",
       " 'http://www.imdb.com/title/tt0050212/usercomments',\n",
       " 'http://www.imdb.com/title/tt0113313/usercomments',\n",
       " 'http://www.imdb.com/title/tt0343601/usercomments',\n",
       " 'http://www.imdb.com/title/tt0363056/usercomments',\n",
       " 'http://www.imdb.com/title/tt0374298/usercomments',\n",
       " 'http://www.imdb.com/title/tt0081070/usercomments']"
      ]
     },
     "execution_count": 20,
     "metadata": {},
     "output_type": "execute_result"
    }
   ],
   "source": [
    "# извлечение уникальных url фильмов и преобразование в список\n",
    "data_urls = list(set(data_urls))\n",
    "data_urls[:7]"
   ]
  },
  {
   "cell_type": "code",
   "execution_count": 25,
   "id": "fbaa5386",
   "metadata": {},
   "outputs": [
    {
     "name": "stdout",
     "output_type": "stream",
     "text": [
      "CPU times: total: 0 ns\n",
      "Wall time: 0 ns\n"
     ]
    }
   ],
   "source": [
    "%%time\n",
    "# запись данных в таблицу 'Title'\n",
    "for title_url in data_urls:\n",
    "    add_title(title_url)    "
   ]
  },
  {
   "cell_type": "code",
   "execution_count": 23,
   "id": "cdb65760",
   "metadata": {},
   "outputs": [
    {
     "name": "stdout",
     "output_type": "stream",
     "text": [
      "count(t)\n",
      "--------\n",
      "14127   \n"
     ]
    }
   ],
   "source": [
    "# проверка записи данных\n",
    "select(count(t) for t in db.Title).show()"
   ]
  },
  {
   "cell_type": "code",
   "execution_count": 24,
   "id": "9f68a88e",
   "metadata": {},
   "outputs": [
    {
     "name": "stdout",
     "output_type": "stream",
     "text": [
      "id   |title_url                                       \n",
      "-----+------------------------------------------------\n",
      "12776|http://www.imdb.com/title/tt0272022/usercomments\n",
      "4582 |http://www.imdb.com/title/tt0093582/usercomments\n",
      "872  |http://www.imdb.com/title/tt0133832/usercomments\n",
      "9927 |http://www.imdb.com/title/tt0114108/usercomments\n",
      "2102 |http://www.imdb.com/title/tt0119423/usercomments\n",
      "6363 |http://www.imdb.com/title/tt0380066/usercomments\n",
      "9394 |http://www.imdb.com/title/tt0397150/usercomments\n",
      "13428|http://www.imdb.com/title/tt0050381/usercomments\n",
      "3175 |http://www.imdb.com/title/tt0449662/usercomments\n",
      "8650 |http://www.imdb.com/title/tt0844330/usercomments\n"
     ]
    }
   ],
   "source": [
    "# проверка записи данных\n",
    "db.Title.select()[:10].show()"
   ]
  },
  {
   "cell_type": "markdown",
   "id": "cb8a5afa",
   "metadata": {},
   "source": [
    "Данные записаны **успешно**"
   ]
  },
  {
   "cell_type": "markdown",
   "id": "03826ce5",
   "metadata": {},
   "source": [
    "## Таблица 'Sentiment' - комментарии (отзывы) пользователей"
   ]
  },
  {
   "cell_type": "code",
   "execution_count": 26,
   "id": "f9386ffc",
   "metadata": {},
   "outputs": [],
   "source": [
    "# функция записи данных в таблицу 'Sentiment'\n",
    "@db_session\n",
    "def add_sentiment(rating, review, label_id, data_id, title_id):\n",
    "    db.Sentiment(rating=rating, review=review, \\\n",
    "              label_id=label_id, data_id=data_id, title_id=title_id)\n",
    "    # commit() will be done automatically\n",
    "    # database session cache will be cleared automatically\n",
    "    # database connection will be returned to the pool"
   ]
  },
  {
   "cell_type": "code",
   "execution_count": 27,
   "id": "e7bf5872",
   "metadata": {},
   "outputs": [],
   "source": [
    "# список путей к файлам с комментариями (озывами)\n",
    "PACH_DATA = [PACH_DATA_TRAIN_POS, PACH_DATA_TRAIN_NEG, PACH_DATA_TRAIN_UNSUP, \\\n",
    "             PACH_DATA_TEST_POS, PACH_DATA_TEST_NEG]"
   ]
  },
  {
   "cell_type": "code",
   "execution_count": 28,
   "id": "9e738367",
   "metadata": {},
   "outputs": [
    {
     "data": {
      "text/plain": [
       "['data/train/urls_pos.txt',\n",
       " 'data/train/urls_neg.txt',\n",
       " 'data/train/urls_unsup.txt',\n",
       " 'data/test/urls_pos.txt',\n",
       " 'data/test/urls_neg.txt']"
      ]
     },
     "execution_count": 28,
     "metadata": {},
     "output_type": "execute_result"
    }
   ],
   "source": [
    "# список путей к файлам с url фильмов\n",
    "PACH_DATA_URLS"
   ]
  },
  {
   "cell_type": "code",
   "execution_count": 29,
   "id": "19700ddd",
   "metadata": {},
   "outputs": [
    {
     "name": "stdout",
     "output_type": "stream",
     "text": [
      "CPU times: total: 1min 6s\n",
      "Wall time: 2min 9s\n"
     ]
    }
   ],
   "source": [
    "%%time\n",
    "# запись данных в таблицу 'Sentiment'\n",
    "for PACH, PACH_URL in zip(PACH_DATA, PACH_DATA_URLS):\n",
    "    data_name = PACH.split('/')[1]\n",
    "    label_name = PACH.split('/')[-2]\n",
    "    data_id = db.Data.get(data_name=data_name).id\n",
    "    label_id = db.Label.get(label_name=label_name).id\n",
    "    with open(PACH_URL, 'r') as f:\n",
    "        urls = f.read().split()\n",
    "    DATA_PACH = os.listdir(PACH)    \n",
    "    for filename, url in zip(DATA_PACH, urls):\n",
    "        with open(os.path.join(PACH, filename), 'r', encoding=\"utf-8\") as f:\n",
    "            review = f.read()\n",
    "        #sentiment_id = filename.split('.')[0].split('_')[0]\n",
    "        rating = filename.split('.')[0].split('_')[1]\n",
    "        title_id = db.Title.get(title_url=url).id\n",
    "        \n",
    "        add_sentiment(rating, review, label_id, data_id, title_id)"
   ]
  },
  {
   "cell_type": "code",
   "execution_count": 30,
   "id": "c00d881f",
   "metadata": {},
   "outputs": [
    {
     "name": "stdout",
     "output_type": "stream",
     "text": [
      "count(s)\n",
      "--------\n",
      "100000  \n"
     ]
    }
   ],
   "source": [
    "# проверка записи данных\n",
    "select(count(s) for s in db.Sentiment).show()"
   ]
  },
  {
   "cell_type": "code",
   "execution_count": 31,
   "id": "e48eea29",
   "metadata": {},
   "outputs": [
    {
     "name": "stdout",
     "output_type": "stream",
     "text": [
      "sentiment_id|rating|review                        |label_id|data_id|title_id    \n",
      "------------+------+------------------------------+--------+-------+------------\n",
      "1           |9     |Bromwell High is a cartoon ...|Label[1]|Data[2]|Title[3876] \n",
      "2           |8     |Homelessness (or Houselessn...|Label[1]|Data[2]|Title[3876] \n",
      "3           |10    |Brilliant over-acting by Le...|Label[1]|Data[2]|Title[3876] \n",
      "4           |7     |This is easily the most und...|Label[1]|Data[2]|Title[93]   \n",
      "5           |8     |This is not the typical Mel...|Label[1]|Data[2]|Title[93]   \n",
      "6           |8     |This isn't the comedic Robi...|Label[1]|Data[2]|Title[3178] \n",
      "7           |7     |Yes its an art... to succes...|Label[1]|Data[2]|Title[3178] \n",
      "8           |7     |In this \"critically acclaim...|Label[1]|Data[2]|Title[3178] \n",
      "14          |9     |I enjoyed The Night Listene...|Label[1]|Data[2]|Title[3178] \n",
      "1562        |8     |Parsifal (1982) Starring Mi...|Label[1]|Data[2]|Title[10661]\n"
     ]
    }
   ],
   "source": [
    "# проверка записи данных\n",
    "db.Sentiment.select()[:10].show()"
   ]
  },
  {
   "cell_type": "markdown",
   "id": "1af98e99",
   "metadata": {},
   "source": [
    "Данные записаны **успешно**"
   ]
  },
  {
   "cell_type": "code",
   "execution_count": null,
   "id": "b3471270",
   "metadata": {},
   "outputs": [],
   "source": []
  }
 ],
 "metadata": {
  "kernelspec": {
   "display_name": "Python 3 (ipykernel)",
   "language": "python",
   "name": "python3"
  },
  "language_info": {
   "codemirror_mode": {
    "name": "ipython",
    "version": 3
   },
   "file_extension": ".py",
   "mimetype": "text/x-python",
   "name": "python",
   "nbconvert_exporter": "python",
   "pygments_lexer": "ipython3",
   "version": "3.9.12"
  }
 },
 "nbformat": 4,
 "nbformat_minor": 5
}
