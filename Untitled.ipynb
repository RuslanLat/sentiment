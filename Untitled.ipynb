{
 "cells": [
  {
   "cell_type": "code",
   "execution_count": 12,
   "id": "d9d6bfd6",
   "metadata": {},
   "outputs": [],
   "source": [
    "from datetime import date\n",
    "from pony.orm import *\n",
    "import json\n",
    "\n",
    "\n",
    "with open('DATABASE_URL.txt', 'r', encoding='utf-8') as f:\n",
    "    DATABASE_URL = json.load(f)\n",
    "\n",
    "db = Database()\n",
    "\n",
    "# подключение к базе данных 'sentiment' PostgreSQL\n",
    "db.bind(**DATABASE_URL)\n",
    "\n",
    "class Sentiment(db.Entity):\n",
    "    \"\"\"комментарии (отзывы) пользователей\"\"\"\n",
    "    _resource_ = 'https://www.imdb.com/'\n",
    "    sentiment_id = PrimaryKey(int, column='sentiment_id', auto=True)  # идентификатор комментария (отзыва)\n",
    "    rating = Optional(int, column='rating')  # рейтинг комментария (отзыва)\n",
    "    review = Required(str, column='review')  # комментарий (отзыв) пользователя\n",
    "    label_id = Required('Label')  # идентификатор типа комментария (отзыва)\n",
    "    data_id = Required('Data', column='data_id')  # идентификатор выборки\n",
    "    title_id = Required('Title', column='title_id')  # идентификатор url фильма\n",
    "\n",
    "\n",
    "class Title(db.Entity):\n",
    "    \"\"\"url фильмов\"\"\"\n",
    "    _resource_ = 'https://www.imdb.com/'\n",
    "    title_id = Set(Sentiment)  # идентификатор url фильма\n",
    "    title_url = Required(str, unique=True, column='title_url')  # url фильма\n",
    "\n",
    "\n",
    "class Data(db.Entity):\n",
    "    \"\"\"тип выборки\"\"\"\n",
    "    _resource_ = 'https://www.imdb.com/'\n",
    "    data_id = Set(Sentiment)  # идентификатор выборки\n",
    "    data_name = Required(str, unique=True, column='data_name')  # наименование выборки\n",
    "\n",
    "\n",
    "class Label(db.Entity):\n",
    "    \"\"\"тип комментариев (отзывов)\"\"\"\n",
    "    _resource_ = 'https://www.imdb.com/'\n",
    "    label_id = Set(Sentiment)  # идентификатор типа комментария (отзыва)\n",
    "    label_name = Required(str, unique=True, column='label_name')  # тип комментария (отзыва)\n",
    "\n",
    "\n",
    "class Sentiment_New(db.Entity):\n",
    "    \"\"\"комментарии (отзывы) пользователей\"\"\"\n",
    "    sentiment_id = PrimaryKey(int, column='sentiment_id', auto=True)  # идентификатор комментария (отзыва)\n",
    "    date = Required(date, column='date')  # дата комментария (отзыва)\n",
    "    review = Required(str, column='review')  # комментарий (отзыв) пользователя\n",
    "    rating_pred = Optional(int, column='rating_pred')  # предсказанный рейтинг комментария (отзыва)\n",
    "\n",
    "db.generate_mapping(create_tables=True)"
   ]
  },
  {
   "cell_type": "code",
   "execution_count": 13,
   "id": "f5139c18",
   "metadata": {},
   "outputs": [],
   "source": [
    "# задание путей к файлам\n",
    "PACH_DATA_TRAIN_POS = 'data/train/pos/'\n",
    "PACH_DATA_TRAIN_NEG = 'data/train/neg/'\n",
    "PACH_DATA_TRAIN_UNSUP = 'data/train/unsup/'\n",
    "PACH_DATA_TEST_POS = 'data/test/pos/'\n",
    "PACH_DATA_TEST_NEG = 'data/test/neg/'\n",
    "PACH_DATA_TRAIN_URLS_POS = 'data/train/urls_pos.txt'\n",
    "PACH_DATA_TRAIN_URLS_NEG = 'data/train/urls_neg.txt'\n",
    "PACH_DATA_TRAIN_URLS_UNSUP = 'data/train/urls_unsup.txt'\n",
    "PACH_DATA_TEST_URLS_POS = 'data/test/urls_pos.txt'\n",
    "PACH_DATA_TEST_URLS_NEG = 'data/test/urls_neg.txt'"
   ]
  },
  {
   "cell_type": "code",
   "execution_count": 14,
   "id": "c72b5c9e",
   "metadata": {},
   "outputs": [],
   "source": [
    "# функция записи данных в таблицу 'Data'\n",
    "@db_session\n",
    "def add_data(data_name):\n",
    "    db.Data(data_name=data_name)\n",
    "    # commit() will be done automatically\n",
    "    # database session cache will be cleared automatically\n",
    "    # database connection will be returned to the pool"
   ]
  },
  {
   "cell_type": "code",
   "execution_count": 15,
   "id": "abd6d1a6",
   "metadata": {},
   "outputs": [],
   "source": [
    "# данные для внесения данных в таблицу 'Data'\n",
    "data_names = ['train', 'test', 'new']"
   ]
  },
  {
   "cell_type": "code",
   "execution_count": 16,
   "id": "d0e5e2ec",
   "metadata": {},
   "outputs": [],
   "source": [
    "# запись данных в таблицу 'Data'\n",
    "for data_name in data_names:\n",
    "    add_data(data_name)"
   ]
  },
  {
   "cell_type": "code",
   "execution_count": 17,
   "id": "67433e9f",
   "metadata": {},
   "outputs": [
    {
     "name": "stdout",
     "output_type": "stream",
     "text": [
      "id|data_name\n",
      "--+---------\n",
      "1 |train    \n",
      "2 |test     \n",
      "3 |new      \n"
     ]
    }
   ],
   "source": [
    "# проверка записи данных\n",
    "db.Data.select().show()"
   ]
  },
  {
   "cell_type": "code",
   "execution_count": 18,
   "id": "c211f697",
   "metadata": {},
   "outputs": [],
   "source": [
    "# функция записи данных в таблицу 'Label'\n",
    "@db_session\n",
    "def add_label(data_name):\n",
    "    db.Label(label_name=label_name)\n",
    "    # commit() will be done automatically\n",
    "    # database session cache will be cleared automatically\n",
    "    # database connection will be returned to the pool"
   ]
  },
  {
   "cell_type": "code",
   "execution_count": 19,
   "id": "e9402016",
   "metadata": {},
   "outputs": [],
   "source": [
    "# данные для внесения данных в таблицу 'Label'\n",
    "label_names = ['pos', 'neg', 'unsup']"
   ]
  },
  {
   "cell_type": "code",
   "execution_count": 21,
   "id": "81546c06",
   "metadata": {},
   "outputs": [],
   "source": [
    "# запись данных в таблицу 'Label'\n",
    "for label_name in label_names:\n",
    "    add_label(label_name)"
   ]
  },
  {
   "cell_type": "code",
   "execution_count": 22,
   "id": "796521ac",
   "metadata": {},
   "outputs": [
    {
     "name": "stdout",
     "output_type": "stream",
     "text": [
      "id|label_name\n",
      "--+----------\n",
      "1 |pos       \n",
      "2 |neg       \n",
      "3 |unsup     \n"
     ]
    }
   ],
   "source": [
    "# проверка записи данных\n",
    "db.Label.select().show()"
   ]
  },
  {
   "cell_type": "code",
   "execution_count": 23,
   "id": "37d95099",
   "metadata": {},
   "outputs": [],
   "source": [
    "# функция записи данных в таблицу 'Title'\n",
    "@db_session\n",
    "def add_title(title_url):\n",
    "    db.Title(title_url=title_url)\n",
    "    # commit() will be done automatically\n",
    "    # database session cache will be cleared automatically\n",
    "    # database connection will be returned to the pool"
   ]
  },
  {
   "cell_type": "code",
   "execution_count": 24,
   "id": "1f48a719",
   "metadata": {},
   "outputs": [],
   "source": [
    "# список путей к файлам с url фильмов\n",
    "PACH_DATA_URLS = [PACH_DATA_TRAIN_URLS_POS, PACH_DATA_TRAIN_URLS_NEG, PACH_DATA_TRAIN_URLS_UNSUP, \\\n",
    "                  PACH_DATA_TEST_URLS_POS, PACH_DATA_TEST_URLS_NEG]"
   ]
  },
  {
   "cell_type": "code",
   "execution_count": 25,
   "id": "b32dc393",
   "metadata": {},
   "outputs": [
    {
     "name": "stdout",
     "output_type": "stream",
     "text": [
      "CPU times: total: 15.6 ms\n",
      "Wall time: 82.8 ms\n"
     ]
    }
   ],
   "source": [
    "%%time\n",
    "# объдинение путей к файлам в единый список\n",
    "data_urls = []\n",
    "for PACH_DATA_URL in PACH_DATA_URLS:\n",
    "    with open(PACH_DATA_URL, 'r') as f:\n",
    "        urls = f.read().split()\n",
    "        data_urls += urls"
   ]
  },
  {
   "cell_type": "code",
   "execution_count": 26,
   "id": "0886fb9b",
   "metadata": {},
   "outputs": [
    {
     "data": {
      "text/plain": [
       "(100000, 14127)"
      ]
     },
     "execution_count": 26,
     "metadata": {},
     "output_type": "execute_result"
    }
   ],
   "source": [
    "# проверка соответсвия данных\n",
    "len(data_urls), len(set(data_urls))"
   ]
  },
  {
   "cell_type": "code",
   "execution_count": 27,
   "id": "93aa01de",
   "metadata": {},
   "outputs": [
    {
     "data": {
      "text/plain": [
       "['http://www.imdb.com/title/tt0953318/usercomments',\n",
       " 'http://www.imdb.com/title/tt0157191/usercomments',\n",
       " 'http://www.imdb.com/title/tt0247729/usercomments',\n",
       " 'http://www.imdb.com/title/tt0164368/usercomments',\n",
       " 'http://www.imdb.com/title/tt0829193/usercomments',\n",
       " 'http://www.imdb.com/title/tt0158681/usercomments',\n",
       " 'http://www.imdb.com/title/tt0361805/usercomments']"
      ]
     },
     "execution_count": 27,
     "metadata": {},
     "output_type": "execute_result"
    }
   ],
   "source": [
    "# извлечение уникальных url фильмов и преобразование в список\n",
    "data_urls = list(set(data_urls))\n",
    "data_urls[:7]"
   ]
  },
  {
   "cell_type": "code",
   "execution_count": null,
   "id": "6d3b4b08",
   "metadata": {},
   "outputs": [],
   "source": [
    "%%time\n",
    "# запись данных в таблицу 'Title'\n",
    "for title_url in data_urls:\n",
    "    add_title(title_url)   "
   ]
  },
  {
   "cell_type": "code",
   "execution_count": null,
   "id": "91372d0f",
   "metadata": {},
   "outputs": [],
   "source": [
    "# проверка записи данных\n",
    "select(count(t) for t in db.Title).show()"
   ]
  },
  {
   "cell_type": "code",
   "execution_count": null,
   "id": "ee525ef7",
   "metadata": {},
   "outputs": [],
   "source": [
    "# проверка записи данных\n",
    "db.Title.select()[:10].show()"
   ]
  },
  {
   "cell_type": "code",
   "execution_count": null,
   "id": "84f4b7ee",
   "metadata": {},
   "outputs": [],
   "source": [
    "# функция записи данных в таблицу 'Sentiment'\n",
    "@db_session\n",
    "def add_sentiment(rating, review, label_id, data_id, title_id):\n",
    "    db.Sentiment(rating=rating, review=review, \\\n",
    "              label_id=label_id, data_id=data_id, title_id=title_id)\n",
    "    # commit() will be done automatically\n",
    "    # database session cache will be cleared automatically\n",
    "    # database connection will be returned to the pool"
   ]
  },
  {
   "cell_type": "code",
   "execution_count": null,
   "id": "dcc222f2",
   "metadata": {},
   "outputs": [],
   "source": [
    "# список путей к файлам с комментариями (озывами)\n",
    "PACH_DATA = [PACH_DATA_TRAIN_POS, PACH_DATA_TRAIN_NEG, PACH_DATA_TRAIN_UNSUP, \\\n",
    "             PACH_DATA_TEST_POS, PACH_DATA_TEST_NEG]"
   ]
  },
  {
   "cell_type": "code",
   "execution_count": null,
   "id": "0789d809",
   "metadata": {},
   "outputs": [],
   "source": [
    "# список путей к файлам с url фильмов\n",
    "PACH_DATA_URLS"
   ]
  },
  {
   "cell_type": "code",
   "execution_count": null,
   "id": "2f881a80",
   "metadata": {},
   "outputs": [],
   "source": [
    "%%time\n",
    "# запись данных в таблицу 'Sentiment'\n",
    "for PACH, PACH_URL in zip(PACH_DATA, PACH_DATA_URLS):\n",
    "    data_name = PACH.split('/')[1]\n",
    "    label_name = PACH.split('/')[-2]\n",
    "    data_id = db.Data.get(data_name=data_name).id\n",
    "    label_id = db.Label.get(label_name=label_name).id\n",
    "    with open(PACH_URL, 'r') as f:\n",
    "        urls = f.read().split()\n",
    "    DATA_PACH = os.listdir(PACH)    \n",
    "    for filename, url in zip(DATA_PACH, urls):\n",
    "        with open(os.path.join(PACH, filename), 'r', encoding=\"utf-8\") as f:\n",
    "            review = f.read()\n",
    "        #sentiment_id = filename.split('.')[0].split('_')[0]\n",
    "        rating = filename.split('.')[0].split('_')[1]\n",
    "        title_id = db.Title.get(title_url=url).id\n",
    "        \n",
    "        add_sentiment(rating, review, label_id, data_id, title_id)"
   ]
  },
  {
   "cell_type": "code",
   "execution_count": null,
   "id": "ecff098a",
   "metadata": {},
   "outputs": [],
   "source": [
    "# проверка записи данных\n",
    "select(count(s) for s in db.Sentiment).show()"
   ]
  },
  {
   "cell_type": "code",
   "execution_count": null,
   "id": "43c0abba",
   "metadata": {},
   "outputs": [],
   "source": [
    "# проверка записи данных\n",
    "db.Sentiment.select()[:10].show()"
   ]
  },
  {
   "cell_type": "code",
   "execution_count": null,
   "id": "a5694887",
   "metadata": {},
   "outputs": [],
   "source": []
  }
 ],
 "metadata": {
  "kernelspec": {
   "display_name": "Python 3 (ipykernel)",
   "language": "python",
   "name": "python3"
  },
  "language_info": {
   "codemirror_mode": {
    "name": "ipython",
    "version": 3
   },
   "file_extension": ".py",
   "mimetype": "text/x-python",
   "name": "python",
   "nbconvert_exporter": "python",
   "pygments_lexer": "ipython3",
   "version": "3.9.12"
  }
 },
 "nbformat": 4,
 "nbformat_minor": 5
}
