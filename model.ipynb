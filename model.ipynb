{
 "cells": [
  {
   "cell_type": "code",
   "execution_count": 239,
   "id": "0f60d652",
   "metadata": {},
   "outputs": [],
   "source": [
    "# импорт необходимых библеотек\n",
    "from matplotlib import pyplot as plt\n",
    "from sklearn.feature_extraction.text import CountVectorizer\n",
    "import numpy as np\n",
    "import pandas as pd\n",
    "import seaborn as sns\n",
    "from sklearn.model_selection import cross_val_score, train_test_split\n",
    "from sklearn.metrics import classification_report, confusion_matrix\n",
    "import getpass\n",
    "import psycopg2\n",
    "import os\n",
    "import pickle\n",
    "import warnings\n",
    "warnings.filterwarnings('ignore')\n",
    "\n",
    "%matplotlib inline"
   ]
  },
  {
   "cell_type": "code",
   "execution_count": 116,
   "id": "159f482c",
   "metadata": {},
   "outputs": [
    {
     "data": {
      "image/png": "[encoded data removed]",
      "text/plain": [
       "<Figure size 288x72 with 1 Axes>"
      ]
     },
     "metadata": {
      "needs_background": "light"
     },
     "output_type": "display_data"
    }
   ],
   "source": [
    "# задание палитры цветов\n",
    "colors = ['#567189', '#7B8FA1', '#CFB997', '#FAD6A5']\n",
    "sns.palplot(sns.color_palette(colors))"
   ]
  },
  {
   "cell_type": "code",
   "execution_count": 117,
   "id": "28b5658b",
   "metadata": {},
   "outputs": [],
   "source": [
    "import matplotlib.colors as mcolors\n",
    "\n",
    "\n",
    "def make_colormap(seq):\n",
    "    \n",
    "    \"\"\" функция создания пользовательского\n",
    "            масштабируемого цвета \"\"\"\n",
    "    \n",
    "    seq = [(None,) * 3, 0.0] + list(seq) + [1.0, (None,) * 3]\n",
    "    cdict = {'red': [], 'green': [], 'blue': []}\n",
    "    for i, item in enumerate(seq):\n",
    "        if isinstance(item, float):\n",
    "            r1, g1, b1 = seq[i - 1]\n",
    "            r2, g2, b2 = seq[i + 1]\n",
    "            cdict['red'].append([item, r1, r2])\n",
    "            cdict['green'].append([item, g1, g2])\n",
    "            cdict['blue'].append([item, b1, b2])\n",
    "    return mcolors.LinearSegmentedColormap('CustomMap', cdict)"
   ]
  },
  {
   "cell_type": "code",
   "execution_count": 118,
   "id": "fcac241b",
   "metadata": {},
   "outputs": [],
   "source": [
    "# задание палитры цветов\n",
    "c = mcolors.ColorConverter().to_rgb\n",
    "rvb = make_colormap(\n",
    "    [c('slategray') , 0.25, c('slategray'), c('darkgray'), 0.50, \\\n",
    "     c('darkgray'), c('tan'), 0.75, c('tan'), c('wheat')])"
   ]
  },
  {
   "cell_type": "code",
   "execution_count": 119,
   "id": "1b92b7ee",
   "metadata": {},
   "outputs": [
    {
     "data": {
      "image/png": "[encoded data removed]",
      "text/html": [
       "<div style=\"vertical-align: middle;\"><strong>CustomMap</strong> </div><div class=\"cmap\"><img alt=\"CustomMap colormap\" title=\"CustomMap\" style=\"border: 1px solid #555;\" src=\"data:image/png;base64,iVBORw0KGgoAAAANSUhEUgAAAgAAAABACAYAAABsv8+/AAAAGHRFWHRUaXRsZQBDdXN0b21NYXAgY29sb3JtYXA7Eq9pAAAAHnRFWHREZXNjcmlwdGlvbgBDdXN0b21NYXAgY29sb3JtYXB5iUniAAAAMHRFWHRBdXRob3IATWF0cGxvdGxpYiB2My41LjEsIGh0dHBzOi8vbWF0cGxvdGxpYi5vcmf3t87PAAAAMnRFWHRTb2Z0d2FyZQBNYXRwbG90bGliIHYzLjUuMSwgaHR0cHM6Ly9tYXRwbG90bGliLm9yZ9kRUegAAAG1SURBVHic7dZBTsMwAABBhxfzBJ7Aj+GURnEwjVA57cyF2rUcp7LQbu8fn1+DvG3/O304htvp+8v8Yt1YzK/3ncbT/Li57pifz+f9fly/j8fX6fsxjY/10/w4/xt57LNY/1/7XtfvH27ue3v9NL+t1r1239XvN6bf5em++/jJfZnv47jc/2n82Of3+WO78wXcpgt/PGZ1vsW6y/nuvc/6fKv3mZ/72vPMz/3reY7p8/zbAAByBAAABAkAAAgSAAAQJAAAIEgAAECQAACAIAEAAEECAACCBAAABAkAAAgSAAAQJAAAIEgAAECQAACAIAEAAEECAACCBAAABAkAAAgSAAAQJAAAIEgAAECQAACAIAEAAEECAACCBAAABAkAAAgSAAAQJAAAIEgAAECQAACAIAEAAEECAACCBAAABAkAAAgSAAAQJAAAIEgAAECQAACAIAEAAEECAACCBAAABAkAAAgSAAAQJAAAIEgAAECQAACAIAEAAEECAACCBAAABAkAAAgSAAAQJAAAIEgAAECQAACAIAEAAEECAACCBAAABAkAAAgSAAAQJAAAIEgAAECQAACAoG9GNCAFzN6kWgAAAABJRU5ErkJggg==\"></div><div style=\"vertical-align: middle; max-width: 514px; display: flex; justify-content: space-between;\"><div style=\"float: left;\"><div title=\"#708090ff\" style=\"display: inline-block; width: 1em; height: 1em; margin: 0; vertical-align: middle; border: 1px solid #555; background-color: #708090ff;\"></div> under</div><div style=\"margin: 0 auto; display: inline-block;\">bad <div title=\"#00000000\" style=\"display: inline-block; width: 1em; height: 1em; margin: 0; vertical-align: middle; border: 1px solid #555; background-color: #00000000;\"></div></div><div style=\"float: right;\">over <div title=\"#f5deb3ff\" style=\"display: inline-block; width: 1em; height: 1em; margin: 0; vertical-align: middle; border: 1px solid #555; background-color: #f5deb3ff;\"></div></div>"
      ],
      "text/plain": [
       "<matplotlib.colors.LinearSegmentedColormap at 0x2e7d9c2db20>"
      ]
     },
     "execution_count": 119,
     "metadata": {},
     "output_type": "execute_result"
    }
   ],
   "source": [
    "rvb"
   ]
  },
  {
   "cell_type": "code",
   "execution_count": 127,
   "id": "d035ed83",
   "metadata": {},
   "outputs": [
    {
     "data": {
      "text/html": [
       "<div>\n",
       "<style scoped>\n",
       "    .dataframe tbody tr th:only-of-type {\n",
       "        vertical-align: middle;\n",
       "    }\n",
       "\n",
       "    .dataframe tbody tr th {\n",
       "        vertical-align: top;\n",
       "    }\n",
       "\n",
       "    .dataframe thead th {\n",
       "        text-align: right;\n",
       "    }\n",
       "</style>\n",
       "<table border=\"1\" class=\"dataframe\">\n",
       "  <thead>\n",
       "    <tr style=\"text-align: right;\">\n",
       "      <th></th>\n",
       "      <th>data_name</th>\n",
       "      <th>label_name</th>\n",
       "      <th>rating</th>\n",
       "      <th>review</th>\n",
       "    </tr>\n",
       "  </thead>\n",
       "  <tbody>\n",
       "    <tr>\n",
       "      <th>0</th>\n",
       "      <td>train</td>\n",
       "      <td>pos</td>\n",
       "      <td>8</td>\n",
       "      <td>I do try not to take IMDb ratings to heart, bu...</td>\n",
       "    </tr>\n",
       "    <tr>\n",
       "      <th>1</th>\n",
       "      <td>train</td>\n",
       "      <td>pos</td>\n",
       "      <td>8</td>\n",
       "      <td>I saw this when it first came to video, my lit...</td>\n",
       "    </tr>\n",
       "    <tr>\n",
       "      <th>2</th>\n",
       "      <td>train</td>\n",
       "      <td>pos</td>\n",
       "      <td>10</td>\n",
       "      <td>its great i loved it ha cause i love dinosaurs...</td>\n",
       "    </tr>\n",
       "    <tr>\n",
       "      <th>3</th>\n",
       "      <td>train</td>\n",
       "      <td>pos</td>\n",
       "      <td>7</td>\n",
       "      <td>I wouldn't call \"We're Back! A Dinosaur's Stor...</td>\n",
       "    </tr>\n",
       "    <tr>\n",
       "      <th>4</th>\n",
       "      <td>train</td>\n",
       "      <td>pos</td>\n",
       "      <td>10</td>\n",
       "      <td>this was a personal favorite of mine when i wa...</td>\n",
       "    </tr>\n",
       "  </tbody>\n",
       "</table>\n",
       "</div>"
      ],
      "text/plain": [
       "  data_name label_name  rating  \\\n",
       "0     train        pos       8   \n",
       "1     train        pos       8   \n",
       "2     train        pos      10   \n",
       "3     train        pos       7   \n",
       "4     train        pos      10   \n",
       "\n",
       "                                              review  \n",
       "0  I do try not to take IMDb ratings to heart, bu...  \n",
       "1  I saw this when it first came to video, my lit...  \n",
       "2  its great i loved it ha cause i love dinosaurs...  \n",
       "3  I wouldn't call \"We're Back! A Dinosaur's Stor...  \n",
       "4  this was a personal favorite of mine when i wa...  "
      ]
     },
     "execution_count": 127,
     "metadata": {},
     "output_type": "execute_result"
    }
   ],
   "source": [
    "# загрузка данных\n",
    "df_sentiments = pd.read_csv('data/sentiments.csv')\n",
    "df_sentiments.head()"
   ]
  },
  {
   "cell_type": "code",
   "execution_count": 128,
   "id": "da81be25",
   "metadata": {},
   "outputs": [],
   "source": [
    "# кодирование меток данных\n",
    "label = {'pos' : 1, 'neg' : 0}"
   ]
  },
  {
   "cell_type": "code",
   "execution_count": 129,
   "id": "6b4caa13",
   "metadata": {},
   "outputs": [],
   "source": [
    "# преобразование \n",
    "df_sentiments['label_name'] = df_sentiments['label_name'].map(label)"
   ]
  },
  {
   "cell_type": "code",
   "execution_count": 130,
   "id": "232fb895",
   "metadata": {},
   "outputs": [],
   "source": [
    "df_sentiments['review_lower'] = df_sentiments['review'].apply(lambda x: x.lower())"
   ]
  },
  {
   "cell_type": "code",
   "execution_count": 131,
   "id": "41ab729d",
   "metadata": {},
   "outputs": [
    {
     "data": {
      "text/html": [
       "<div>\n",
       "<style scoped>\n",
       "    .dataframe tbody tr th:only-of-type {\n",
       "        vertical-align: middle;\n",
       "    }\n",
       "\n",
       "    .dataframe tbody tr th {\n",
       "        vertical-align: top;\n",
       "    }\n",
       "\n",
       "    .dataframe thead th {\n",
       "        text-align: right;\n",
       "    }\n",
       "</style>\n",
       "<table border=\"1\" class=\"dataframe\">\n",
       "  <thead>\n",
       "    <tr style=\"text-align: right;\">\n",
       "      <th></th>\n",
       "      <th>data_name</th>\n",
       "      <th>label_name</th>\n",
       "      <th>rating</th>\n",
       "      <th>review</th>\n",
       "      <th>review_lower</th>\n",
       "    </tr>\n",
       "  </thead>\n",
       "  <tbody>\n",
       "    <tr>\n",
       "      <th>0</th>\n",
       "      <td>train</td>\n",
       "      <td>1</td>\n",
       "      <td>8</td>\n",
       "      <td>I do try not to take IMDb ratings to heart, bu...</td>\n",
       "      <td>i do try not to take imdb ratings to heart, bu...</td>\n",
       "    </tr>\n",
       "    <tr>\n",
       "      <th>1</th>\n",
       "      <td>train</td>\n",
       "      <td>1</td>\n",
       "      <td>8</td>\n",
       "      <td>I saw this when it first came to video, my lit...</td>\n",
       "      <td>i saw this when it first came to video, my lit...</td>\n",
       "    </tr>\n",
       "    <tr>\n",
       "      <th>2</th>\n",
       "      <td>train</td>\n",
       "      <td>1</td>\n",
       "      <td>10</td>\n",
       "      <td>its great i loved it ha cause i love dinosaurs...</td>\n",
       "      <td>its great i loved it ha cause i love dinosaurs...</td>\n",
       "    </tr>\n",
       "    <tr>\n",
       "      <th>3</th>\n",
       "      <td>train</td>\n",
       "      <td>1</td>\n",
       "      <td>7</td>\n",
       "      <td>I wouldn't call \"We're Back! A Dinosaur's Stor...</td>\n",
       "      <td>i wouldn't call \"we're back! a dinosaur's stor...</td>\n",
       "    </tr>\n",
       "    <tr>\n",
       "      <th>4</th>\n",
       "      <td>train</td>\n",
       "      <td>1</td>\n",
       "      <td>10</td>\n",
       "      <td>this was a personal favorite of mine when i wa...</td>\n",
       "      <td>this was a personal favorite of mine when i wa...</td>\n",
       "    </tr>\n",
       "  </tbody>\n",
       "</table>\n",
       "</div>"
      ],
      "text/plain": [
       "  data_name  label_name  rating  \\\n",
       "0     train           1       8   \n",
       "1     train           1       8   \n",
       "2     train           1      10   \n",
       "3     train           1       7   \n",
       "4     train           1      10   \n",
       "\n",
       "                                              review  \\\n",
       "0  I do try not to take IMDb ratings to heart, bu...   \n",
       "1  I saw this when it first came to video, my lit...   \n",
       "2  its great i loved it ha cause i love dinosaurs...   \n",
       "3  I wouldn't call \"We're Back! A Dinosaur's Stor...   \n",
       "4  this was a personal favorite of mine when i wa...   \n",
       "\n",
       "                                        review_lower  \n",
       "0  i do try not to take imdb ratings to heart, bu...  \n",
       "1  i saw this when it first came to video, my lit...  \n",
       "2  its great i loved it ha cause i love dinosaurs...  \n",
       "3  i wouldn't call \"we're back! a dinosaur's stor...  \n",
       "4  this was a personal favorite of mine when i wa...  "
      ]
     },
     "execution_count": 131,
     "metadata": {},
     "output_type": "execute_result"
    }
   ],
   "source": [
    "# данные для обучения\n",
    "df_train = df_sentiments.query(\"data_name == 'train'\")\n",
    "df_train.head()"
   ]
  },
  {
   "cell_type": "code",
   "execution_count": 132,
   "id": "2b43d641",
   "metadata": {},
   "outputs": [
    {
     "data": {
      "text/html": [
       "<div>\n",
       "<style scoped>\n",
       "    .dataframe tbody tr th:only-of-type {\n",
       "        vertical-align: middle;\n",
       "    }\n",
       "\n",
       "    .dataframe tbody tr th {\n",
       "        vertical-align: top;\n",
       "    }\n",
       "\n",
       "    .dataframe thead th {\n",
       "        text-align: right;\n",
       "    }\n",
       "</style>\n",
       "<table border=\"1\" class=\"dataframe\">\n",
       "  <thead>\n",
       "    <tr style=\"text-align: right;\">\n",
       "      <th></th>\n",
       "      <th>data_name</th>\n",
       "      <th>label_name</th>\n",
       "      <th>rating</th>\n",
       "      <th>review</th>\n",
       "      <th>review_lower</th>\n",
       "    </tr>\n",
       "  </thead>\n",
       "  <tbody>\n",
       "    <tr>\n",
       "      <th>24708</th>\n",
       "      <td>test</td>\n",
       "      <td>1</td>\n",
       "      <td>8</td>\n",
       "      <td>In this peculiar movie, the themes of the end ...</td>\n",
       "      <td>in this peculiar movie, the themes of the end ...</td>\n",
       "    </tr>\n",
       "    <tr>\n",
       "      <th>24709</th>\n",
       "      <td>test</td>\n",
       "      <td>1</td>\n",
       "      <td>10</td>\n",
       "      <td>In The Book of Life, Martin Donovan plays Jesu...</td>\n",
       "      <td>in the book of life, martin donovan plays jesu...</td>\n",
       "    </tr>\n",
       "    <tr>\n",
       "      <th>24710</th>\n",
       "      <td>test</td>\n",
       "      <td>1</td>\n",
       "      <td>10</td>\n",
       "      <td>I saw this movie last night on HBO &amp; didn't ex...</td>\n",
       "      <td>i saw this movie last night on hbo &amp; didn't ex...</td>\n",
       "    </tr>\n",
       "    <tr>\n",
       "      <th>24711</th>\n",
       "      <td>test</td>\n",
       "      <td>1</td>\n",
       "      <td>10</td>\n",
       "      <td>No blood, no sex (though it oozes passion), no...</td>\n",
       "      <td>no blood, no sex (though it oozes passion), no...</td>\n",
       "    </tr>\n",
       "    <tr>\n",
       "      <th>24712</th>\n",
       "      <td>test</td>\n",
       "      <td>1</td>\n",
       "      <td>10</td>\n",
       "      <td>In The Book of Life, Martin Donovan plays Jesu...</td>\n",
       "      <td>in the book of life, martin donovan plays jesu...</td>\n",
       "    </tr>\n",
       "  </tbody>\n",
       "</table>\n",
       "</div>"
      ],
      "text/plain": [
       "      data_name  label_name  rating  \\\n",
       "24708      test           1       8   \n",
       "24709      test           1      10   \n",
       "24710      test           1      10   \n",
       "24711      test           1      10   \n",
       "24712      test           1      10   \n",
       "\n",
       "                                                  review  \\\n",
       "24708  In this peculiar movie, the themes of the end ...   \n",
       "24709  In The Book of Life, Martin Donovan plays Jesu...   \n",
       "24710  I saw this movie last night on HBO & didn't ex...   \n",
       "24711  No blood, no sex (though it oozes passion), no...   \n",
       "24712  In The Book of Life, Martin Donovan plays Jesu...   \n",
       "\n",
       "                                            review_lower  \n",
       "24708  in this peculiar movie, the themes of the end ...  \n",
       "24709  in the book of life, martin donovan plays jesu...  \n",
       "24710  i saw this movie last night on hbo & didn't ex...  \n",
       "24711  no blood, no sex (though it oozes passion), no...  \n",
       "24712  in the book of life, martin donovan plays jesu...  "
      ]
     },
     "execution_count": 132,
     "metadata": {},
     "output_type": "execute_result"
    }
   ],
   "source": [
    "# данные для теста\n",
    "df_test = df_sentiments.query(\"data_name == 'test'\")\n",
    "df_test.head()"
   ]
  },
  {
   "cell_type": "code",
   "execution_count": null,
   "id": "c97fb0f7",
   "metadata": {},
   "outputs": [],
   "source": []
  },
  {
   "cell_type": "code",
   "execution_count": 135,
   "id": "22e4e2fe",
   "metadata": {},
   "outputs": [
    {
     "data": {
      "text/plain": [
       "0    i do try not to take imdb ratings to heart, bu...\n",
       "1    i saw this when it first came to video, my lit...\n",
       "Name: review_lower, dtype: object"
      ]
     },
     "execution_count": 135,
     "metadata": {},
     "output_type": "execute_result"
    }
   ],
   "source": [
    "X_train = df_train['review_lower']\n",
    "X_train[:2]"
   ]
  },
  {
   "cell_type": "code",
   "execution_count": 136,
   "id": "110ed796",
   "metadata": {},
   "outputs": [
    {
     "data": {
      "text/html": [
       "<div>\n",
       "<style scoped>\n",
       "    .dataframe tbody tr th:only-of-type {\n",
       "        vertical-align: middle;\n",
       "    }\n",
       "\n",
       "    .dataframe tbody tr th {\n",
       "        vertical-align: top;\n",
       "    }\n",
       "\n",
       "    .dataframe thead th {\n",
       "        text-align: right;\n",
       "    }\n",
       "</style>\n",
       "<table border=\"1\" class=\"dataframe\">\n",
       "  <thead>\n",
       "    <tr style=\"text-align: right;\">\n",
       "      <th></th>\n",
       "      <th>label_name</th>\n",
       "      <th>rating</th>\n",
       "    </tr>\n",
       "  </thead>\n",
       "  <tbody>\n",
       "    <tr>\n",
       "      <th>0</th>\n",
       "      <td>1</td>\n",
       "      <td>8</td>\n",
       "    </tr>\n",
       "    <tr>\n",
       "      <th>1</th>\n",
       "      <td>1</td>\n",
       "      <td>8</td>\n",
       "    </tr>\n",
       "  </tbody>\n",
       "</table>\n",
       "</div>"
      ],
      "text/plain": [
       "   label_name  rating\n",
       "0           1       8\n",
       "1           1       8"
      ]
     },
     "execution_count": 136,
     "metadata": {},
     "output_type": "execute_result"
    }
   ],
   "source": [
    "y_train = df_train[['label_name', 'rating']]\n",
    "y_train[:2]"
   ]
  },
  {
   "cell_type": "code",
   "execution_count": 137,
   "id": "6dd5f00d",
   "metadata": {},
   "outputs": [
    {
     "data": {
      "text/plain": [
       "24708    in this peculiar movie, the themes of the end ...\n",
       "24709    in the book of life, martin donovan plays jesu...\n",
       "Name: review_lower, dtype: object"
      ]
     },
     "execution_count": 137,
     "metadata": {},
     "output_type": "execute_result"
    }
   ],
   "source": [
    "X_test = df_test['review_lower']\n",
    "X_test[:2]"
   ]
  },
  {
   "cell_type": "code",
   "execution_count": 138,
   "id": "49483148",
   "metadata": {},
   "outputs": [
    {
     "data": {
      "text/html": [
       "<div>\n",
       "<style scoped>\n",
       "    .dataframe tbody tr th:only-of-type {\n",
       "        vertical-align: middle;\n",
       "    }\n",
       "\n",
       "    .dataframe tbody tr th {\n",
       "        vertical-align: top;\n",
       "    }\n",
       "\n",
       "    .dataframe thead th {\n",
       "        text-align: right;\n",
       "    }\n",
       "</style>\n",
       "<table border=\"1\" class=\"dataframe\">\n",
       "  <thead>\n",
       "    <tr style=\"text-align: right;\">\n",
       "      <th></th>\n",
       "      <th>label_name</th>\n",
       "      <th>rating</th>\n",
       "    </tr>\n",
       "  </thead>\n",
       "  <tbody>\n",
       "    <tr>\n",
       "      <th>24708</th>\n",
       "      <td>1</td>\n",
       "      <td>8</td>\n",
       "    </tr>\n",
       "    <tr>\n",
       "      <th>24709</th>\n",
       "      <td>1</td>\n",
       "      <td>10</td>\n",
       "    </tr>\n",
       "  </tbody>\n",
       "</table>\n",
       "</div>"
      ],
      "text/plain": [
       "       label_name  rating\n",
       "24708           1       8\n",
       "24709           1      10"
      ]
     },
     "execution_count": 138,
     "metadata": {},
     "output_type": "execute_result"
    }
   ],
   "source": [
    "y_test = df_test[['label_name', 'rating']]\n",
    "y_test[:2]"
   ]
  },
  {
   "cell_type": "code",
   "execution_count": 139,
   "id": "66b341d0",
   "metadata": {},
   "outputs": [],
   "source": [
    "from sklearn.feature_extraction.text import TfidfVectorizer"
   ]
  },
  {
   "cell_type": "code",
   "execution_count": 140,
   "id": "95646573",
   "metadata": {},
   "outputs": [],
   "source": [
    "from sklearn.model_selection import cross_val_score"
   ]
  },
  {
   "cell_type": "code",
   "execution_count": 141,
   "id": "5e949b95",
   "metadata": {},
   "outputs": [],
   "source": [
    "from sklearn.metrics import classification_report\n",
    "from sklearn.metrics import confusion_matrix"
   ]
  },
  {
   "cell_type": "code",
   "execution_count": 142,
   "id": "3cf8f712",
   "metadata": {},
   "outputs": [],
   "source": [
    "from sklearn.naive_bayes import MultinomialNB"
   ]
  },
  {
   "cell_type": "code",
   "execution_count": 180,
   "id": "71067dc1",
   "metadata": {},
   "outputs": [],
   "source": [
    "vectorizer = TfidfVectorizer(ngram_range=(1, 2), max_features=1000)"
   ]
  },
  {
   "cell_type": "code",
   "execution_count": 200,
   "id": "63e8a49a",
   "metadata": {},
   "outputs": [],
   "source": [
    "# сохранение обученного TfidfVectorizer в файл\n",
    "dest = os.path.join('data', 'pkl_object')\n",
    "if not os.path.exists(dest):\n",
    "    os.makedirs(dest)\n",
    "pickle.dump(vectorizer,\n",
    "            open(os.path.join(dest, 'vectorizer.pkl'), 'wb'),\n",
    "            protocol=4)"
   ]
  },
  {
   "cell_type": "code",
   "execution_count": 181,
   "id": "380d03b5",
   "metadata": {},
   "outputs": [],
   "source": [
    "X_train_vector = vectorizer.fit_transform(X_train)"
   ]
  },
  {
   "cell_type": "code",
   "execution_count": 182,
   "id": "7882b82d",
   "metadata": {},
   "outputs": [],
   "source": [
    "X_test_vector = vectorizer.transform(X_test)"
   ]
  },
  {
   "cell_type": "code",
   "execution_count": null,
   "id": "7b33f532",
   "metadata": {},
   "outputs": [],
   "source": []
  },
  {
   "cell_type": "code",
   "execution_count": 183,
   "id": "061e5ea4",
   "metadata": {},
   "outputs": [],
   "source": [
    "clf = MultinomialNB()"
   ]
  },
  {
   "cell_type": "code",
   "execution_count": 184,
   "id": "6e250f1a",
   "metadata": {},
   "outputs": [],
   "source": [
    "cv = cross_val_score(clf, X_train_vector, y_train['label_name'], cv=3, scoring='accuracy')"
   ]
  },
  {
   "cell_type": "code",
   "execution_count": 185,
   "id": "e88c97ab",
   "metadata": {},
   "outputs": [
    {
     "data": {
      "text/plain": [
       "array([0.81545476, 0.81279251, 0.81771271])"
      ]
     },
     "execution_count": 185,
     "metadata": {},
     "output_type": "execute_result"
    }
   ],
   "source": [
    "cv"
   ]
  },
  {
   "cell_type": "code",
   "execution_count": 186,
   "id": "81dc8c1b",
   "metadata": {},
   "outputs": [],
   "source": [
    "from sklearn.linear_model import LogisticRegression"
   ]
  },
  {
   "cell_type": "code",
   "execution_count": 187,
   "id": "317e6d45",
   "metadata": {},
   "outputs": [],
   "source": [
    "logit = LogisticRegression(random_state=0)"
   ]
  },
  {
   "cell_type": "code",
   "execution_count": 188,
   "id": "895923ed",
   "metadata": {},
   "outputs": [],
   "source": [
    "cv = cross_val_score(logit, X_train_vector, y_train['label_name'], cv=3, scoring='accuracy')"
   ]
  },
  {
   "cell_type": "code",
   "execution_count": 189,
   "id": "9c87c0cb",
   "metadata": {},
   "outputs": [
    {
     "data": {
      "text/plain": [
       "array([0.84653228, 0.83883355, 0.85083403])"
      ]
     },
     "execution_count": 189,
     "metadata": {},
     "output_type": "execute_result"
    }
   ],
   "source": [
    "cv"
   ]
  },
  {
   "cell_type": "code",
   "execution_count": 190,
   "id": "eb175572",
   "metadata": {},
   "outputs": [],
   "source": [
    "logit = LogisticRegression(random_state=0)"
   ]
  },
  {
   "cell_type": "code",
   "execution_count": 191,
   "id": "ac6b1bc4",
   "metadata": {},
   "outputs": [
    {
     "data": {
      "text/html": [
       "<style>#sk-container-id-6 {color: black;background-color: white;}#sk-container-id-6 pre{padding: 0;}#sk-container-id-6 div.sk-toggleable {background-color: white;}#sk-container-id-6 label.sk-toggleable__label {cursor: pointer;display: block;width: 100%;margin-bottom: 0;padding: 0.3em;box-sizing: border-box;text-align: center;}#sk-container-id-6 label.sk-toggleable__label-arrow:before {content: \"▸\";float: left;margin-right: 0.25em;color: #696969;}#sk-container-id-6 label.sk-toggleable__label-arrow:hover:before {color: black;}#sk-container-id-6 div.sk-estimator:hover label.sk-toggleable__label-arrow:before {color: black;}#sk-container-id-6 div.sk-toggleable__content {max-height: 0;max-width: 0;overflow: hidden;text-align: left;background-color: #f0f8ff;}#sk-container-id-6 div.sk-toggleable__content pre {margin: 0.2em;color: black;border-radius: 0.25em;background-color: #f0f8ff;}#sk-container-id-6 input.sk-toggleable__control:checked~div.sk-toggleable__content {max-height: 200px;max-width: 100%;overflow: auto;}#sk-container-id-6 input.sk-toggleable__control:checked~label.sk-toggleable__label-arrow:before {content: \"▾\";}#sk-container-id-6 div.sk-estimator input.sk-toggleable__control:checked~label.sk-toggleable__label {background-color: #d4ebff;}#sk-container-id-6 div.sk-label input.sk-toggleable__control:checked~label.sk-toggleable__label {background-color: #d4ebff;}#sk-container-id-6 input.sk-hidden--visually {border: 0;clip: rect(1px 1px 1px 1px);clip: rect(1px, 1px, 1px, 1px);height: 1px;margin: -1px;overflow: hidden;padding: 0;position: absolute;width: 1px;}#sk-container-id-6 div.sk-estimator {font-family: monospace;background-color: #f0f8ff;border: 1px dotted black;border-radius: 0.25em;box-sizing: border-box;margin-bottom: 0.5em;}#sk-container-id-6 div.sk-estimator:hover {background-color: #d4ebff;}#sk-container-id-6 div.sk-parallel-item::after {content: \"\";width: 100%;border-bottom: 1px solid gray;flex-grow: 1;}#sk-container-id-6 div.sk-label:hover label.sk-toggleable__label {background-color: #d4ebff;}#sk-container-id-6 div.sk-serial::before {content: \"\";position: absolute;border-left: 1px solid gray;box-sizing: border-box;top: 0;bottom: 0;left: 50%;z-index: 0;}#sk-container-id-6 div.sk-serial {display: flex;flex-direction: column;align-items: center;background-color: white;padding-right: 0.2em;padding-left: 0.2em;position: relative;}#sk-container-id-6 div.sk-item {position: relative;z-index: 1;}#sk-container-id-6 div.sk-parallel {display: flex;align-items: stretch;justify-content: center;background-color: white;position: relative;}#sk-container-id-6 div.sk-item::before, #sk-container-id-6 div.sk-parallel-item::before {content: \"\";position: absolute;border-left: 1px solid gray;box-sizing: border-box;top: 0;bottom: 0;left: 50%;z-index: -1;}#sk-container-id-6 div.sk-parallel-item {display: flex;flex-direction: column;z-index: 1;position: relative;background-color: white;}#sk-container-id-6 div.sk-parallel-item:first-child::after {align-self: flex-end;width: 50%;}#sk-container-id-6 div.sk-parallel-item:last-child::after {align-self: flex-start;width: 50%;}#sk-container-id-6 div.sk-parallel-item:only-child::after {width: 0;}#sk-container-id-6 div.sk-dashed-wrapped {border: 1px dashed gray;margin: 0 0.4em 0.5em 0.4em;box-sizing: border-box;padding-bottom: 0.4em;background-color: white;}#sk-container-id-6 div.sk-label label {font-family: monospace;font-weight: bold;display: inline-block;line-height: 1.2em;}#sk-container-id-6 div.sk-label-container {text-align: center;}#sk-container-id-6 div.sk-container {/* jupyter's `normalize.less` sets `[hidden] { display: none; }` but bootstrap.min.css set `[hidden] { display: none !important; }` so we also need the `!important` here to be able to override the default hidden behavior on the sphinx rendered scikit-learn.org. See: https://github.com/scikit-learn/scikit-learn/issues/21755 */display: inline-block !important;position: relative;}#sk-container-id-6 div.sk-text-repr-fallback {display: none;}</style><div id=\"sk-container-id-6\" class=\"sk-top-container\"><div class=\"sk-text-repr-fallback\"><pre>LogisticRegression(random_state=0)</pre><b>In a Jupyter environment, please rerun this cell to show the HTML representation or trust the notebook. <br />On GitHub, the HTML representation is unable to render, please try loading this page with nbviewer.org.</b></div><div class=\"sk-container\" hidden><div class=\"sk-item\"><div class=\"sk-estimator sk-toggleable\"><input class=\"sk-toggleable__control sk-hidden--visually\" id=\"sk-estimator-id-6\" type=\"checkbox\" checked><label for=\"sk-estimator-id-6\" class=\"sk-toggleable__label sk-toggleable__label-arrow\">LogisticRegression</label><div class=\"sk-toggleable__content\"><pre>LogisticRegression(random_state=0)</pre></div></div></div></div></div>"
      ],
      "text/plain": [
       "LogisticRegression(random_state=0)"
      ]
     },
     "execution_count": 191,
     "metadata": {},
     "output_type": "execute_result"
    }
   ],
   "source": [
    "logit.fit(X_train_vector, y_train['label_name'])"
   ]
  },
  {
   "cell_type": "code",
   "execution_count": 192,
   "id": "69d421ec",
   "metadata": {},
   "outputs": [],
   "source": [
    "y_pred = logit.predict(X_test_vector)"
   ]
  },
  {
   "cell_type": "code",
   "execution_count": 193,
   "id": "f45df5ff",
   "metadata": {},
   "outputs": [
    {
     "name": "stdout",
     "output_type": "stream",
     "text": [
      "              precision    recall  f1-score   support\n",
      "\n",
      "           0       0.86      0.85      0.85     12500\n",
      "           1       0.85      0.87      0.86     12500\n",
      "\n",
      "    accuracy                           0.86     25000\n",
      "   macro avg       0.86      0.86      0.86     25000\n",
      "weighted avg       0.86      0.86      0.86     25000\n",
      "\n"
     ]
    }
   ],
   "source": [
    "print(classification_report(y_test['label_name'], y_pred))"
   ]
  },
  {
   "cell_type": "code",
   "execution_count": 194,
   "id": "ec790e3b",
   "metadata": {},
   "outputs": [
    {
     "data": {
      "image/png": "[encoded data removed]",
      "text/plain": [
       "<Figure size 360x360 with 2 Axes>"
      ]
     },
     "metadata": {
      "needs_background": "light"
     },
     "output_type": "display_data"
    }
   ],
   "source": [
    "plt.figure(figsize=(5,5)) \n",
    "_ = sns.heatmap(confusion_matrix(y_test['label_name'], y_pred), xticklabels=['neg', 'pos'], \\\n",
    "                yticklabels=['neg', 'pos'], cmap=rvb, fmt='g', square=True, annot=True)\n",
    "plt.title('Refined Confusion Matrix', fontsize=20, pad=20)\n",
    "plt.xlabel('Predicted', fontsize=20)\n",
    "plt.ylabel('True', fontsize=20)\n",
    "plt.yticks(rotation=0)\n",
    "plt.show()"
   ]
  },
  {
   "cell_type": "code",
   "execution_count": 201,
   "id": "367816ab",
   "metadata": {},
   "outputs": [],
   "source": [
    "# сохранение обученной модели в файл\n",
    "pickle.dump(logit,\n",
    "            open(os.path.join(dest, 'logit.pkl'), 'wb'),\n",
    "            protocol=4)"
   ]
  },
  {
   "cell_type": "markdown",
   "id": "288df092",
   "metadata": {},
   "source": [
    "## Предсказание вида для нового комментария (отзыва)"
   ]
  },
  {
   "cell_type": "code",
   "execution_count": 204,
   "id": "ebcc4df9",
   "metadata": {},
   "outputs": [
    {
     "name": "stdout",
     "output_type": "stream",
     "text": [
      "Введите секретный пароль:········\n"
     ]
    }
   ],
   "source": [
    "# безопасно запрашиваем ввод пароля в CLI\n",
    "password = getpass.getpass(prompt=\"Введите секретный пароль:\")"
   ]
  },
  {
   "cell_type": "code",
   "execution_count": 216,
   "id": "5c3bbaa8",
   "metadata": {},
   "outputs": [],
   "source": [
    "# создание подключения к базе данны\n",
    "connect = psycopg2.connect(database='sentiment',\n",
    "                           user='postgres',\n",
    "                           password=password,\n",
    "                           host='127.0.0.1',\n",
    "                           port='5432')"
   ]
  },
  {
   "cell_type": "code",
   "execution_count": 217,
   "id": "9db7a250",
   "metadata": {},
   "outputs": [],
   "source": [
    "# создание объекта курсора подключения к базе данных\n",
    "cursor = connect.cursor()"
   ]
  },
  {
   "cell_type": "code",
   "execution_count": 219,
   "id": "a2c29df3",
   "metadata": {},
   "outputs": [
    {
     "data": {
      "text/html": [
       "<div>\n",
       "<style scoped>\n",
       "    .dataframe tbody tr th:only-of-type {\n",
       "        vertical-align: middle;\n",
       "    }\n",
       "\n",
       "    .dataframe tbody tr th {\n",
       "        vertical-align: top;\n",
       "    }\n",
       "\n",
       "    .dataframe thead th {\n",
       "        text-align: right;\n",
       "    }\n",
       "</style>\n",
       "<table border=\"1\" class=\"dataframe\">\n",
       "  <thead>\n",
       "    <tr style=\"text-align: right;\">\n",
       "      <th></th>\n",
       "      <th>label_name</th>\n",
       "      <th>review</th>\n",
       "    </tr>\n",
       "  </thead>\n",
       "  <tbody>\n",
       "    <tr>\n",
       "      <th>0</th>\n",
       "      <td>unsup</td>\n",
       "      <td>a well done thriller with good acting and a gr...</td>\n",
       "    </tr>\n",
       "    <tr>\n",
       "      <th>1</th>\n",
       "      <td>unsup</td>\n",
       "      <td>Only one redeeming feature in this, the slowes...</td>\n",
       "    </tr>\n",
       "    <tr>\n",
       "      <th>2</th>\n",
       "      <td>unsup</td>\n",
       "      <td>Good Swedish comedy, which makes fun of Americ...</td>\n",
       "    </tr>\n",
       "    <tr>\n",
       "      <th>3</th>\n",
       "      <td>unsup</td>\n",
       "      <td>The Road Home is a delightful coming of age fi...</td>\n",
       "    </tr>\n",
       "    <tr>\n",
       "      <th>4</th>\n",
       "      <td>unsup</td>\n",
       "      <td>This film has a lot of heart in it, with excel...</td>\n",
       "    </tr>\n",
       "  </tbody>\n",
       "</table>\n",
       "</div>"
      ],
      "text/plain": [
       "  label_name                                             review\n",
       "0      unsup  a well done thriller with good acting and a gr...\n",
       "1      unsup  Only one redeeming feature in this, the slowes...\n",
       "2      unsup  Good Swedish comedy, which makes fun of Americ...\n",
       "3      unsup  The Road Home is a delightful coming of age fi...\n",
       "4      unsup  This film has a lot of heart in it, with excel..."
      ]
     },
     "execution_count": 219,
     "metadata": {},
     "output_type": "execute_result"
    }
   ],
   "source": [
    "# выгрузка данных\n",
    "cursor.execute(\"\"\"SELECT label_name, review \\\n",
    "                  FROM sentiment\n",
    "                  INNER JOIN label ON label.id = sentiment.label_id\n",
    "                  INNER JOIN data ON data.id = sentiment.data_id\n",
    "                  WHERE label_name = 'unsup';\"\"\")\n",
    "sentiments = cursor.fetchall()\n",
    "# преобразование в DataFrame\n",
    "df_new_sentiments = pd.DataFrame(sentiments, columns=[_.name for _ in cursor.description])\n",
    "df_new_sentiments.head()"
   ]
  },
  {
   "cell_type": "code",
   "execution_count": 236,
   "id": "794ae59d",
   "metadata": {},
   "outputs": [
    {
     "data": {
      "text/plain": [
       "'OK the much awaited movie. Aamir after RDB and Kajol after a long break. The movie starts off with some brilliant locales and Kajol going to Delhi for a dance program where she encounters Rehan (Aamir'"
      ]
     },
     "execution_count": 236,
     "metadata": {},
     "output_type": "execute_result"
    }
   ],
   "source": [
    "# случайный (новый) договор\n",
    "review = df_new_sentiments['review'].sample(1).values[0]\n",
    "review[:200]"
   ]
  },
  {
   "cell_type": "code",
   "execution_count": 224,
   "id": "45ed5a0c",
   "metadata": {},
   "outputs": [],
   "source": [
    "def review_lower(review):\n",
    "    \n",
    "    return pd.Series(review.lower())"
   ]
  },
  {
   "cell_type": "code",
   "execution_count": 225,
   "id": "353d57d9",
   "metadata": {},
   "outputs": [
    {
     "data": {
      "text/plain": [
       "0    yes, this remake is funnier than the original,...\n",
       "dtype: object"
      ]
     },
     "execution_count": 225,
     "metadata": {},
     "output_type": "execute_result"
    }
   ],
   "source": [
    "review = review_lower(review)\n",
    "review[:200]"
   ]
  },
  {
   "cell_type": "code",
   "execution_count": 226,
   "id": "d51aa7ce",
   "metadata": {},
   "outputs": [],
   "source": [
    "# применение векторайзера\n",
    "review_test = vectorizer.transform(review)"
   ]
  },
  {
   "cell_type": "code",
   "execution_count": 227,
   "id": "98b73897",
   "metadata": {},
   "outputs": [
    {
     "data": {
      "text/plain": [
       "0"
      ]
     },
     "execution_count": 227,
     "metadata": {},
     "output_type": "execute_result"
    }
   ],
   "source": [
    "# получение предсказаного номера класса\n",
    "class_number = logit.predict(review_test)[0]\n",
    "class_number"
   ]
  },
  {
   "cell_type": "code",
   "execution_count": 229,
   "id": "97a17a6e",
   "metadata": {},
   "outputs": [
    {
     "data": {
      "text/plain": [
       "{1: 'pos', 0: 'neg'}"
      ]
     },
     "execution_count": 229,
     "metadata": {},
     "output_type": "execute_result"
    }
   ],
   "source": [
    "label_revers =  {v:k for k, v in label.items()}\n",
    "label_revers"
   ]
  },
  {
   "cell_type": "code",
   "execution_count": 230,
   "id": "e91ca9ad",
   "metadata": {},
   "outputs": [
    {
     "data": {
      "text/plain": [
       "'neg'"
      ]
     },
     "execution_count": 230,
     "metadata": {},
     "output_type": "execute_result"
    }
   ],
   "source": [
    "label_revers[class_number]"
   ]
  },
  {
   "cell_type": "code",
   "execution_count": 232,
   "id": "0d7aba64",
   "metadata": {},
   "outputs": [
    {
     "data": {
      "text/plain": [
       "0.8436859519033797"
      ]
     },
     "execution_count": 232,
     "metadata": {},
     "output_type": "execute_result"
    }
   ],
   "source": [
    "logit.predict_proba(review_test).max()"
   ]
  },
  {
   "cell_type": "code",
   "execution_count": 242,
   "id": "9cfad7ec",
   "metadata": {},
   "outputs": [],
   "source": [
    "from pony.orm import *\n",
    "from models import db"
   ]
  },
  {
   "cell_type": "code",
   "execution_count": 245,
   "id": "b5b8abcd",
   "metadata": {},
   "outputs": [
    {
     "name": "stdout",
     "output_type": "stream",
     "text": [
      "sentiment_id|date      |review                                      |rating_pred\n",
      "------------+----------+--------------------------------------------+-----------\n",
      "1           |2023-03-23|I think the difference between good and b...|None       \n"
     ]
    }
   ],
   "source": [
    "db.Sentiment_New.select().show()"
   ]
  },
  {
   "cell_type": "code",
   "execution_count": null,
   "id": "ff8d1d2d",
   "metadata": {},
   "outputs": [],
   "source": []
  }
 ],
 "metadata": {
  "kernelspec": {
   "display_name": "Python 3 (ipykernel)",
   "language": "python",
   "name": "python3"
  },
  "language_info": {
   "codemirror_mode": {
    "name": "ipython",
    "version": 3
   },
   "file_extension": ".py",
   "mimetype": "text/x-python",
   "name": "python",
   "nbconvert_exporter": "python",
   "pygments_lexer": "ipython3",
   "version": "3.9.12"
  }
 },
 "nbformat": 4,
 "nbformat_minor": 5
}
