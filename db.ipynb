{
 "cells": [
  {
   "cell_type": "code",
   "execution_count": null,
   "id": "5da50269",
   "metadata": {},
   "outputs": [],
   "source": [
    "#pip install pony"
   ]
  },
  {
   "cell_type": "code",
   "execution_count": 1,
   "id": "693f9bc7",
   "metadata": {},
   "outputs": [],
   "source": [
    "# импорт необходимых библеотек\n",
    "from pony.orm import *\n",
    "import getpass\n",
    "import psycopg2\n",
    "from datetime import date\n",
    "#from models import db"
   ]
  },
  {
   "cell_type": "code",
   "execution_count": 2,
   "id": "79098d14",
   "metadata": {},
   "outputs": [
    {
     "name": "stdout",
     "output_type": "stream",
     "text": [
      "Введите секретный пароль:········\n"
     ]
    }
   ],
   "source": [
    "# безопасно запрашиваем ввод пароля в CLI\n",
    "password = getpass.getpass(prompt=\"Введите секретный пароль:\")"
   ]
  },
  {
   "cell_type": "markdown",
   "id": "ee5a40b9",
   "metadata": {},
   "source": [
    "# Создание базы данных Sentiment"
   ]
  },
  {
   "cell_type": "code",
   "execution_count": 3,
   "id": "e7e5857f",
   "metadata": {},
   "outputs": [
    {
     "name": "stdout",
     "output_type": "stream",
     "text": [
      "База данных успешно открыта\n"
     ]
    }
   ],
   "source": [
    "# создание подключения к базе данных 'postgres'\n",
    "connect = psycopg2.connect(database='postgres',\n",
    "                       user='postgres',\n",
    "                       password=password,\n",
    "                       host='127.0.0.1',\n",
    "                       port='5432')\n",
    "\n",
    "print('База данных успешно открыта')"
   ]
  },
  {
   "cell_type": "code",
   "execution_count": 4,
   "id": "a425acd8",
   "metadata": {},
   "outputs": [],
   "source": [
    "# задание 'autocommit'\n",
    "connect.autocommit = True"
   ]
  },
  {
   "cell_type": "code",
   "execution_count": 5,
   "id": "5588902b",
   "metadata": {},
   "outputs": [],
   "source": [
    "# создание объекта курсора подключения к базе данных 'postgres'\n",
    "cursor = connect.cursor()"
   ]
  },
  {
   "cell_type": "code",
   "execution_count": 7,
   "id": "4f649ec6",
   "metadata": {},
   "outputs": [],
   "source": [
    "# создание базы данных 'sentiment'\n",
    "cursor.execute(\"CREATE database sentiment\")"
   ]
  },
  {
   "cell_type": "code",
   "execution_count": 6,
   "id": "ea8e1826",
   "metadata": {},
   "outputs": [],
   "source": [
    "# закрытие подключения к базе данных 'postgres'\n",
    "connect.close()"
   ]
  },
  {
   "cell_type": "markdown",
   "id": "feccc428",
   "metadata": {},
   "source": [
    "# Cоздание модели данных Sentiment"
   ]
  },
  {
   "cell_type": "code",
   "execution_count": 3,
   "id": "4b62ca95",
   "metadata": {},
   "outputs": [],
   "source": [
    "# создание объекта подключения к базе данных\n",
    "db = Database()"
   ]
  },
  {
   "cell_type": "code",
   "execution_count": 4,
   "id": "16294501",
   "metadata": {},
   "outputs": [],
   "source": [
    "# подключение к базе данных 'sentiment' PostgreSQL\n",
    "db.bind(provider='postgres', user='postgres', password=password,\n",
    "        host='127.0.0.1', database='sentiment', port='5432')"
   ]
  },
  {
   "cell_type": "markdown",
   "id": "9fa343bd",
   "metadata": {},
   "source": [
    "[Модель данных](https://editor.ponyorm.com/user/RusLat/sentiment/designer)"
   ]
  },
  {
   "cell_type": "markdown",
   "id": "001a3717",
   "metadata": {},
   "source": [
    "<img src='images/sentiment.png'>"
   ]
  },
  {
   "cell_type": "code",
   "execution_count": 5,
   "id": "50103d2b",
   "metadata": {},
   "outputs": [],
   "source": [
    "# модель данных\n",
    "class Sentiment(db.Entity):\n",
    "    \"\"\"комментарии (отзывы) пользователей\"\"\"\n",
    "    _resource_ = 'https://www.imdb.com/'\n",
    "    sentiment_id = PrimaryKey(int, column='sentiment_id', auto=True)  # идентификатор комментария (отзыва)\n",
    "    rating = Optional(int, column='rating')  # рейтинг комментария (отзыва)\n",
    "    review = Required(str, column='review')  # комментарий (отзыв) пользователя\n",
    "    label_id = Required('Label')  # идентификатор типа комментария (отзыва)\n",
    "    data_id = Required('Data', column='data_id')  # идентификатор выборки\n",
    "    title_id = Required('Title', column='title_id')  # идентификатор url фильма\n",
    "\n",
    "\n",
    "class Title(db.Entity):\n",
    "    \"\"\"url фильмов\"\"\"\n",
    "    _resource_ = 'https://www.imdb.com/'\n",
    "    title_id = Set(Sentiment)  # идентификатор url фильма\n",
    "    title_url = Required(str, unique=True, column='title_url')  # url фильма\n",
    "\n",
    "\n",
    "class Data(db.Entity):\n",
    "    \"\"\"тип выборки\"\"\"\n",
    "    _resource_ = 'https://www.imdb.com/'\n",
    "    data_id = Set(Sentiment)  # идентификатор выборки\n",
    "    data_name = Required(str, unique=True, column='data_name')  # наименование выборки\n",
    "\n",
    "\n",
    "class Label(db.Entity):\n",
    "    \"\"\"тип комментариев (отзывов)\"\"\"\n",
    "    _resource_ = 'https://www.imdb.com/'\n",
    "    label_id = Set(Sentiment)  # идентификатор типа комментария (отзыва)\n",
    "    label_name = Required(str, unique=True, column='label_name')  # тип комментария (отзыва)\n",
    "\n",
    "\n",
    "class Sentiment_New(db.Entity):\n",
    "    \"\"\"комментарии (отзывы) пользователей\"\"\"\n",
    "    sentiment_id = PrimaryKey(int, column='sentiment_id', auto=True)  # идентификатор комментария (отзыва)\n",
    "    date = Required(date, column='date')  # дата комментария (отзыва)\n",
    "    review = Required(str, column='review')  # комментарий (отзыв) пользователя\n",
    "    rating_pred = Optional(int, column='rating_pred')  # предсказанный рейтинг комментария (отзыва)"
   ]
  },
  {
   "cell_type": "code",
   "execution_count": 6,
   "id": "0b7cca1d",
   "metadata": {},
   "outputs": [],
   "source": [
    "#db.generate_mapping()\n",
    "#db.drop_all_tables(with_all_data=True)"
   ]
  },
  {
   "cell_type": "code",
   "execution_count": 7,
   "id": "a83c1883",
   "metadata": {},
   "outputs": [],
   "source": [
    "# создание таблиц\n",
    "db.generate_mapping(create_tables=True)"
   ]
  },
  {
   "cell_type": "code",
   "execution_count": null,
   "id": "93031e04",
   "metadata": {},
   "outputs": [],
   "source": []
  }
 ],
 "metadata": {
  "kernelspec": {
   "display_name": "Python 3 (ipykernel)",
   "language": "python",
   "name": "python3"
  },
  "language_info": {
   "codemirror_mode": {
    "name": "ipython",
    "version": 3
   },
   "file_extension": ".py",
   "mimetype": "text/x-python",
   "name": "python",
   "nbconvert_exporter": "python",
   "pygments_lexer": "ipython3",
   "version": "3.9.12"
  }
 },
 "nbformat": 4,
 "nbformat_minor": 5
}
