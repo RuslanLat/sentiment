{
 "cells": [
  {
   "cell_type": "code",
   "execution_count": 3,
   "id": "ebc9cfb0",
   "metadata": {},
   "outputs": [],
   "source": [
    "#pip install gensim\n",
    "#pip install --upgrade gensim"
   ]
  },
  {
   "cell_type": "code",
   "execution_count": 2,
   "id": "e2ef6810",
   "metadata": {},
   "outputs": [],
   "source": [
    "#pip install --upgrade numpy"
   ]
  },
  {
   "cell_type": "code",
   "execution_count": 1,
   "id": "11bbc892",
   "metadata": {},
   "outputs": [],
   "source": [
    "import gensim"
   ]
  },
  {
   "cell_type": "code",
   "execution_count": 4,
   "id": "2c1b6236",
   "metadata": {},
   "outputs": [],
   "source": [
    "from gensim.models import Word2Vec, FastText"
   ]
  },
  {
   "cell_type": "code",
   "execution_count": 5,
   "id": "a514b629",
   "metadata": {},
   "outputs": [],
   "source": [
    "import pandas as pd\n",
    "import re\n",
    "\n",
    "from sklearn.decomposition import PCA\n",
    "\n",
    "from matplotlib import pyplot as plt\n",
    "import plotly.graph_objects as go\n",
    "\n",
    "import numpy as np\n",
    "\n",
    "import warnings\n",
    "warnings.filterwarnings('ignore')"
   ]
  },
  {
   "cell_type": "code",
   "execution_count": 6,
   "id": "23fc442e",
   "metadata": {},
   "outputs": [
    {
     "data": {
      "text/html": [
       "<div>\n",
       "<style scoped>\n",
       "    .dataframe tbody tr th:only-of-type {\n",
       "        vertical-align: middle;\n",
       "    }\n",
       "\n",
       "    .dataframe tbody tr th {\n",
       "        vertical-align: top;\n",
       "    }\n",
       "\n",
       "    .dataframe thead th {\n",
       "        text-align: right;\n",
       "    }\n",
       "</style>\n",
       "<table border=\"1\" class=\"dataframe\">\n",
       "  <thead>\n",
       "    <tr style=\"text-align: right;\">\n",
       "      <th></th>\n",
       "      <th>data_name</th>\n",
       "      <th>label_name</th>\n",
       "      <th>rating</th>\n",
       "      <th>review</th>\n",
       "    </tr>\n",
       "  </thead>\n",
       "  <tbody>\n",
       "    <tr>\n",
       "      <th>0</th>\n",
       "      <td>train</td>\n",
       "      <td>pos</td>\n",
       "      <td>9</td>\n",
       "      <td>bromwell high is a cartoon comedy it ran at th...</td>\n",
       "    </tr>\n",
       "    <tr>\n",
       "      <th>1</th>\n",
       "      <td>train</td>\n",
       "      <td>pos</td>\n",
       "      <td>8</td>\n",
       "      <td>homelessness or houselessness as george carlin...</td>\n",
       "    </tr>\n",
       "    <tr>\n",
       "      <th>2</th>\n",
       "      <td>train</td>\n",
       "      <td>pos</td>\n",
       "      <td>10</td>\n",
       "      <td>brilliant over acting by lesley ann warren bes...</td>\n",
       "    </tr>\n",
       "    <tr>\n",
       "      <th>3</th>\n",
       "      <td>train</td>\n",
       "      <td>pos</td>\n",
       "      <td>7</td>\n",
       "      <td>this is easily the most underrated film inn th...</td>\n",
       "    </tr>\n",
       "    <tr>\n",
       "      <th>4</th>\n",
       "      <td>train</td>\n",
       "      <td>pos</td>\n",
       "      <td>8</td>\n",
       "      <td>this is not the typical mel brooks film it was...</td>\n",
       "    </tr>\n",
       "  </tbody>\n",
       "</table>\n",
       "</div>"
      ],
      "text/plain": [
       "  data_name label_name  rating  \\\n",
       "0     train        pos       9   \n",
       "1     train        pos       8   \n",
       "2     train        pos      10   \n",
       "3     train        pos       7   \n",
       "4     train        pos       8   \n",
       "\n",
       "                                              review  \n",
       "0  bromwell high is a cartoon comedy it ran at th...  \n",
       "1  homelessness or houselessness as george carlin...  \n",
       "2  brilliant over acting by lesley ann warren bes...  \n",
       "3  this is easily the most underrated film inn th...  \n",
       "4  this is not the typical mel brooks film it was...  "
      ]
     },
     "execution_count": 6,
     "metadata": {},
     "output_type": "execute_result"
    }
   ],
   "source": [
    "# загрузка данных\n",
    "df_sentiments = pd.read_csv('data/sentiments.csv')\n",
    "df_sentiments.head()"
   ]
  },
  {
   "cell_type": "code",
   "execution_count": 7,
   "id": "f2ac2a90",
   "metadata": {},
   "outputs": [],
   "source": [
    "sentences = [['i', 'like', 'apple', 'pie', 'for', 'dessert'],\n",
    "           ['i', 'dont', 'drive', 'fast', 'cars'],\n",
    "           ['data', 'science', 'is', 'fun'],\n",
    "           ['chocolate', 'is', 'my', 'favorite'],\n",
    "           ['my', 'favorite', 'movie', 'is', 'predator']]"
   ]
  },
  {
   "cell_type": "code",
   "execution_count": 32,
   "id": "bac20eb6",
   "metadata": {},
   "outputs": [
    {
     "name": "stdout",
     "output_type": "stream",
     "text": [
      "Word2Vec<vocab=19, vector_size=10, alpha=0.025>\n"
     ]
    }
   ],
   "source": [
    "# train word2vec model\n",
    "w2v = Word2Vec(sentences, min_count=1, vector_size = 10)\n",
    "\n",
    "print(w2v)\n",
    "#word2vec(vocab=19, size=5, alpha=0.025)"
   ]
  },
  {
   "cell_type": "code",
   "execution_count": 33,
   "id": "57e9a749",
   "metadata": {},
   "outputs": [
    {
     "name": "stdout",
     "output_type": "stream",
     "text": [
      "[-0.037098   -0.08745642  0.05437467  0.06509756 -0.0078755  -0.06709856\n",
      " -0.07085925 -0.0249706   0.05143254 -0.03665238]\n"
     ]
    }
   ],
   "source": [
    "# access vector for one word\n",
    "print(w2v.wv.get_vector('chocolate'))\n",
    "\n",
    "#[-0.04609262 -0.04943436 -0.08968851 -0.08428907  0.01970964]"
   ]
  },
  {
   "cell_type": "code",
   "execution_count": 34,
   "id": "52759c54",
   "metadata": {},
   "outputs": [
    {
     "name": "stdout",
     "output_type": "stream",
     "text": [
      "['is', 'i', 'favorite', 'my', 'drive', 'like', 'apple', 'pie', 'for', 'dessert', 'dont', 'predator', 'fast', 'movie', 'data', 'science', 'fun', 'chocolate', 'cars']\n"
     ]
    }
   ],
   "source": [
    "#list the vocabulary words\n",
    "words = list(w2v.wv.index_to_key)\n",
    "print(words)"
   ]
  },
  {
   "cell_type": "code",
   "execution_count": 35,
   "id": "c86c94f8",
   "metadata": {},
   "outputs": [
    {
     "data": {
      "text/plain": [
       "{'is': 0,\n",
       " 'i': 1,\n",
       " 'favorite': 2,\n",
       " 'my': 3,\n",
       " 'drive': 4,\n",
       " 'like': 5,\n",
       " 'apple': 6,\n",
       " 'pie': 7,\n",
       " 'for': 8,\n",
       " 'dessert': 9,\n",
       " 'dont': 10,\n",
       " 'predator': 11,\n",
       " 'fast': 12,\n",
       " 'movie': 13,\n",
       " 'data': 14,\n",
       " 'science': 15,\n",
       " 'fun': 16,\n",
       " 'chocolate': 17,\n",
       " 'cars': 18}"
      ]
     },
     "execution_count": 35,
     "metadata": {},
     "output_type": "execute_result"
    }
   ],
   "source": [
    "#or show the dictionary of vocab words\n",
    "w2v.wv.key_to_index"
   ]
  },
  {
   "cell_type": "code",
   "execution_count": 36,
   "id": "c4a279fc",
   "metadata": {},
   "outputs": [
    {
     "data": {
      "text/plain": [
       "array([[-0.0053623 ,  0.00236116,  0.05103017,  0.09009387, -0.09303314,\n",
       "        -0.0711616 ,  0.06460176,  0.08973071, -0.05015191, -0.03762693],\n",
       "       [ 0.07380505, -0.01533471, -0.04536613,  0.06554051, -0.0486016 ,\n",
       "        -0.01816018,  0.0287658 ,  0.00991874, -0.08285215, -0.09448818],\n",
       "       [ 0.07311766,  0.05070262,  0.06757693,  0.00762866,  0.06350891,\n",
       "        -0.03405366, -0.00946401,  0.05768573, -0.07521638, -0.03936104],\n",
       "       [-0.07511582, -0.00930042,  0.09538119, -0.07319167, -0.02333769,\n",
       "        -0.01937741,  0.08077437, -0.05930896,  0.00045162, -0.04753734],\n",
       "       [-0.0960355 ,  0.05007293, -0.08759586, -0.04391825, -0.000351  ,\n",
       "        -0.00296181, -0.0766124 ,  0.09614743,  0.04982058,  0.09233143],\n",
       "       [-0.08157917,  0.04495798, -0.04137076,  0.00824536,  0.08498619,\n",
       "        -0.04462177,  0.045175  , -0.0678696 , -0.03548489,  0.09398508],\n",
       "       [-0.01577653,  0.00321372, -0.0414063 , -0.07682689, -0.01508008,\n",
       "         0.02469795, -0.00888027,  0.05533662, -0.02742977,  0.02260065],\n",
       "       [ 0.05455794,  0.08345953, -0.01453741, -0.09208143,  0.04370552,\n",
       "         0.00571785,  0.07441908, -0.00813283, -0.02638414, -0.08753009],\n",
       "       [-0.00856481,  0.02826856,  0.05402294,  0.07053363, -0.05702735,\n",
       "         0.01859495,  0.06088584, -0.04799206, -0.03107474,  0.06798916],\n",
       "       [ 0.01631476,  0.00189917,  0.03473637,  0.00217777,  0.09618826,\n",
       "         0.05060603, -0.0891739 , -0.0704156 ,  0.00901456,  0.06392534],\n",
       "       [-0.08619688,  0.03665738,  0.05189884,  0.05741938,  0.07466918,\n",
       "        -0.06167675,  0.01105614,  0.06047282, -0.0284005 , -0.06173522],\n",
       "       [-0.00410271, -0.0836872 , -0.05599634,  0.07105098,  0.03351836,\n",
       "         0.07225548,  0.06800757,  0.07530598, -0.03789501, -0.00561606],\n",
       "       [ 0.02348376, -0.04519032,  0.08388732, -0.09858163,  0.06764641,\n",
       "         0.02914417, -0.04932832,  0.04398187, -0.01739575,  0.06711384],\n",
       "       [ 0.0996485 , -0.04362444, -0.00599338, -0.05695637,  0.03850823,\n",
       "         0.02786627,  0.06891076,  0.06101096,  0.09538497,  0.09273417],\n",
       "       [ 0.07897998, -0.06989808, -0.0915609 , -0.00355706, -0.03099829,\n",
       "         0.07895215,  0.05939749, -0.01545787,  0.01511321,  0.01791064],\n",
       "       [ 0.07816273, -0.09509632, -0.00205835,  0.03469152, -0.00939223,\n",
       "         0.08382883,  0.09013058,  0.06535453, -0.0071078 ,  0.07712148],\n",
       "       [-0.08534668,  0.03207314, -0.04638022, -0.05088747,  0.03588944,\n",
       "         0.05370307,  0.07770452, -0.05766528,  0.07433346,  0.06625669],\n",
       "       [-0.037098  , -0.08745642,  0.05437467,  0.06509756, -0.0078755 ,\n",
       "        -0.06709856, -0.07085925, -0.0249706 ,  0.05143254, -0.03665238],\n",
       "       [-0.0937006 ,  0.0382674 ,  0.04884479, -0.06428564,  0.01208558,\n",
       "        -0.02074877,  0.00024403, -0.09883509,  0.02692004, -0.04750106]],\n",
       "      dtype=float32)"
      ]
     },
     "execution_count": 36,
     "metadata": {},
     "output_type": "execute_result"
    }
   ],
   "source": [
    "w2v.wv.vectors"
   ]
  },
  {
   "cell_type": "code",
   "execution_count": 37,
   "id": "8a017c71",
   "metadata": {},
   "outputs": [
    {
     "data": {
      "text/plain": [
       "(19, 10)"
      ]
     },
     "execution_count": 37,
     "metadata": {},
     "output_type": "execute_result"
    }
   ],
   "source": [
    "w2v.wv.vectors.shape"
   ]
  },
  {
   "cell_type": "code",
   "execution_count": 38,
   "id": "618c1f59",
   "metadata": {},
   "outputs": [
    {
     "data": {
      "image/png": "[encoded data removed]",
      "text/plain": [
       "<Figure size 864x720 with 1 Axes>"
      ]
     },
     "metadata": {
      "needs_background": "light"
     },
     "output_type": "display_data"
    }
   ],
   "source": [
    "X = w2v.wv.vectors\n",
    "pca = PCA(n_components=2)\n",
    "\n",
    "result = pca.fit_transform(X)\n",
    "\n",
    "plt.figure(figsize=(12,10))\n",
    "# create a scatter plot of the projection\n",
    "plt.scatter(result[:, 0], result[:, 1])\n",
    "\n",
    "for i, word in enumerate(words):\n",
    "    plt.annotate(word, xy=(result[i, 0], result[i, 1]))\n",
    "\n",
    "plt.show()"
   ]
  },
  {
   "cell_type": "code",
   "execution_count": null,
   "id": "9bc668fa",
   "metadata": {},
   "outputs": [],
   "source": []
  }
 ],
 "metadata": {
  "kernelspec": {
   "display_name": "Python 3 (ipykernel)",
   "language": "python",
   "name": "python3"
  },
  "language_info": {
   "codemirror_mode": {
    "name": "ipython",
    "version": 3
   },
   "file_extension": ".py",
   "mimetype": "text/x-python",
   "name": "python",
   "nbconvert_exporter": "python",
   "pygments_lexer": "ipython3",
   "version": "3.9.12"
  }
 },
 "nbformat": 4,
 "nbformat_minor": 5
}
